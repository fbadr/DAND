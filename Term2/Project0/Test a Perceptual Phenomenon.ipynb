{
 "cells": [
  {
   "cell_type": "markdown",
   "metadata": {},
   "source": [
    "### Analyzing the Stroop Effect\n",
    "Perform the analysis in the space below. Remember to follow [the instructions](https://docs.google.com/document/d/1-OkpZLjG_kX9J6LIQ5IltsqMzVWjh36QpnP2RYpVdPU/pub?embedded=True) and review the [project rubric](https://review.udacity.com/#!/rubrics/71/view) before submitting. Once you've completed the analysis and write up, download this file as a PDF or HTML file and submit in the final section of this lesson.\n",
    "\n",
    "\n",
    "(1) What is the independent variable? What is the dependent variable?"
   ]
  },
  {
   "cell_type": "markdown",
   "metadata": {},
   "source": [
    "The __independent variable__ is the congruency between the font color and the words name.  <br>\n",
    "The __dependent variable__ is the time taken to name the word font color (Response/reaction time). "
   ]
  },
  {
   "cell_type": "markdown",
   "metadata": {},
   "source": [
    "(2) What is an appropriate set of hypotheses for this task? Specify your null and alternative hypotheses, and clearly define any notation used. Justify your choices."
   ]
  },
  {
   "cell_type": "markdown",
   "metadata": {},
   "source": [
    "__Null hypothesis__: <br>\n",
    "There is no difference between the incongruent cases and congruent cases response time or\n",
    "there is a decrease in the amount of time taken to name the word printed color of incongruent words than to name the printed color of congruent words.<br><br> \n",
    "\n",
    "__Alternative Hypothesis__:\n",
    "\n",
    "There is an increase in the amount of time it takes to identify and name the printed color of incongruent words.<br>\n",
    "\n",
    "$$ H_0: \\mu_i - \\mu_c \\leq 0  $$\n",
    "$$  H_1: \\mu_i - \\mu_c > 0  $$\n",
    "\n",
    "Where $\\mu_i$ is the incongruent cases group population mean <br>\n",
    "and $\\mu_c$ is the congruent cases group population mean <br>\n",
    "<br> we will compare the mean of 2 populations.\n"
   ]
  },
  {
   "cell_type": "markdown",
   "metadata": {},
   "source": [
    "(3) Report some descriptive statistics regarding this dataset. Include at least one measure of central tendency and at least one measure of variability. The name of the data file is 'stroopdata.csv'."
   ]
  },
  {
   "cell_type": "markdown",
   "metadata": {},
   "source": [
    "__Measure of central Tendency__:\n",
    "\n",
    "__mean__: <br>\n",
    "congruent sample mean: __14.051__<br>\n",
    "incongruent sample mean: __22.016__ <br>\n",
    "\n",
    "__median__: <br>\n",
    "congruent sample median: __14.356__<br> \n",
    "incongruent sample median: __21.017__ <br> \n",
    "\n",
    "__Measure of Variability__:<br>\n",
    "\n",
    "__standard deviation__:<br>\n",
    "congruent sample Standard deviation : __3.559__<br>\n",
    "incongruent sample Standard deviation: __4.797__\n",
    "\n",
    "\n",
    "\n",
    "\n",
    "\n"
   ]
  },
  {
   "cell_type": "code",
   "execution_count": 1,
   "metadata": {
    "collapsed": true
   },
   "outputs": [],
   "source": [
    "import pandas as pd\n",
    "import matplotlib.pyplot as plt\n",
    "import seaborn as sns\n",
    "%matplotlib inline"
   ]
  },
  {
   "cell_type": "code",
   "execution_count": 2,
   "metadata": {},
   "outputs": [
    {
     "data": {
      "text/html": [
       "<div>\n",
       "<style>\n",
       "    .dataframe thead tr:only-child th {\n",
       "        text-align: right;\n",
       "    }\n",
       "\n",
       "    .dataframe thead th {\n",
       "        text-align: left;\n",
       "    }\n",
       "\n",
       "    .dataframe tbody tr th {\n",
       "        vertical-align: top;\n",
       "    }\n",
       "</style>\n",
       "<table border=\"1\" class=\"dataframe\">\n",
       "  <thead>\n",
       "    <tr style=\"text-align: right;\">\n",
       "      <th></th>\n",
       "      <th>Congruent</th>\n",
       "      <th>Incongruent</th>\n",
       "    </tr>\n",
       "  </thead>\n",
       "  <tbody>\n",
       "    <tr>\n",
       "      <th>count</th>\n",
       "      <td>24.000000</td>\n",
       "      <td>24.000000</td>\n",
       "    </tr>\n",
       "    <tr>\n",
       "      <th>mean</th>\n",
       "      <td>14.051125</td>\n",
       "      <td>22.015917</td>\n",
       "    </tr>\n",
       "    <tr>\n",
       "      <th>std</th>\n",
       "      <td>3.559358</td>\n",
       "      <td>4.797057</td>\n",
       "    </tr>\n",
       "    <tr>\n",
       "      <th>min</th>\n",
       "      <td>8.630000</td>\n",
       "      <td>15.687000</td>\n",
       "    </tr>\n",
       "    <tr>\n",
       "      <th>25%</th>\n",
       "      <td>11.895250</td>\n",
       "      <td>18.716750</td>\n",
       "    </tr>\n",
       "    <tr>\n",
       "      <th>50%</th>\n",
       "      <td>14.356500</td>\n",
       "      <td>21.017500</td>\n",
       "    </tr>\n",
       "    <tr>\n",
       "      <th>75%</th>\n",
       "      <td>16.200750</td>\n",
       "      <td>24.051500</td>\n",
       "    </tr>\n",
       "    <tr>\n",
       "      <th>max</th>\n",
       "      <td>22.328000</td>\n",
       "      <td>35.255000</td>\n",
       "    </tr>\n",
       "  </tbody>\n",
       "</table>\n",
       "</div>"
      ],
      "text/plain": [
       "       Congruent  Incongruent\n",
       "count  24.000000    24.000000\n",
       "mean   14.051125    22.015917\n",
       "std     3.559358     4.797057\n",
       "min     8.630000    15.687000\n",
       "25%    11.895250    18.716750\n",
       "50%    14.356500    21.017500\n",
       "75%    16.200750    24.051500\n",
       "max    22.328000    35.255000"
      ]
     },
     "execution_count": 2,
     "metadata": {},
     "output_type": "execute_result"
    }
   ],
   "source": [
    "df = pd.read_csv('stroopdata.csv')\n",
    "df.describe()"
   ]
  },
  {
   "cell_type": "code",
   "execution_count": 3,
   "metadata": {},
   "outputs": [
    {
     "name": "stdout",
     "output_type": "stream",
     "text": [
      "<class 'pandas.core.frame.DataFrame'>\n",
      "RangeIndex: 24 entries, 0 to 23\n",
      "Data columns (total 2 columns):\n",
      "Congruent      24 non-null float64\n",
      "Incongruent    24 non-null float64\n",
      "dtypes: float64(2)\n",
      "memory usage: 424.0 bytes\n"
     ]
    }
   ],
   "source": [
    "df.info()"
   ]
  },
  {
   "cell_type": "code",
   "execution_count": 4,
   "metadata": {},
   "outputs": [
    {
     "name": "stdout",
     "output_type": "stream",
     "text": [
      "congruent median: 14.3565, incongruent median: 21.0175\n"
     ]
    }
   ],
   "source": [
    "#measure of Central tendency\n",
    "congruent_median = df['Congruent'].median()\n",
    "incongruent_median = df['Incongruent'].median()\n",
    "print ('congruent median: {0}, incongruent median: {1}'.format(congruent_median, incongruent_median))"
   ]
  },
  {
   "cell_type": "markdown",
   "metadata": {},
   "source": [
    "(4) Provide one or two visualizations that show the distribution of the sample data. Write one or two sentences noting what you observe about the plot or plots."
   ]
  },
  {
   "cell_type": "code",
   "execution_count": 5,
   "metadata": {},
   "outputs": [
    {
     "data": {
      "image/png": "[encoded data removed]",
      "text/plain": [
       "<matplotlib.figure.Figure at 0x10bfce30>"
      ]
     },
     "metadata": {},
     "output_type": "display_data"
    }
   ],
   "source": [
    "# kde+histogram\n",
    "plt.figure(figsize=(8,5))\n",
    "sns.set_style(\"whitegrid\")\n",
    "g=sns.distplot(df['Congruent'], axlabel= 'response time', label='congruent', bins=4)\n",
    "g=sns.distplot(df['Incongruent'], color='red', label='incongruent', bins=4)\n",
    "g.set(xlabel='response time')\n",
    "g.set_title('response time congruent sample vs incongruent sample')\n",
    "g.legend();\n"
   ]
  },
  {
   "cell_type": "code",
   "execution_count": 6,
   "metadata": {},
   "outputs": [
    {
     "data": {
      "image/png": "[encoded data removed]",
      "text/plain": [
       "<matplotlib.figure.Figure at 0x10bfc4f0>"
      ]
     },
     "metadata": {},
     "output_type": "display_data"
    }
   ],
   "source": [
    "#Boxplot\n",
    "ax=df.plot(kind='box', figsize=[10,6], fontsize=15);\n",
    "ax.set_ylabel(\"response time\", fontsize=15)\n",
    "ax.set_title(\"response time congruent & incogruent\", fontsize=17);"
   ]
  },
  {
   "cell_type": "markdown",
   "metadata": {},
   "source": [
    "From the histogram we can say that the congruent sample tend to have an almost symmetrical distribution and from the measure of central tendency we had median=14.356 a little bit greater than mean=14.05.<br>\n",
    "The incongruent sample distribution is a little bit skewed to the right. This could be due the suspected outliers points found in the box plot.<br> \n",
    "Based on the histograms and the median and mean computed we can consider consider both samples as normally distributed.\n",
    "\n",
    "\n",
    "\n",
    "\n",
    "\n",
    "\n"
   ]
  },
  {
   "cell_type": "markdown",
   "metadata": {},
   "source": [
    "(5)  Now, perform the statistical test and report your results. What is your confidence level or Type I error associated with your test? What is your conclusion regarding the hypotheses you set up? Did the results match up with your expectations? **Hint:**  Think about what is being measured on each individual, and what statistic best captures how an individual reacts in each environment."
   ]
  },
  {
   "cell_type": "markdown",
   "metadata": {},
   "source": [
    "1) Sample size equal 24<br>\n",
    "2) Since the same participants are tested under 2 conditions congruent words condition and incongruent words condition and the response time in both is observed. <br> \n",
    "Thus the observation in the congruent sample can be paired with the observation in the incongruent sample. The 2 samples are dependent on each other.<br>\n",
    "\n",
    "We can perform a paired t-Test to compare the 2 population means using 'scipy.stats.ttest_rel'.<br>\n",
    "\n",
    "n=24; t=8.020706944109957; p-value=2.05150029286e-08 ~ close to zero; df=n-1=23"
   ]
  },
  {
   "cell_type": "code",
   "execution_count": 7,
   "metadata": {},
   "outputs": [
    {
     "name": "stdout",
     "output_type": "stream",
     "text": [
      "statistics: 8.020706944109957, p-value: 4.103000585711178e-08\n"
     ]
    }
   ],
   "source": [
    "# Perform the statistical test here\n",
    "import scipy.stats as stats\n",
    "# convert to array\n",
    "a1= df['Congruent'].values.tolist()\n",
    "a2= df['Incongruent'].values.tolist()\n",
    "t, p = stats.ttest_rel(a2,a1)\n",
    "print ('statistics: {0}, p-value: {1}'.format(t,p))"
   ]
  },
  {
   "cell_type": "code",
   "execution_count": 8,
   "metadata": {},
   "outputs": [
    {
     "name": "stdout",
     "output_type": "stream",
     "text": [
      "2.05150029286e-08\n"
     ]
    }
   ],
   "source": [
    "# scipy.stats.ttest_rel gives result only of a two-tailed test\n",
    "# the Actual P-value for one-tailed test can be obtained by\n",
    "p=p/2\n",
    "print (p)\n"
   ]
  },
  {
   "cell_type": "code",
   "execution_count": 9,
   "metadata": {},
   "outputs": [
    {
     "name": "stdout",
     "output_type": "stream",
     "text": [
      "8.02070694411\n"
     ]
    }
   ],
   "source": [
    "# Manually computing t-score\n",
    "import math\n",
    "# sample\n",
    "n = 24\n",
    "# degree of freedom\n",
    "dfreedom = n-1\n",
    "df_tstat = df.copy()\n",
    "df_tstat['mean_diff'] = df['Incongruent']-df['Congruent']\n",
    "# mean difference\n",
    "mean_diff = df_tstat['mean_diff'].mean()\n",
    "# standard deviation difference\n",
    "std_diff = df_tstat['mean_diff'].std()\n",
    "# standard error \n",
    "SError = std_diff/math.sqrt(n)\n",
    "\n",
    "tscore=mean_diff/SError \n",
    "print(tscore)\n"
   ]
  },
  {
   "cell_type": "markdown",
   "metadata": {},
   "source": [
    "__Type I error__:  To think that there is an increase in the amount of time it takes to identify the printed color of incongruent words than of congruent words while in the fact it is not.<br>\n",
    "__Confidence level__:  $\\alpha= 5\\%$ (Probabilty of committing type I error)<br>\n",
    "__Conclusion:__<br>\n",
    "Based on the T-statistic=8.02 and P-value obtained < 0.05<br>\n",
    "We can reject the Null Hypothesis; The incrogruent condition increases the amount of time taken\n",
    "to name the printed ink color of the words being displayed.<br>\n",
    "\n",
    "The result matches my expectations"
   ]
  },
  {
   "cell_type": "markdown",
   "metadata": {},
   "source": [
    "(6) Optional: What do you think is responsible for the effects observed? Can you think of an alternative or similar task that would result in a similar effect? Some research about the problem will be helpful for thinking about these two questions!"
   ]
  },
  {
   "cell_type": "markdown",
   "metadata": {},
   "source": [
    "The mismatch between the color of the word and what the word says introduces more complexity that requires more information to be processed simultaneously by the human brain which affects the response time. <br>\n",
    "Similarly direction symbols or pictures with mismatched words can be used. "
   ]
  },
  {
   "cell_type": "markdown",
   "metadata": {},
   "source": [
    "### Reference\n",
    "https://en.wikipedia.org/wiki/Stroop_effect<br>\n",
    "https://stackoverflow.com/questions/21487329/add-x-and-y-labels-to-a-pandas-plot<br>\n",
    "https://faculty.washington.edu/chudler/words.html<br>\n",
    "https://python-graph-gallery.com/25-histogram-with-several-variables-seaborn/<br>\n",
    "https://docs.scipy.org/doc/scipy/reference/generated/scipy.stats.ttest_rel.html<br>\n",
    "http://www.statisticshowto.com/probability-and-statistics/t-test/<br>\n",
    "http://evafengeva.blogspot.com/2017/09/how-to-interpret-results-of-two-sample.html"
   ]
  },
  {
   "cell_type": "code",
   "execution_count": null,
   "metadata": {
    "collapsed": true
   },
   "outputs": [],
   "source": []
  }
 ],
 "metadata": {
  "kernelspec": {
   "display_name": "Python 3",
   "language": "python",
   "name": "python3"
  },
  "language_info": {
   "codemirror_mode": {
    "name": "ipython",
    "version": 3
   },
   "file_extension": ".py",
   "mimetype": "text/x-python",
   "name": "python",
   "nbconvert_exporter": "python",
   "pygments_lexer": "ipython3",
   "version": "3.6.1"
  }
 },
 "nbformat": 4,
 "nbformat_minor": 2
}

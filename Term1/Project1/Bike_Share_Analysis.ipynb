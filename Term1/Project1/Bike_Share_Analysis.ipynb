{
 "cells": [
  {
   "cell_type": "markdown",
   "metadata": {},
   "source": [
    "# 2016 US Bike Share Activity Snapshot\n",
    "\n",
    "## Table of Contents\n",
    "- [Introduction](#intro)\n",
    "- [Posing Questions](#pose_questions)\n",
    "- [Data Collection and Wrangling](#wrangling)\n",
    "  - [Condensing the Trip Data](#condensing)\n",
    "- [Exploratory Data Analysis](#eda)\n",
    "  - [Statistics](#statistics)\n",
    "  - [Visualizations](#visualizations)\n",
    "- [Performing Your Own Analysis](#eda_continued)\n",
    "- [Conclusions](#conclusions)\n",
    "\n",
    "<a id='intro'></a>\n",
    "## Introduction\n",
    "\n",
    "> **Tip**: Quoted sections like this will provide helpful instructions on how to navigate and use a Jupyter notebook.\n",
    "\n",
    "Over the past decade, bicycle-sharing systems have been growing in number and popularity in cities across the world. Bicycle-sharing systems allow users to rent bicycles for short trips, typically 30 minutes or less. Thanks to the rise in information technologies, it is easy for a user of the system to access a dock within the system to unlock or return bicycles. These technologies also provide a wealth of data that can be used to explore how these bike-sharing systems are used.\n",
    "\n",
    "In this project, you will perform an exploratory analysis on data provided by [Motivate](https://www.motivateco.com/), a bike-share system provider for many major cities in the United States. You will compare the system usage between three large cities: New York City, Chicago, and Washington, DC. You will also see if there are any differences within each system for those users that are registered, regular users and those users that are short-term, casual users."
   ]
  },
  {
   "cell_type": "markdown",
   "metadata": {},
   "source": [
    "<a id='pose_questions'></a>\n",
    "## Posing Questions\n",
    "\n",
    "Before looking at the bike sharing data, you should start by asking questions you might want to understand about the bike share data. Consider, for example, if you were working for Motivate. What kinds of information would you want to know about in order to make smarter business decisions? If you were a user of the bike-share service, what factors might influence how you would want to use the service?\n",
    "\n",
    "**Question 1**: Write at least two questions related to bike sharing that you think could be answered by data.\n",
    "\n",
    "**Answer**: \n",
    "<br>1- Which station has the highest number arrivals and lowest number of departures? Which station has the highest number of departures and lowest number of arrivals?\n",
    "            <br>2- Are the top busiests stations located in the same area/region of a city or more distributed around the city? \n",
    "            <br>3- How the weather conditions (rainy/sunny days) does affect the ridership? Which type of users is affected more\n",
    "            subscribers or customers?\n",
    "\n",
    "\n",
    "> **Tip**: If you double click on this cell, you will see the text change so that all of the formatting is removed. This allows you to edit this block of text. This block of text is written using [Markdown](http://daringfireball.net/projects/markdown/syntax), which is a way to format text using headers, links, italics, and many other options using a plain-text syntax. You will also use Markdown later in the Nanodegree program. Use **Shift** + **Enter** or **Shift** + **Return** to run the cell and show its rendered form."
   ]
  },
  {
   "cell_type": "markdown",
   "metadata": {},
   "source": [
    "<a id='wrangling'></a>\n",
    "## Data Collection and Wrangling\n",
    "\n",
    "Now it's time to collect and explore our data. In this project, we will focus on the record of individual trips taken in 2016 from our selected cities: New York City, Chicago, and Washington, DC. Each of these cities has a page where we can freely download the trip data.:\n",
    "\n",
    "- New York City (Citi Bike): [Link](https://www.citibikenyc.com/system-data)\n",
    "- Chicago (Divvy): [Link](https://www.divvybikes.com/system-data)\n",
    "- Washington, DC (Capital Bikeshare): [Link](https://www.capitalbikeshare.com/system-data)\n",
    "\n",
    "If you visit these pages, you will notice that each city has a different way of delivering its data. Chicago updates with new data twice a year, Washington DC is quarterly, and New York City is monthly. **However, you do not need to download the data yourself.** The data has already been collected for you in the `/data/` folder of the project files. While the original data for 2016 is spread among multiple files for each city, the files in the `/data/` folder collect all of the trip data for the year into one file per city. Some data wrangling of inconsistencies in timestamp format within each city has already been performed for you. In addition, a random 2% sample of the original data is taken to make the exploration more manageable. \n",
    "\n",
    "**Question 2**: However, there is still a lot of data for us to investigate, so it's a good idea to start off by looking at one entry from each of the cities we're going to analyze. Run the first code cell below to load some packages and functions that you'll be using in your analysis. Then, complete the second code cell to print out the first trip recorded from each of the cities (the second line of each data file).\n",
    "\n",
    "> **Tip**: You can run a code cell like you formatted Markdown cells above by clicking on the cell and using the keyboard shortcut **Shift** + **Enter** or **Shift** + **Return**. Alternatively, a code cell can be executed using the **Play** button in the toolbar after selecting it. While the cell is running, you will see an asterisk in the message to the left of the cell, i.e. `In [*]:`. The asterisk will change into a number to show that execution has completed, e.g. `In [1]`. If there is output, it will show up as `Out [1]:`, with an appropriate number to match the \"In\" number."
   ]
  },
  {
   "cell_type": "code",
   "execution_count": 1,
   "metadata": {},
   "outputs": [],
   "source": [
    "## import all necessary packages and functions.\n",
    "import csv # read and write csv files\n",
    "from datetime import datetime # operations to parse dates\n",
    "from pprint import pprint # use to print data structures like dictionaries in\n",
    "                          # a nicer way than the base print function."
   ]
  },
  {
   "cell_type": "code",
   "execution_count": 2,
   "metadata": {},
   "outputs": [
    {
     "name": "stdout",
     "output_type": "stream",
     "text": [
      "\n",
      "City: NYC\n",
      "OrderedDict([('tripduration', '839'),\n",
      "             ('starttime', '1/1/2016 00:09:55'),\n",
      "             ('stoptime', '1/1/2016 00:23:54'),\n",
      "             ('start station id', '532'),\n",
      "             ('start station name', 'S 5 Pl & S 4 St'),\n",
      "             ('start station latitude', '40.710451'),\n",
      "             ('start station longitude', '-73.960876'),\n",
      "             ('end station id', '401'),\n",
      "             ('end station name', 'Allen St & Rivington St'),\n",
      "             ('end station latitude', '40.72019576'),\n",
      "             ('end station longitude', '-73.98997825'),\n",
      "             ('bikeid', '17109'),\n",
      "             ('usertype', 'Customer'),\n",
      "             ('birth year', ''),\n",
      "             ('gender', '0')])\n",
      "\n",
      "City: Chicago\n",
      "OrderedDict([('trip_id', '9080545'),\n",
      "             ('starttime', '3/31/2016 23:30'),\n",
      "             ('stoptime', '3/31/2016 23:46'),\n",
      "             ('bikeid', '2295'),\n",
      "             ('tripduration', '926'),\n",
      "             ('from_station_id', '156'),\n",
      "             ('from_station_name', 'Clark St & Wellington Ave'),\n",
      "             ('to_station_id', '166'),\n",
      "             ('to_station_name', 'Ashland Ave & Wrightwood Ave'),\n",
      "             ('usertype', 'Subscriber'),\n",
      "             ('gender', 'Male'),\n",
      "             ('birthyear', '1990')])\n",
      "\n",
      "City: Washington\n",
      "OrderedDict([('Duration (ms)', '427387'),\n",
      "             ('Start date', '3/31/2016 22:57'),\n",
      "             ('End date', '3/31/2016 23:04'),\n",
      "             ('Start station number', '31602'),\n",
      "             ('Start station', 'Park Rd & Holmead Pl NW'),\n",
      "             ('End station number', '31207'),\n",
      "             ('End station', 'Georgia Ave and Fairmont St NW'),\n",
      "             ('Bike number', 'W20842'),\n",
      "             ('Member Type', 'Registered')])\n"
     ]
    }
   ],
   "source": [
    "def print_first_point(filename):\n",
    "    \"\"\"\n",
    "    This function prints and returns the first data point (second row) from\n",
    "    a csv file that includes a header row.\n",
    "    \"\"\"\n",
    "    # print city name for reference\n",
    "    city = filename.split('-')[0].split('/')[-1]\n",
    "    print('\\nCity: {}'.format(city))\n",
    "    \n",
    "    with open(filename, 'r') as f_in:\n",
    "        ## TODO: Use the csv library to set up a DictReader object. ##\n",
    "        ## see https://docs.python.org/3/library/csv.html           ##\n",
    "        trip_reader = csv.DictReader(f_in, delimiter=',')\n",
    "        \n",
    "        ## TODO: Use a function on the DictReader object to read the     ##\n",
    "        ## first trip from the data file and store it in a variable.     ##\n",
    "        ## see https://docs.python.org/3/library/csv.html#reader-objects ##\n",
    "        #Return the next row as Dict\n",
    "        first_trip = next(trip_reader) \n",
    "        \n",
    "        ## TODO: Use the pprint library to print the first trip. ##\n",
    "        ## see https://docs.python.org/3/library/pprint.html     ##\n",
    "        pprint (first_trip)\n",
    "        \n",
    "         \n",
    "    # output city name and first trip for later testing\n",
    "    return (city, first_trip)\n",
    "\n",
    "# list of files for each city\n",
    "data_files = ['./data/NYC-CitiBike-2016.csv',\n",
    "              './data/Chicago-Divvy-2016.csv',\n",
    "              './data/Washington-CapitalBikeshare-2016.csv',]\n",
    "\n",
    "# print the first trip from each file, store in dictionary\n",
    "example_trips = {}\n",
    "for data_file in data_files:\n",
    "    city, first_trip = print_first_point(data_file)\n",
    "    example_trips[city] = first_trip\n"
   ]
  },
  {
   "cell_type": "markdown",
   "metadata": {},
   "source": [
    "If everything has been filled out correctly, you should see below the printout of each city name (which has been parsed from the data file name) that the first trip has been parsed in the form of a dictionary. When you set up a `DictReader` object, the first row of the data file is normally interpreted as column names. Every other row in the data file will use those column names as keys, as a dictionary is generated for each row.\n",
    "\n",
    "This will be useful since we can refer to quantities by an easily-understandable label instead of just a numeric index. For example, if we have a trip stored in the variable `row`, then we would rather get the trip duration from `row['duration']` instead of `row[0]`.\n",
    "\n",
    "<a id='condensing'></a>\n",
    "### Condensing the Trip Data\n",
    "\n",
    "It should also be observable from the above printout that each city provides different information. Even where the information is the same, the column names and formats are sometimes different. To make things as simple as possible when we get to the actual exploration, we should trim and clean the data. Cleaning the data makes sure that the data formats across the cities are consistent, while trimming focuses only on the parts of the data we are most interested in to make the exploration easier to work with.\n",
    "\n",
    "You will generate new data files with five values of interest for each trip: trip duration, starting month, starting hour, day of the week, and user type. Each of these may require additional wrangling depending on the city:\n",
    "\n",
    "- **Duration**: This has been given to us in seconds (New York, Chicago) or milliseconds (Washington). A more natural unit of analysis will be if all the trip durations are given in terms of minutes.\n",
    "- **Month**, **Hour**, **Day of Week**: Ridership volume is likely to change based on the season, time of day, and whether it is a weekday or weekend. Use the start time of the trip to obtain these values. The New York City data includes the seconds in their timestamps, while Washington and Chicago do not. The [`datetime`](https://docs.python.org/3/library/datetime.html) package will be very useful here to make the needed conversions.\n",
    "- **User Type**: It is possible that users who are subscribed to a bike-share system will have different patterns of use compared to users who only have temporary passes. Washington divides its users into two types: 'Registered' for users with annual, monthly, and other longer-term subscriptions, and 'Casual', for users with 24-hour, 3-day, and other short-term passes. The New York and Chicago data uses 'Subscriber' and 'Customer' for these groups, respectively. For consistency, you will convert the Washington labels to match the other two.\n",
    "\n",
    "\n",
    "**Question 3a**: Complete the helper functions in the code cells below to address each of the cleaning tasks described above."
   ]
  },
  {
   "cell_type": "code",
   "execution_count": 3,
   "metadata": {},
   "outputs": [],
   "source": [
    "def duration_in_mins(datum, city):\n",
    "    \"\"\"\n",
    "    Takes as input a dictionary containing info about a single trip (datum) and\n",
    "    its origin city (city) and returns the trip duration in units of minutes.\n",
    "    \n",
    "    Remember that Washington is in terms of milliseconds while Chicago and NYC\n",
    "    are in terms of seconds. \n",
    "    \n",
    "    HINT: The csv module reads in all of the data as strings, including numeric\n",
    "    values. You will need a function to convert the strings into an appropriate\n",
    "    numeric type when making your transformations.\n",
    "    see https://docs.python.org/3/library/functions.html\n",
    "    \"\"\"\n",
    "    # Washington coverting from ms to min\n",
    "    if city == 'Washington':\n",
    "        duration_ms = float(datum['Duration (ms)'])\n",
    "        duration = duration_ms / (1000 * 60)\n",
    "    # NYC and Chicago converting from sec to min    \n",
    "    else:\n",
    "        duration_sec = float(datum['tripduration'])\n",
    "        duration = duration_sec / 60\n",
    "    \n",
    "    return duration\n",
    "\n",
    "\n",
    "# Some tests to check that your code works. There should be no output if all of\n",
    "# the assertions pass. The `example_trips` dictionary was obtained from when\n",
    "# you printed the first trip from each of the original data files.\n",
    "tests = {'NYC': 13.9833,\n",
    "         'Chicago': 15.4333,\n",
    "         'Washington': 7.1231}\n",
    "\n",
    "for city in tests:\n",
    "    assert abs(duration_in_mins(example_trips[city], city) - tests[city]) < .001"
   ]
  },
  {
   "cell_type": "code",
   "execution_count": 4,
   "metadata": {},
   "outputs": [],
   "source": [
    "def time_of_trip(datum, city):\n",
    "    \"\"\"\n",
    "    Takes as input a dictionary containing info about a single trip (datum) and\n",
    "    its origin city (city) and returns the month, hour, and day of the week in\n",
    "    which the trip was made.\n",
    "    \n",
    "    Remember that NYC includes seconds, while Washington and Chicago do not.\n",
    "    \n",
    "    HINT: You should use the datetime module to parse the original date\n",
    "    strings into a format that is useful for extracting the desired information.\n",
    "    see https://docs.python.org/3/library/datetime.html#strftime-and-strptime-behavior\n",
    "    \"\"\"\n",
    "    if city == 'NYC':\n",
    "        #create datetime object from a string\n",
    "        tripdate = datetime.strptime(datum['starttime'], '%m/%d/%Y %H:%M:%S')\n",
    "        \n",
    "    else:\n",
    "        if city == 'Washington':\n",
    "            #create datetime object from a string\n",
    "            tripdate = datetime.strptime(datum['Start date'], '%m/%d/%Y %H:%M')\n",
    "        else:\n",
    "            tripdate = datetime.strptime(datum['starttime'], '%m/%d/%Y %H:%M')\n",
    "            \n",
    "    month = tripdate.month\n",
    "    hour = tripdate.hour\n",
    "    #obtain a string representing as week day full name \n",
    "    day_of_week= tripdate.strftime('%A') \n",
    "    return (month, hour, day_of_week)\n",
    "\n",
    "\n",
    "# Some tests to check that your code works. There should be no output if all of\n",
    "# the assertions pass. The `example_trips` dictionary was obtained from when\n",
    "# you printed the first trip from each of the original data files.\n",
    "tests = {'NYC': (1, 0, 'Friday'),\n",
    "         'Chicago': (3, 23, 'Thursday'),\n",
    "         'Washington': (3, 22, 'Thursday')}\n",
    "\n",
    "for city in tests:\n",
    "    assert time_of_trip(example_trips[city], city) == tests[city]"
   ]
  },
  {
   "cell_type": "code",
   "execution_count": 5,
   "metadata": {},
   "outputs": [],
   "source": [
    "def type_of_user(datum, city):\n",
    "    \"\"\"\n",
    "    Takes as input a dictionary containing info about a single trip (datum) and\n",
    "    its origin city (city) and returns the type of system user that made the\n",
    "    trip.\n",
    "    \n",
    "    Remember that Washington has different category names compared to Chicago\n",
    "    and NYC. \n",
    "    \"\"\"\n",
    "    \n",
    "    if city == 'Washington':\n",
    "        if datum['Member Type'] == 'Registered':\n",
    "            user_type = 'Subscriber'\n",
    "        elif datum['Member Type'] == 'Casual':\n",
    "            user_type = 'Customer'\n",
    "    else:\n",
    "        user_type = datum['usertype']\n",
    "    return user_type\n",
    "\n",
    "\n",
    "# Some tests to check that your code works. There should be no output if all of\n",
    "# the assertions pass. The `example_trips` dictionary was obtained from when\n",
    "# you printed the first trip from each of the original data files.\n",
    "tests = {'NYC': 'Customer',\n",
    "         'Chicago': 'Subscriber',\n",
    "         'Washington': 'Subscriber'}\n",
    "\n",
    "for city in tests:\n",
    "    assert type_of_user(example_trips[city], city) == tests[city]"
   ]
  },
  {
   "cell_type": "markdown",
   "metadata": {},
   "source": [
    "**Question 3b**: Now, use the helper functions you wrote above to create a condensed data file for each city consisting only of the data fields indicated above. In the `/examples/` folder, you will see an example datafile from the [Bay Area Bike Share](http://www.bayareabikeshare.com/open-data) before and after conversion. Make sure that your output is formatted to be consistent with the example file."
   ]
  },
  {
   "cell_type": "code",
   "execution_count": 6,
   "metadata": {},
   "outputs": [],
   "source": [
    "def condense_data(in_file, out_file, city):\n",
    "    \"\"\"\n",
    "    This function takes full data from the specified input file\n",
    "    and writes the condensed data to a specified output file. The city\n",
    "    argument determines how the input file will be parsed.\n",
    "    \n",
    "    HINT: See the cell below to see how the arguments are structured!\n",
    "    \"\"\"\n",
    "    \n",
    "    with open(out_file, 'w', newline='') as f_out, open(in_file, 'r') as f_in:\n",
    "        # set up csv DictWriter object - writer requires column names for the\n",
    "        # first row as the \"fieldnames\" argument\n",
    "        out_colnames = ['duration', 'month', 'hour', 'day_of_week', 'user_type']        \n",
    "        trip_writer = csv.DictWriter(f_out, fieldnames = out_colnames)\n",
    "        trip_writer.writeheader()\n",
    "        \n",
    "        ## TODO: set up csv DictReader object ##\n",
    "        trip_reader = csv.DictReader(f_in, delimiter = ',')\n",
    "\n",
    "        # collect data from and process each row\n",
    "        for row in trip_reader:\n",
    "            # set up a dictionary to hold the values for the cleaned and trimmed\n",
    "            # data point\n",
    "            new_point = {}\n",
    "\n",
    "            ## TODO: use the helper functions to get the cleaned data from  ##\n",
    "            ## the original data dictionaries.                              ##\n",
    "            ## Note that the keys for the new_point dictionary should match ##\n",
    "            ## the column names set in the DictWriter object above.         ##\n",
    "            new_point['duration'] = duration_in_mins(row,city)\n",
    "            new_point['month'], new_point['hour'], new_point['day_of_week'] = time_of_trip(row,city)\n",
    "            new_point['user_type'] = type_of_user(row,city)\n",
    "            ## TODO: write the processed information to the output file.     ##\n",
    "            ## see https://docs.python.org/3/library/csv.html#writer-objects ##\n",
    "            trip_writer.writerow(new_point)\n",
    "            \n",
    "            "
   ]
  },
  {
   "cell_type": "code",
   "execution_count": 7,
   "metadata": {},
   "outputs": [
    {
     "name": "stdout",
     "output_type": "stream",
     "text": [
      "\n",
      "City: Washington\n",
      "OrderedDict([('duration', '7.123116666666666'),\n",
      "             ('month', '3'),\n",
      "             ('hour', '22'),\n",
      "             ('day_of_week', 'Thursday'),\n",
      "             ('user_type', 'Subscriber')])\n",
      "\n",
      "City: Chicago\n",
      "OrderedDict([('duration', '15.433333333333334'),\n",
      "             ('month', '3'),\n",
      "             ('hour', '23'),\n",
      "             ('day_of_week', 'Thursday'),\n",
      "             ('user_type', 'Subscriber')])\n",
      "\n",
      "City: NYC\n",
      "OrderedDict([('duration', '13.983333333333333'),\n",
      "             ('month', '1'),\n",
      "             ('hour', '0'),\n",
      "             ('day_of_week', 'Friday'),\n",
      "             ('user_type', 'Customer')])\n"
     ]
    }
   ],
   "source": [
    "# Run this cell to check your work\n",
    "city_info = {'Washington': {'in_file': './data/Washington-CapitalBikeshare-2016.csv',\n",
    "                            'out_file': './data/Washington-2016-Summary.csv'},\n",
    "             'Chicago': {'in_file': './data/Chicago-Divvy-2016.csv',\n",
    "                         'out_file': './data/Chicago-2016-Summary.csv'},\n",
    "             'NYC': {'in_file': './data/NYC-CitiBike-2016.csv',\n",
    "                     'out_file': './data/NYC-2016-Summary.csv'}}\n",
    "\n",
    "for city, filenames in city_info.items():\n",
    "    condense_data(filenames['in_file'], filenames['out_file'], city)\n",
    "    print_first_point(filenames['out_file'])"
   ]
  },
  {
   "cell_type": "markdown",
   "metadata": {},
   "source": [
    "> **Tip**: If you save a jupyter Notebook, the output from running code blocks will also be saved. However, the state of your workspace will be reset once a new session is started. Make sure that you run all of the necessary code blocks from your previous session to reestablish variables and functions before picking up where you last left off.\n",
    "\n",
    "<a id='eda'></a>\n",
    "## Exploratory Data Analysis\n",
    "\n",
    "Now that you have the data collected and wrangled, you're ready to start exploring the data. In this section you will write some code to compute descriptive statistics from the data. You will also be introduced to the `matplotlib` library to create some basic histograms of the data.\n",
    "\n",
    "<a id='statistics'></a>\n",
    "### Statistics\n",
    "\n",
    "First, let's compute some basic counts. The first cell below contains a function that uses the csv module to iterate through a provided data file, returning the number of trips made by subscribers and customers. The second cell runs this function on the example Bay Area data in the `/examples/` folder. Modify the cells to answer the question below.\n",
    "\n",
    "**Question 4a**: Which city has the highest number of trips? Which city has the highest proportion of trips made by subscribers? Which city has the highest proportion of trips made by short-term customers?\n",
    "\n",
    "**Answer**: \n",
    "           <br> __NYC__ has the highest number of trips __276798__ <br>\n",
    "            __NYC__ has the highest proportion of trips made by subscribers: __88.83%__<br>\n",
    "            __Chicago__ has the highest proportion of trips made by customers: __23.77%__"
   ]
  },
  {
   "cell_type": "code",
   "execution_count": 8,
   "metadata": {},
   "outputs": [],
   "source": [
    "from collections import defaultdict #import defaultdict \n",
    "\n",
    "def number_of_trips(filenames):\n",
    "    \"\"\"\n",
    "    This function reads in a list of files with trip data and \n",
    "    reports the number of trips made, \n",
    "    the proportion of trips made by Subscribers\n",
    "    and the proportion of trips made by Customers for each city\n",
    "    The output is a nested dict\n",
    "    \n",
    "            {'prop_customers': {'city1': xx,\n",
    "                                'city2': xx,\n",
    "                                'city3': x},\n",
    "             'prop_subscribers': {'city1': xx,\n",
    "                                  'city2': xx,\n",
    "                                  'city3': xx},\n",
    "             'total_trips': {'city1': xx,\n",
    "                             'city2': xx,\n",
    "                             'city3': xx}}\n",
    "    \"\"\"\n",
    "    #defining a Defaultdict object\n",
    "    #setting default_factory to dict\n",
    "    #to create a nested dict\n",
    "    dictall=defaultdict(dict)\n",
    "    for filename in filenames:\n",
    "        \n",
    "        city = filename.split('-')[0].split('/')[-1]\n",
    "        with open(filename, 'r') as f_in:\n",
    "            # set up csv reader object\n",
    "            reader = csv.DictReader(f_in)\n",
    "\n",
    "            # initialize count variables\n",
    "            n_subscribers = 0\n",
    "            n_customers = 0\n",
    "\n",
    "            # tally up ride types\n",
    "            for row in reader:\n",
    "                if row['user_type'] == 'Subscriber':\n",
    "                    n_subscribers += 1\n",
    "                else:\n",
    "                    n_customers += 1\n",
    "\n",
    "            # compute total number of rides\n",
    "            n_total = n_subscribers + n_customers\n",
    "            #Outside dict key=prop_subscribers\n",
    "            dictall['prop_subscribers'][city] = (n_subscribers / n_total) * 100\n",
    "            #Outside dict key=prop_customers\n",
    "            dictall['prop_customers'][city] = (n_customers / n_total ) * 100\n",
    "            #Outside dict key=total_trips\n",
    "            dictall['total_trips'][city] = n_total   \n",
    "    \n",
    "    # return nested dict \n",
    "    return(dictall)\n",
    "            "
   ]
  },
  {
   "cell_type": "code",
   "execution_count": 9,
   "metadata": {},
   "outputs": [
    {
     "name": "stdout",
     "output_type": "stream",
     "text": [
      "defaultdict(<class 'dict'>,\n",
      "            {'prop_customers': {'Chicago': 23.774798630269924,\n",
      "                                'NYC': 11.164098006488485,\n",
      "                                'Washington': 21.971775774206193},\n",
      "             'prop_subscribers': {'Chicago': 76.22520136973007,\n",
      "                                  'NYC': 88.83590199351151,\n",
      "                                  'Washington': 78.0282242257938},\n",
      "             'total_trips': {'Chicago': 72131,\n",
      "                             'NYC': 276798,\n",
      "                             'Washington': 66326}})\n"
     ]
    }
   ],
   "source": [
    "## Modify this and the previous cell to answer Question 4a. Remember to run ##\n",
    "## the function on the cleaned data files you created from Question 3.      ##\n",
    "#data_file = './examples/BayArea-Y3-Summary.csv'\n",
    "# list of filemanes created by condense_data function\n",
    "#used as argument to the number_of_trips function\n",
    "filenames = ['./data/Chicago-2016-Summary.csv','./data/NYC-2016-Summary.csv','./data/Washington-2016-Summary.csv']\n",
    "totaldict = (number_of_trips(filenames))\n",
    "pprint(totaldict)"
   ]
  },
  {
   "cell_type": "markdown",
   "metadata": {},
   "source": [
    "> **Tip**: In order to add additional cells to a notebook, you can use the \"Insert Cell Above\" and \"Insert Cell Below\" options from the menu bar above. There is also an icon in the toolbar for adding new cells, with additional icons for moving the cells up and down the document. By default, new cells are of the code type; you can also specify the cell type (e.g. Code or Markdown) of selected cells from the Cell menu or the dropdown in the toolbar.\n",
    "\n",
    "Now, you will write your own code to continue investigating properties of the data.\n",
    "\n",
    "**Question 4b**: Bike-share systems are designed for riders to take short trips. Most of the time, users are allowed to take trips of 30 minutes or less with no additional charges, with overage charges made for trips of longer than that duration. What is the average trip length for each city? What proportion of rides made in each city are longer than 30 minutes?\n",
    "\n",
    "**Answer**: \n",
    "     <br>__Chicago__   : average trip duration is: __16.6 min__; proportion of rides more than 30 min: __8.3%__ <br>\n",
    "     __NYC__       : average trip duration is: __15.8 min__; proportion of rides more than 30 min: __7.3%__ <br>\n",
    "     __Washington__: average trip duration is: __18.9 min__; proportion of rides more than 30 min: __10.8%__ \n"
   ]
  },
  {
   "cell_type": "code",
   "execution_count": 11,
   "metadata": {
    "scrolled": true
   },
   "outputs": [],
   "source": [
    "## Use this and additional cells to answer Question 4b.                 ##\n",
    "##                                                                      ##\n",
    "## HINT: The csv module reads in all of the data as strings, including  ##\n",
    "## numeric values. You will need a function to convert the strings      ##\n",
    "## into an appropriate numeric type before you aggregate data.          ##\n",
    "## TIP: For the Bay Area example, the average trip length is 14 minutes ##\n",
    "## and 3.5% of trips are longer than 30 minutes.                        ##\n",
    "def avg_trip_length(filename, usr_type=None):\n",
    "    \"\"\"\n",
    "    Function that takes in as list of filenames\n",
    "    and returns a tuple consisting of average \n",
    "    trip duration and proportions of rides\n",
    "    more that 30 minutes, by default for all ridership.\n",
    "    or depending on the optional argument usr_type that takes\n",
    "    the values of Subscriber or Customer.\n",
    "   \n",
    "   \"\"\"\n",
    "        \n",
    "    with open(filename, 'r') as f_in:\n",
    "        # set up csv reader object\n",
    "        reader = csv.DictReader(f_in) \n",
    "        avg_trip_length = 0\n",
    "        #define empty lists\n",
    "        total_duration = []\n",
    "        more_than30 = []\n",
    "        \n",
    "        for row in reader:\n",
    "            if usr_type is not None:\n",
    "                if row['user_type'] == usr_type:\n",
    "                    # append each row duration to total_duratin\n",
    "                    # based on usr_type when supplied\n",
    "                    total_duration.append(float(row['duration']))\n",
    "            else:\n",
    "                # append each row duration to total_duratin\n",
    "                # total ridership\n",
    "                total_duration.append(float(row['duration']))  \n",
    "            \n",
    "            if float(row['duration']) > 30:\n",
    "                # append duration greater than 30 minutes\n",
    "                # to more_than30 list\n",
    "                more_than30.append(row['duration'])\n",
    "           \n",
    "            \n",
    "        avg_trip_length = sum(total_duration)/len(total_duration)\n",
    "        prop_trips_more_than30 = (len(more_than30)/len(total_duration))*100\n",
    "        \n",
    "        #return tuple\n",
    "        return (avg_trip_length,prop_trips_more_than30)"
   ]
  },
  {
   "cell_type": "code",
   "execution_count": 12,
   "metadata": {},
   "outputs": [
    {
     "name": "stdout",
     "output_type": "stream",
     "text": [
      "Chicago   : avg trip duration is: 16.6 min; prop of rides > than 30 min: 8.3%\n",
      "NYC       : avg trip duration is: 15.8 min; prop of rides > than 30 min: 7.3%\n",
      "Washington: avg trip duration is: 18.9 min; prop of rides > than 30 min: 10.8%\n"
     ]
    }
   ],
   "source": [
    "filenames = ['./data/Chicago-2016-Summary.csv','./data/NYC-2016-Summary.csv',\n",
    "             './data/Washington-2016-Summary.csv']\n",
    "# print average trip duration and proportions of rides greater\n",
    "# than 30 minutes for each city\n",
    "for filename in filenames:\n",
    "    city = filename.split('-')[0].split('/')[-1]\n",
    "    print (\"{0:10}: avg trip duration is: {1:.1f} min; prop of rides > than 30 min: {2:.1f}%\"\\\n",
    "            .format(city,avg_trip_length(filename)[0],avg_trip_length(filename)[1]))  \n"
   ]
  },
  {
   "cell_type": "markdown",
   "metadata": {},
   "source": [
    "**Question 4c**: Dig deeper into the question of trip duration based on ridership. Choose one city. Within that city, which type of user takes longer rides on average: Subscribers or Customers?\n",
    "\n",
    "**Answer**: \n",
    "\n",
    "<br> __Chicago__   : average trip duration by __Subscriber__: __12.1 min__; average trip duration by __Customer__: __31.0 min__\n",
    "\n",
    "<br> On Average Customers take longer rides than Subscribers in Chicago.\n"
   ]
  },
  {
   "cell_type": "code",
   "execution_count": 13,
   "metadata": {},
   "outputs": [
    {
     "name": "stdout",
     "output_type": "stream",
     "text": [
      "Chicago   : avg trip duration for Subscribers: 12.1 min;    avg trip duration for Customers: 31.0 min\n",
      "NYC       : avg trip duration for Subscribers: 13.7 min;    avg trip duration for Customers: 33.0 min\n",
      "Washington: avg trip duration for Subscribers: 12.5 min;    avg trip duration for Customers: 41.7 min\n"
     ]
    }
   ],
   "source": [
    "## Use this and additional cells to answer Question 4c. If you have    ##\n",
    "## not done so yet, consider revising some of your previous code to    ##\n",
    "## make use of functions for reusability.                              ##\n",
    "##                                                                     ##\n",
    "## TIP: For the Bay Area example data, you should find the average     ##\n",
    "## Subscriber trip duration to be 9.5 minutes and the average Customer ##\n",
    "## trip duration to be 54.6 minutes. Do the other cities have this     ##\n",
    "## level of difference?                                                ##\n",
    "\n",
    "## we can use the previous function trip_length in order to get the average\n",
    "# Customer and average Subscriber trip duration, adding the argument Customer,Subscriber\n",
    "\n",
    "filenames = ['./data/Chicago-2016-Summary.csv','./data/NYC-2016-Summary.csv',\n",
    "            './data/Washington-2016-Summary.csv']\n",
    "for filename in filenames:\n",
    "    city = filename.split('-')[0].split('/')[-1]\n",
    "    print (\"{0:10}: avg trip duration for Subscribers: {1:.1f} min;\\\n",
    "    avg trip duration for Customers: {2:.1f} min\"\\\n",
    "    .format(city,avg_trip_length(filename,'Subscriber')[0],avg_trip_length(filename,'Customer')[0]))  "
   ]
  },
  {
   "cell_type": "markdown",
   "metadata": {},
   "source": [
    "<a id='visualizations'></a>\n",
    "### Visualizations\n",
    "\n",
    "The last set of values that you computed should have pulled up an interesting result. While the mean trip time for Subscribers is well under 30 minutes, the mean trip time for Customers is actually _above_ 30 minutes! It will be interesting for us to look at how the trip times are distributed. In order to do this, a new library will be introduced here, `matplotlib`. Run the cell below to load the library and to generate an example plot."
   ]
  },
  {
   "cell_type": "code",
   "execution_count": 14,
   "metadata": {},
   "outputs": [
    {
     "data": {
      "image/png": "[encoded data removed]",
      "text/plain": [
       "<matplotlib.figure.Figure at 0x7f3b387abf60>"
      ]
     },
     "metadata": {},
     "output_type": "display_data"
    }
   ],
   "source": [
    "# load library\n",
    "import matplotlib.pyplot as plt\n",
    "\n",
    "# this is a 'magic word' that allows for plots to be displayed\n",
    "# inline with the notebook. If you want to know more, see:\n",
    "# http://ipython.readthedocs.io/en/stable/interactive/magics.html\n",
    "%matplotlib inline \n",
    "\n",
    "# example histogram, data taken from bay area sample\n",
    "data = [ 7.65,  8.92,  7.42,  5.50, 16.17,  4.20,  8.98,  9.62, 11.48, 14.33,\n",
    "        19.02, 21.53,  3.90,  7.97,  2.62,  2.67,  3.08, 14.40, 12.90,  7.83,\n",
    "        25.12,  8.30,  4.93, 12.43, 10.60,  6.17, 10.88,  4.78, 15.15,  3.53,\n",
    "         9.43, 13.32, 11.72,  9.85,  5.22, 15.10,  3.95,  3.17,  8.78,  1.88,\n",
    "         4.55, 12.68, 12.38,  9.78,  7.63,  6.45, 17.38, 11.90, 11.52,  8.63,]\n",
    "plt.hist(data)\n",
    "plt.title('Distribution of Trip Durations')\n",
    "plt.xlabel('Duration (m)')\n",
    "plt.show()"
   ]
  },
  {
   "cell_type": "markdown",
   "metadata": {},
   "source": [
    "In the above cell, we collected fifty trip times in a list, and passed this list as the first argument to the `.hist()` function. This function performs the computations and creates plotting objects for generating a histogram, but the plot is actually not rendered until the `.show()` function is executed. The `.title()` and `.xlabel()` functions provide some labeling for plot context.\n",
    "\n",
    "You will now use these functions to create a histogram of the trip times for the city you selected in question 4c. Don't separate the Subscribers and Customers for now: just collect all of the trip times and plot them."
   ]
  },
  {
   "cell_type": "code",
   "execution_count": 15,
   "metadata": {},
   "outputs": [],
   "source": [
    "## Use this and additional cells to collect all of the trip times as a list ##\n",
    "## and then use pyplot functions to generate a histogram of trip times.     ##\n",
    "## We can re-use the function avg_trip_length() and modify to return a \n",
    "## a list of trips distribution for Subscribers,Customers, and total riderhip\n",
    "\n",
    "def trip_duration(filename, usr_type=None):\n",
    "    \n",
    "    \n",
    "    with open(filename, 'r') as f_in:\n",
    "        # set up csv reader object\n",
    "        reader = csv.DictReader(f_in) \n",
    "        avg_trip_length= 0\n",
    "        total_duration=[]\n",
    "        \n",
    "        for row in reader:\n",
    "            if usr_type is not None:\n",
    "                if row['user_type'] == usr_type:\n",
    "                    total_duration.append(float(row['duration']))\n",
    "            else:\n",
    "                total_duration.append(float(row['duration']))  \n",
    "           \n",
    "        return total_duration\n",
    "    \n",
    "\n",
    "# setting filename to Chicago-2016-Summary.csv    \n",
    "filename = './data/Chicago-2016-Summary.csv'\n",
    "data_Chicago = trip_duration(filename)\n",
    "\n",
    "\n"
   ]
  },
  {
   "cell_type": "code",
   "execution_count": 16,
   "metadata": {},
   "outputs": [
    {
     "data": {
      "image/png": "[encoded data removed]",
      "text/plain": [
       "<matplotlib.figure.Figure at 0x7f3b1dec2c50>"
      ]
     },
     "metadata": {},
     "output_type": "display_data"
    }
   ],
   "source": [
    "#create a histogram from list obtained from the previous cell\n",
    "#setting x-axis duration range from 0 to 220 min\n",
    "#bins number set to 16 \n",
    "%matplotlib inline\n",
    "plt.hist(data_Chicago, range=(0,220), bins=16)\n",
    "plt.title('Distribution of Trip Durations (Chicago)')\n",
    "plt.xlabel('Duration (m)')\n",
    "plt.show()"
   ]
  },
  {
   "cell_type": "markdown",
   "metadata": {},
   "source": [
    "If you followed the use of the `.hist()` and `.show()` functions exactly like in the example, you're probably looking at a plot that's completely unexpected. The plot consists of one extremely tall bar on the left, maybe a very short second bar, and a whole lot of empty space in the center and right. Take a look at the duration values on the x-axis. This suggests that there are some highly infrequent outliers in the data. Instead of reprocessing the data, you will use additional parameters with the `.hist()` function to limit the range of data that is plotted. Documentation for the function can be found [[here]](https://matplotlib.org/devdocs/api/_as_gen/matplotlib.pyplot.hist.html#matplotlib.pyplot.hist).\n",
    "\n",
    "**Question 5**: Use the parameters of the `.hist()` function to plot the distribution of trip times for the Subscribers in your selected city. Do the same thing for only the Customers. Add limits to the plots so that only trips of duration less than 75 minutes are plotted. As a bonus, set the plots up so that bars are in five-minute wide intervals. For each group, where is the peak of each distribution? How would you describe the shape of each distribution?\n",
    "\n",
    "**Answer**:\n",
    "<br> __Chicago__\n",
    "<br> The highest peak (mode) for Subscribers' Trip duration distribution is around 18750 between 5 and 10 mintues interval\n",
    "<br> The highest peak (mode) for Customers' Trip duration distribution is around 3000 between 20 and 25 minutes interval\n",
    "\n",
    "<br> The shape of the Subscribers' trip duration distribution is unimodal, right-skewed.\n",
    "<br> The shape of the Customers' trip duration distribution is also unimodal, right-skewed."
   ]
  },
  {
   "cell_type": "code",
   "execution_count": 17,
   "metadata": {},
   "outputs": [],
   "source": [
    "## Use this and additional cells to answer Question 5. ##\n",
    "#Chicago Trip times for Subscribers and Customers\n",
    "def plothist(data, usr_type):\n",
    "    \"\"\"\n",
    "    Function that takes trip times as list\n",
    "    and usr_type and plot the distribution\n",
    "    \n",
    "    \"\"\"\n",
    "    plt.hist(data, range=(0,75), bins=15)\n",
    "    plt.title('Distribution of Trip Durations by ' + usr_type + ' (Chicago)')\n",
    "    plt.xlabel('Duration (m)')\n",
    "    plt.grid(True)\n",
    "    plt.show()\n"
   ]
  },
  {
   "cell_type": "code",
   "execution_count": 18,
   "metadata": {},
   "outputs": [
    {
     "data": {
      "image/png": "[encoded data removed]",
      "text/plain": [
       "<matplotlib.figure.Figure at 0x7f3b1ba32898>"
      ]
     },
     "metadata": {},
     "output_type": "display_data"
    }
   ],
   "source": [
    "#Subscribers trip duration distribution\n",
    "\n",
    "%matplotlib inline\n",
    "plothist(trip_duration('./data/Chicago-2016-Summary.csv', 'Subscriber'),'Subscriber')\n"
   ]
  },
  {
   "cell_type": "code",
   "execution_count": 19,
   "metadata": {},
   "outputs": [
    {
     "data": {
      "image/png": "[encoded data removed]",
      "text/plain": [
       "<matplotlib.figure.Figure at 0x7f3b1b66bdd8>"
      ]
     },
     "metadata": {},
     "output_type": "display_data"
    }
   ],
   "source": [
    "#Customers trip duration distribution\n",
    "%matplotlib inline\n",
    "plothist(trip_duration('./data/Chicago-2016-Summary.csv', 'Customer'),'Customer')"
   ]
  },
  {
   "cell_type": "markdown",
   "metadata": {
    "collapsed": true
   },
   "source": [
    "<a id='eda_continued'></a>\n",
    "## Performing Your Own Analysis\n",
    "\n",
    "So far, you've performed an initial exploration into the data available. You have compared the relative volume of trips made between three U.S. cities and the ratio of trips made by Subscribers and Customers. For one of these cities, you have investigated differences between Subscribers and Customers in terms of how long a typical trip lasts. Now it is your turn to continue the exploration in a direction that you choose. Here are a few suggestions for questions to explore:\n",
    "\n",
    "- How does ridership differ by month or season? Which month / season has the highest ridership? Does the ratio of Subscriber trips to Customer trips change depending on the month or season?\n",
    "- Is the pattern of ridership different on the weekends versus weekdays? On what days are Subscribers most likely to use the system? What about Customers? Does the average duration of rides change depending on the day of the week?\n",
    "- During what time of day is the system used the most? Is there a difference in usage patterns for Subscribers and Customers?\n",
    "\n",
    "If any of the questions you posed in your answer to question 1 align with the bullet points above, this is a good opportunity to investigate one of them. As part of your investigation, you will need to create a visualization. If you want to create something other than a histogram, then you might want to consult the [Pyplot documentation](https://matplotlib.org/devdocs/api/pyplot_summary.html). In particular, if you are plotting values across a categorical variable (e.g. city, user type), a bar chart will be useful. The [documentation page for `.bar()`](https://matplotlib.org/devdocs/api/_as_gen/matplotlib.pyplot.bar.html#matplotlib.pyplot.bar) includes links at the bottom of the page with examples for you to build off of for your own use.\n",
    "\n",
    "**Question 6**: Continue the investigation by exploring another question that could be answered by the data available. Document the question you want to explore below. Your investigation should involve at least two variables and should compare at least two groups. You should also use at least one visualization as part of your explorations.\n",
    "\n",
    "**Answer**: \n",
    "     <br> __Question chosen__:\n",
    "     <br> - How does ridership differ by month or season? Which month / season has the highest ridership? Does the ratio of Subscriber trips to Customer trips change depending on the month or season?\n",
    "     \n",
    "     1. How does ridership differ by month or season?\n",
    "     \n",
    "     The ridership steadily starts to climb from January to April to reach less than 5000 trips (less than the Average total   trips per month). \n",
    "     Then it dramatically rises to reach it highest values in June and July with the peak in July of \n",
    "     more than 10000 (Above the Average total trips per month) trips and starts to decrease from August through  September,October and November to reach it lowest values in December less than 2000 trips.\n",
    "       \n",
    "     The monthly ridership follows a bell shaped trend (referring to output of cell 91).\n",
    "     \n",
    "     2. Which month / season has the highest ridership?\n",
    "     \n",
    "       JULY is the month with highest ridership. While SUMMER is the season with the highest ridership.\n",
    "       \n",
    "    3. Does the ratio of Subscriber trips to Customer trips change depending on the month or season?\n",
    "    \n",
    "      Throughout the year both Subscriber trips and Customers trip follow the same trend.\n",
    "      But the mumber of trips taken by customers drops signifincantly during winter season compared to the number\n",
    "      of Subscriber trips. \n",
    "      From the total number of trips in Winter season, the ratio of Subscriber trips is around\n",
    "      94% and around  6% for Customer trips. We can look at January and we can notice the ratio of Subscriber trips\n",
    "      to Customer trips is 30:1.\n",
    "      \n",
    "      While during the Spring season, the ratio of Subscriber trips drop to around 77% of the total trips\n",
    "      while the ratio of the Customer trips increase to around 23% from the total trips taken. \n",
    "      \n",
    "      In the Summer season, the ratio of Customer trips increases further to around 29% from the total trips.\n",
    "      A particular month to look at is July where the ratio of subscriber trips to Customer trips is 2:1\n",
    "      \n",
    "      and finally the Customer trips drop back to 22%  of the total trips taken during the Fall season.\n",
    "      \n",
    "__Conclusion__ \n",
    "     \n",
    " <br> Overall the number of bike trips in Chicago is affected by Weather Changes from Season to another.\n",
    " <br> And the increase in the number of Customer trips compared to Subscriber trips during Summer can be \n",
    " attributed to the increase in the number of tourists/travellers visting Chicago during that periods of the year.\n",
    " \n",
    " \n",
    " \n",
    "     \n",
    "       \n",
    "       \n",
    "       "
   ]
  },
  {
   "cell_type": "code",
   "execution_count": 20,
   "metadata": {},
   "outputs": [],
   "source": [
    "## Use this and additional cells to continue to explore the dataset. ##\n",
    "## Once you have performed your exploration, document your findings  ##\n",
    "## in the Markdown cell above.  ##\n",
    "# I can re-use the number_of_trips function to answer question \n",
    "\n",
    "from collections import OrderedDict # importing OrderedDict from collections \n",
    "\n",
    "def num_trips_by_month(filename, usr_type=None):\n",
    "    \n",
    "    \"\"\"\n",
    "    \n",
    "    This function reads in a file with trip data and takes \n",
    "    and reports the number of trips made \n",
    "    by subscribers, customers, and total overall per month\n",
    "    based on an optional argument  usr_type(default total)\n",
    "    and return a sorted OrderedDict.\n",
    "    \n",
    "    \"\"\"\n",
    "    # define empty dictionary\n",
    "    ridership_per_month={}\n",
    "    with open(filename, 'r') as f_in:\n",
    "        # set up csv reader object\n",
    "        reader = csv.DictReader(f_in)\n",
    "\n",
    "        for row in reader:\n",
    "            if usr_type is not None:\n",
    "                if row['user_type'] == usr_type :\n",
    "                    #dict with key = month (1,2,3,4,etc...)\n",
    "                    #and value number of ridership per month\n",
    "                    #e.g {1:xxxx, 2:xxx, 3:xxxxx}\n",
    "                    # for Subscribers or Customers\n",
    "                    ridership_per_month[int(row['month'])] = ridership_per_month.get(int(row['month']), 0) + 1\n",
    "            else:\n",
    "                    #for all ridership          \n",
    "                ridership_per_month[int(row['month'])] = ridership_per_month.get(int(row['month']), 0) + 1\n",
    "    \n",
    "    # Return sorted Oredered dict by keys with key=month and value=number ridership per month           \n",
    "    return OrderedDict(sorted(ridership_per_month.items()))\n",
    "     \n"
   ]
  },
  {
   "cell_type": "code",
   "execution_count": 21,
   "metadata": {},
   "outputs": [],
   "source": [
    "# Bar plot ridership_per_month\n",
    "\n",
    "def plotbar_ridership(dict_data, city, usr_type=None):\n",
    "    \n",
    "    plt.bar(dict_data.keys(), dict_data.values())\n",
    "    if usr_type is not None:\n",
    "        plt.title( usr_type + ' per month ('+ city +')')\n",
    "    else:\n",
    "        plt.title( 'Total ridership per month ('+ city +')')\n",
    "    plt.xlabel('Month')\n",
    "    plt.show()"
   ]
  },
  {
   "cell_type": "code",
   "execution_count": 22,
   "metadata": {},
   "outputs": [
    {
     "data": {
      "image/png": "[encoded data removed]",
      "text/plain": [
       "<matplotlib.figure.Figure at 0x7f3b1b779860>"
      ]
     },
     "metadata": {},
     "output_type": "display_data"
    }
   ],
   "source": [
    "# Chicago total ridership by month\n",
    "total_ridership_chicago = num_trips_by_month('./data/Chicago-2016-Summary.csv')\n",
    "plotbar_ridership(total_ridership_chicago, 'Chicago')"
   ]
  },
  {
   "cell_type": "code",
   "execution_count": 23,
   "metadata": {},
   "outputs": [
    {
     "data": {
      "image/png": "[encoded data removed]",
      "text/plain": [
       "<matplotlib.figure.Figure at 0x7f3b1b79e9e8>"
      ]
     },
     "metadata": {},
     "output_type": "display_data"
    }
   ],
   "source": [
    "# Chicago Subscribers distribution by month\n",
    "subscriber_chicago  =num_trips_by_month('./data/Chicago-2016-Summary.csv','Subscriber')\n",
    "plotbar_ridership(subscriber_chicago, 'Chicago', 'Subscriber')"
   ]
  },
  {
   "cell_type": "code",
   "execution_count": 24,
   "metadata": {},
   "outputs": [
    {
     "data": {
      "image/png": "[encoded data removed]",
      "text/plain": [
       "<matplotlib.figure.Figure at 0x7f3b1b6f47f0>"
      ]
     },
     "metadata": {},
     "output_type": "display_data"
    }
   ],
   "source": [
    "# Chicago Subscribers distribution by month\n",
    "customer_chicago = num_trips_by_month('./data/Chicago-2016-Summary.csv','Customer')\n",
    "plotbar_ridership(customer_chicago, 'Chicago', 'Customer')"
   ]
  },
  {
   "cell_type": "code",
   "execution_count": 25,
   "metadata": {},
   "outputs": [
    {
     "name": "stdout",
     "output_type": "stream",
     "text": [
      "Chicago Customer trips by month is: 1429.08\n",
      "Chicago Subscriber trips by month is: 4581.83\n",
      "Chicago total trips by month is: 6010.92\n"
     ]
    }
   ],
   "source": [
    "# compute Average number of total, subscriber, customer \n",
    "# trips per month for Chicago\n",
    "\n",
    "def avg_by_month(data_month):\n",
    "    avg = sum(data_month.values())/len(data_month)\n",
    "    return avg\n",
    "    \n",
    "print ('Chicago Customer trips by month is: {0:.2f}'.format(avg_by_month(customer_chicago)))\n",
    "print ('Chicago Subscriber trips by month is: {0:.2f}'.format(avg_by_month(subscriber_chicago)))\n",
    "print ('Chicago total trips by month is: {0:.2f}'.format(avg_by_month(total_ridership_chicago)))"
   ]
  },
  {
   "cell_type": "code",
   "execution_count": 26,
   "metadata": {},
   "outputs": [
    {
     "name": "stdout",
     "output_type": "stream",
     "text": [
      "July is the month with the highest ridership 10286\n"
     ]
    }
   ],
   "source": [
    "# print the month with the higher ridership\n",
    "# Reference : https://docs.python.org/3.1/library/collections.html#collections.OrderedDict\n",
    "from collections import OrderedDict # using OrderedDict\n",
    "\n",
    "#Sort total_ridership dict in descending order based on the dictionary Value (number of ridership)\n",
    "dict_ridership = OrderedDict(sorted(total_ridership_chicago.items(), reverse=True, key=lambda t: t[1]))\n",
    "\n",
    "#Convert Dict to list\n",
    "#Get the first tuple (month,ridership) from the sorted dict_ridership  \n",
    "#having the highest ridership\n",
    "month,ridership = list(dict_ridership.items())[0]\n",
    "\n",
    "#print the month (formatted as full name) and the total ridership \n",
    "print ('{0} is the month with the highest ridership {1}'\\\n",
    "       .format(datetime.strptime(str(month), '%m').strftime('%B'),ridership))"
   ]
  },
  {
   "cell_type": "code",
   "execution_count": 27,
   "metadata": {},
   "outputs": [],
   "source": [
    "def proportion_users(data_sub, data_cust, usr_type):\n",
    "    \"\"\"\n",
    "      This function takes 2 dictionaries\n",
    "      customers per month and subscribers per month \n",
    "      and the user_type and returns a new dictionary of \n",
    "      proportions of either customers or subscribers \n",
    "      from the total ridership per month \n",
    "      depending on usr_type \n",
    "      \n",
    "    \"\"\"\n",
    "    \n",
    "    percentage = {}\n",
    "    for key in data_sub.keys():\n",
    "        \n",
    "        if usr_type == 'Subscriber':\n",
    "            #key = month (1,2,3,4,5,etc)\n",
    "            #percentage of Subscribers from the total ridership\n",
    "            percentage[key] = float(data_sub[key])/(data_sub[key] + data_cust[key])*100\n",
    "            \n",
    "        else:\n",
    "            #percentage of Customers from the total ridership\n",
    "            percentage[key] = float(data_cust[key])/(data_sub[key] + data_cust[key])*100\n",
    "            \n",
    "    return (percentage)\n",
    "\n"
   ]
  },
  {
   "cell_type": "code",
   "execution_count": 31,
   "metadata": {},
   "outputs": [],
   "source": [
    "#Get ridership per season\n",
    "#Reference: https://www.timeanddate.com/calendar/aboutseasons.html\n",
    "\n",
    "def ridership_per_season(ridership_per_month):\n",
    "    \n",
    "    \"\"\"\n",
    "     \n",
    "     Take a dictionary ridership per month\n",
    "     and return dictionary of ridership per season\n",
    "     \n",
    "     {'Winter':xxxx, \n",
    "      'Spring':xxxx,\n",
    "      'Summer':xxxx\n",
    "      'Fall':xxx}\n",
    "      \n",
    "     \"\"\"\n",
    "    #Defining defaultdict object\n",
    "    #setting default_factory to int\n",
    "    ridership_per_season = defaultdict(int)\n",
    "    for key in ridership_per_month:\n",
    "        if key in (12,1,2):\n",
    "            ridership_per_season['Winter'] += ridership_per_month[key]\n",
    "        elif key in (3,4,5):\n",
    "            ridership_per_season['Spring'] += ridership_per_month[key]\n",
    "        elif key in (6,7,8):\n",
    "             ridership_per_season['Summer'] += ridership_per_month[key]\n",
    "        else:\n",
    "            ridership_per_season['Fall'] += ridership_per_month[key]\n",
    "    \n",
    "    return ridership_per_season\n",
    "\n",
    "    "
   ]
  },
  {
   "cell_type": "code",
   "execution_count": 28,
   "metadata": {},
   "outputs": [],
   "source": [
    "##bar plot Subscriber vs Customers\n",
    "## Stacked Bar plot proportion of subscribers \n",
    "## vs proportions of Customers\n",
    "\n",
    "##References##\n",
    "\n",
    "##https://matplotlib.org/devdocs/gallery/lines_bars_and_markers/categorical_variables.html\n",
    "#https://matplotlib.org/gallery/statistics/barchart_demo.html\n",
    "#https://matplotlib.org/devdocs/gallery/lines_bars_and_markers/barh.html\n",
    "\n",
    "import numpy as np # import numpy library\n",
    "\n",
    "def multibar(filename, city, month=True):\n",
    "    \n",
    "    \"\"\"\n",
    "    This Function takes in the filename report and the city\n",
    "    as well as the month as boolean optional argument\n",
    "    and by default plots 2 charts:\n",
    "        1- bar chart for subscribers trips vs customers' trips\n",
    "         by month \n",
    "        2- a stacked bar chart prop sub trips vs prop customers'\n",
    "        trips by month\n",
    "        \n",
    "    if month = False, plots the same but by season \n",
    "        \n",
    "    \"\"\"\n",
    "    \n",
    "    \n",
    "    # get total ridership by month\n",
    "    total_per_month = num_trips_by_month(filename)\n",
    "    # get customers' trips by month\n",
    "    customer_per_month = num_trips_by_month(filename,'Customer')\n",
    "    # get subscribers' trips by month\n",
    "    subscriber_per_month = num_trips_by_month(filename,'Subscriber')\n",
    "    \n",
    "   \n",
    "    if month:\n",
    "        \n",
    "        # set group and index accordingly for x-axis\n",
    "        group = ('Jan', 'Feb', 'Mar', 'Apr', 'May','Jun', \n",
    "                 'Jul','Aug', 'Sep', 'Oct', 'Nov', 'Dec')\n",
    "        index = np.arange(len(group))\n",
    "        \n",
    "        total = total_per_month\n",
    "        customer = customer_per_month\n",
    "        subscriber = subscriber_per_month\n",
    "        \n",
    "    else:\n",
    "        \n",
    "        # get total ridership by season\n",
    "        total = ridership_per_season(total_per_month)\n",
    "        # get customers' trips by season\n",
    "        customer = ridership_per_season(customer_per_month)\n",
    "        # get subscribers' trips by season\n",
    "        subscriber = ridership_per_season(subscriber_per_month)\n",
    "        \n",
    "        # set group and index accordingly for x-axis\n",
    "        group = ('Winter', 'Spring', 'Summer', 'Fall' )\n",
    "        index = np.arange(len(group))\n",
    "                         \n",
    "   \n",
    "    # get proportions total, subscribers and customers\n",
    "    percentage_sub = proportion_users(subscriber,customer,'Subscriber')\n",
    "    percentage_cust = proportion_users(subscriber,customer,'Customer')\n",
    "    total_ridership = total\n",
    "    \n",
    "    # using suplot to have 2 charts at the same time\n",
    "    fig,ax = plt.subplots(1,2, figsize=(15,5))\n",
    "  \n",
    "   \n",
    "    # first chart customers trips vs subscribers trips\n",
    "    ax[0].bar(index, list(customer.values()), 0.35, color='r', label='Subscribers')\n",
    "    ax[0].bar(index+0.35,list(subscriber.values()), 0.35, color='b', label='Customers')\n",
    "    ax[0].plot(index,list(total_ridership.values()), linewidth=4, label='total')\n",
    "    ax[0].set_xlabel('Year - 2016')\n",
    "    ax[0].set_ylabel('trips')\n",
    "    ax[0].set_xticks(index + 0.35/2)\n",
    "    ax[0].set_xticklabels(group)\n",
    "    ax[0].legend(loc=1)\n",
    "    ax[0].set_title('Subscribers trips vs Customers trips (' + city +')')\n",
    "   \n",
    "    # second chart prop of customers trips vs prop of subscribers trips\n",
    "    ax[1].bar(index,percentage_sub.values(), \\\n",
    "                color='b',width=0.5, label='Subscribers')\n",
    "    ax[1].bar(index, percentage_cust.values(), color= 'r',width=0.5, label='Customers')\n",
    "    ax[1].set_xlabel('Year - 2016')\n",
    "    ax[1].set_xticks(index)\n",
    "    ax[1].set_xticklabels(group)\n",
    "    ax[1].set_ylabel('percentage of trips')\n",
    "    ax[1].legend(loc=0)\n",
    "    ax[1].set_title('Subscribers trips vs Customers trips (' + city +')')\n",
    "    \n",
    "    # using the ggplot style\n",
    "    plt.style.use('ggplot')\n",
    "    # to fit in both charts\n",
    "    fig.tight_layout()\n",
    "\n",
    " \n"
   ]
  },
  {
   "cell_type": "code",
   "execution_count": 29,
   "metadata": {},
   "outputs": [
    {
     "data": {
      "image/png": "[encoded data removed]",
      "text/plain": [
       "<matplotlib.figure.Figure at 0x7f3b1b6ea5c0>"
      ]
     },
     "metadata": {},
     "output_type": "display_data"
    }
   ],
   "source": [
    "# charts by month\n",
    "filename = './data/Chicago-2016-Summary.csv'\n",
    "multibar(filename,'Chicago')\n"
   ]
  },
  {
   "cell_type": "code",
   "execution_count": 32,
   "metadata": {},
   "outputs": [
    {
     "data": {
      "image/png": "[encoded data removed]",
      "text/plain": [
       "<matplotlib.figure.Figure at 0x7f3b1b717198>"
      ]
     },
     "metadata": {},
     "output_type": "display_data"
    }
   ],
   "source": [
    "# charts by season \n",
    "multibar(filename,'Chicago', month=False)\n"
   ]
  },
  {
   "cell_type": "markdown",
   "metadata": {},
   "source": [
    "<a id='conclusions'></a>\n",
    "## Conclusions\n",
    "\n",
    "Congratulations on completing the project! This is only a sampling of the data analysis process: from generating questions, wrangling the data, and to exploring the data. Normally, at this point in the data analysis process, you might want to draw conclusions about the data by performing a statistical test or fitting the data to a model for making predictions. There are also a lot of potential analyses that could be performed on the data which are not possible with only the data provided. For example, detailed location data has not been investigated. Where are the most commonly used docks? What are the most common routes? As another example, weather has potential to have a large impact on daily ridership. How much is ridership impacted when there is rain or snow? Are subscribers or customers affected more by changes in weather?\n",
    "\n",
    "**Question 7**: Putting the bike share data aside, think of a topic or field of interest where you would like to be able to apply the techniques of data science. What would you like to be able to learn from your chosen subject?\n",
    "\n",
    "**Answer**: \n",
    " <br> __Impact of the messaging applications and Internet on the traditional Mobile SMS__\n",
    " <br> -How the rise of messaging applications (availability of internet) and technologies like WhatsApp have impacted the traditional mobile SMS traffic over the years? \n",
    " <br>-Did that affect the revenue of the Mobile Telecom operators from SMS?\n",
    " <br>-How much of the market share did the traditional SMS loose to the messaging Applications over the years?\n",
    "  \n",
    "\n",
    "> **Tip**: If we want to share the results of our analysis with others, we aren't limited to giving them a copy of the jupyter Notebook (.ipynb) file. We can also export the Notebook output in a form that can be opened even for those without Python installed. From the **File** menu in the upper left, go to the **Download as** submenu. You can then choose a different format that can be viewed more generally, such as HTML (.html) or\n",
    "PDF (.pdf). You may need additional packages or software to perform these exports.\n",
    "\n",
    "> If you are working on this project via the Project Notebook page in the classroom, you can also submit this project directly from the workspace. **Before you do that**, you should save an HTML copy of the completed project to the workspace by running the code cell below. If it worked correctly, the output code should be a 0, and if you click on the jupyter icon in the upper left, you should see your .html document in the workspace directory. Alternatively, you can download the .html copy of your report following the steps in the previous paragraph, then _upload_ the report to the directory (by clicking the jupyter icon).\n",
    "\n",
    "> Either way, once you've gotten the .html report in your workspace, you can complete your submission by clicking on the \"Submit Project\" button to the lower-right hand side of the workspace."
   ]
  },
  {
   "cell_type": "markdown",
   "metadata": {},
   "source": [
    "__References:__\n",
    "<br> https://docs.python.org/3/library/collections.html\n",
    "<br> https://docs.python.org/3.1/library/collections.html#collections.OrderedDict\n",
    "<br> https://www.timeanddate.com/calendar/aboutseasons.html\n",
    "<br> https://matplotlib.org/devdocs/gallery/lines_bars_and_markers/categorical_variables.html\n",
    "<br> https://matplotlib.org/gallery/statistics/barchart_demo.html\n",
    "<br> https://matplotlib.org/devdocs/gallery/lines_bars_and_markers/barh.html"
   ]
  },
  {
   "cell_type": "code",
   "execution_count": 33,
   "metadata": {},
   "outputs": [
    {
     "data": {
      "text/plain": [
       "0"
      ]
     },
     "execution_count": 33,
     "metadata": {},
     "output_type": "execute_result"
    }
   ],
   "source": [
    "from subprocess import call\n",
    "call(['python', '-m', 'nbconvert', 'Bike_Share_Analysis.ipynb'])"
   ]
  },
  {
   "cell_type": "code",
   "execution_count": null,
   "metadata": {},
   "outputs": [],
   "source": []
  }
 ],
 "metadata": {
  "anaconda-cloud": {},
  "kernelspec": {
   "display_name": "Python 3",
   "language": "python",
   "name": "python3"
  },
  "language_info": {
   "codemirror_mode": {
    "name": "ipython",
    "version": 3
   },
   "file_extension": ".py",
   "mimetype": "text/x-python",
   "name": "python",
   "nbconvert_exporter": "python",
   "pygments_lexer": "ipython3",
   "version": "3.6.3"
  }
 },
 "nbformat": 4,
 "nbformat_minor": 1
}

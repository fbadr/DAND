{
 "cells": [
  {
   "cell_type": "markdown",
   "metadata": {},
   "source": [
    "\n",
    "\n",
    "# Project: Investigate the Soccer Database Dataset\n",
    "\n",
    "## Table of Contents\n",
    "<ul>\n",
    "<li><a href=\"#intro\">Introduction</a></li>\n",
    "<li><a href=\"#wrangling\">Data Wrangling</a></li>\n",
    "<li><a href=\"#eda\">Exploratory Data Analysis</a></li>\n",
    "<li><a href=\"#conclusions\">Conclusions</a></li>\n",
    "</ul>"
   ]
  },
  {
   "cell_type": "markdown",
   "metadata": {},
   "source": [
    "<a id='intro'></a>\n",
    "## Introduction\n",
    "\n",
    "> In this report we will focus on the top 4 European leagues data taken from the Soccer Database (England, Spain, Germany and Italy).\n",
    "   And we will try to explore the data available about the teams from 2008 to 2015\n",
    "  in order to come out with answers to the following questions:<br>\n",
    "> <br> **Questions**<br>\n",
    "\n",
    ">   From the top 4 leagues in question, which teams are the most successful? <br>\n",
    ">   What are the technical characteristics of successfull/winning teams compared\n",
    "    to the other teams?<br> \n",
    ">  1.away win vs home win , Goal scored vs Goal conceded  <br>\n",
    ">  2.In general do successful/winning teams have more Ball possession? <br>\n",
    ">  3.Do they have more shot on targets? <br>\n",
    "\n",
    ">Which English premier league teams have most improved between 2012 and 2014? \n"
   ]
  },
  {
   "cell_type": "code",
   "execution_count": 1,
   "metadata": {
    "collapsed": true
   },
   "outputs": [],
   "source": [
    "import pandas as pd\n",
    "import numpy as np\n",
    "import matplotlib.pyplot as plt\n",
    "import seaborn as sns\n",
    "import xml.etree.cElementTree as ET\n",
    "import sqlite3\n",
    "%matplotlib inline"
   ]
  },
  {
   "cell_type": "markdown",
   "metadata": {},
   "source": [
    "<a id='wrangling'></a>\n",
    "## Data Wrangling\n",
    "\n",
    "\n",
    "### General Properties \n",
    "> First of all the Data is organized in sqlite database tables\n",
    "> What we are intersted in is get all the matches information related\n",
    "> to  4 countries England, Spain, Germany and Italy.\n",
    "> Also we will load the Team_Attributes table\n",
    "> Before loading the data let's check the important tables.\n"
   ]
  },
  {
   "cell_type": "code",
   "execution_count": 2,
   "metadata": {},
   "outputs": [
    {
     "data": {
      "text/html": [
       "<div>\n",
       "<style>\n",
       "    .dataframe thead tr:only-child th {\n",
       "        text-align: right;\n",
       "    }\n",
       "\n",
       "    .dataframe thead th {\n",
       "        text-align: left;\n",
       "    }\n",
       "\n",
       "    .dataframe tbody tr th {\n",
       "        vertical-align: top;\n",
       "    }\n",
       "</style>\n",
       "<table border=\"1\" class=\"dataframe\">\n",
       "  <thead>\n",
       "    <tr style=\"text-align: right;\">\n",
       "      <th></th>\n",
       "      <th>type</th>\n",
       "      <th>name</th>\n",
       "      <th>tbl_name</th>\n",
       "      <th>rootpage</th>\n",
       "      <th>sql</th>\n",
       "    </tr>\n",
       "  </thead>\n",
       "  <tbody>\n",
       "    <tr>\n",
       "      <th>0</th>\n",
       "      <td>table</td>\n",
       "      <td>sqlite_sequence</td>\n",
       "      <td>sqlite_sequence</td>\n",
       "      <td>4</td>\n",
       "      <td>CREATE TABLE sqlite_sequence(name,seq)</td>\n",
       "    </tr>\n",
       "    <tr>\n",
       "      <th>1</th>\n",
       "      <td>table</td>\n",
       "      <td>Player_Attributes</td>\n",
       "      <td>Player_Attributes</td>\n",
       "      <td>11</td>\n",
       "      <td>CREATE TABLE \"Player_Attributes\" (\\n\\t`id`\\tIN...</td>\n",
       "    </tr>\n",
       "    <tr>\n",
       "      <th>2</th>\n",
       "      <td>table</td>\n",
       "      <td>Player</td>\n",
       "      <td>Player</td>\n",
       "      <td>14</td>\n",
       "      <td>CREATE TABLE `Player` (\\n\\t`id`\\tINTEGER PRIMA...</td>\n",
       "    </tr>\n",
       "    <tr>\n",
       "      <th>3</th>\n",
       "      <td>table</td>\n",
       "      <td>Match</td>\n",
       "      <td>Match</td>\n",
       "      <td>18</td>\n",
       "      <td>CREATE TABLE `Match` (\\n\\t`id`\\tINTEGER PRIMAR...</td>\n",
       "    </tr>\n",
       "    <tr>\n",
       "      <th>4</th>\n",
       "      <td>table</td>\n",
       "      <td>League</td>\n",
       "      <td>League</td>\n",
       "      <td>24</td>\n",
       "      <td>CREATE TABLE `League` (\\n\\t`id`\\tINTEGER PRIMA...</td>\n",
       "    </tr>\n",
       "    <tr>\n",
       "      <th>5</th>\n",
       "      <td>table</td>\n",
       "      <td>Country</td>\n",
       "      <td>Country</td>\n",
       "      <td>26</td>\n",
       "      <td>CREATE TABLE `Country` (\\n\\t`id`\\tINTEGER PRIM...</td>\n",
       "    </tr>\n",
       "    <tr>\n",
       "      <th>6</th>\n",
       "      <td>table</td>\n",
       "      <td>Team</td>\n",
       "      <td>Team</td>\n",
       "      <td>29</td>\n",
       "      <td>CREATE TABLE \"Team\" (\\n\\t`id`\\tINTEGER PRIMARY...</td>\n",
       "    </tr>\n",
       "    <tr>\n",
       "      <th>7</th>\n",
       "      <td>table</td>\n",
       "      <td>Team_Attributes</td>\n",
       "      <td>Team_Attributes</td>\n",
       "      <td>2</td>\n",
       "      <td>CREATE TABLE `Team_Attributes` (\\n\\t`id`\\tINTE...</td>\n",
       "    </tr>\n",
       "  </tbody>\n",
       "</table>\n",
       "</div>"
      ],
      "text/plain": [
       "    type               name           tbl_name  rootpage  \\\n",
       "0  table    sqlite_sequence    sqlite_sequence         4   \n",
       "1  table  Player_Attributes  Player_Attributes        11   \n",
       "2  table             Player             Player        14   \n",
       "3  table              Match              Match        18   \n",
       "4  table             League             League        24   \n",
       "5  table            Country            Country        26   \n",
       "6  table               Team               Team        29   \n",
       "7  table    Team_Attributes    Team_Attributes         2   \n",
       "\n",
       "                                                 sql  \n",
       "0             CREATE TABLE sqlite_sequence(name,seq)  \n",
       "1  CREATE TABLE \"Player_Attributes\" (\\n\\t`id`\\tIN...  \n",
       "2  CREATE TABLE `Player` (\\n\\t`id`\\tINTEGER PRIMA...  \n",
       "3  CREATE TABLE `Match` (\\n\\t`id`\\tINTEGER PRIMAR...  \n",
       "4  CREATE TABLE `League` (\\n\\t`id`\\tINTEGER PRIMA...  \n",
       "5  CREATE TABLE `Country` (\\n\\t`id`\\tINTEGER PRIM...  \n",
       "6  CREATE TABLE \"Team\" (\\n\\t`id`\\tINTEGER PRIMARY...  \n",
       "7  CREATE TABLE `Team_Attributes` (\\n\\t`id`\\tINTE...  "
      ]
     },
     "execution_count": 2,
     "metadata": {},
     "output_type": "execute_result"
    }
   ],
   "source": [
    "conn = sqlite3.connect('database.sqlite')\n",
    "\n",
    "tables = pd.read_sql(\"\"\"SELECT *\n",
    "                        FROM sqlite_master\n",
    "                        WHERE type='table';\"\"\", conn)\n",
    "\n",
    "tables\n",
    "\n",
    "\n",
    "\n"
   ]
  },
  {
   "cell_type": "markdown",
   "metadata": {},
   "source": [
    "\n",
    "### Data Cleaning (Replace this with more specific notes!)\n",
    "> We will use SQL Join to Join Match table to Country table on country_id and Team table \n",
    " on team_api_id in order to get the match related country, Home team name and Away team name \n",
    "> "
   ]
  },
  {
   "cell_type": "code",
   "execution_count": 28,
   "metadata": {},
   "outputs": [
    {
     "data": {
      "text/html": [
       "<div>\n",
       "<style>\n",
       "    .dataframe thead tr:only-child th {\n",
       "        text-align: right;\n",
       "    }\n",
       "\n",
       "    .dataframe thead th {\n",
       "        text-align: left;\n",
       "    }\n",
       "\n",
       "    .dataframe tbody tr th {\n",
       "        vertical-align: top;\n",
       "    }\n",
       "</style>\n",
       "<table border=\"1\" class=\"dataframe\">\n",
       "  <thead>\n",
       "    <tr style=\"text-align: right;\">\n",
       "      <th></th>\n",
       "      <th>id</th>\n",
       "      <th>name</th>\n",
       "    </tr>\n",
       "  </thead>\n",
       "  <tbody>\n",
       "    <tr>\n",
       "      <th>0</th>\n",
       "      <td>1</td>\n",
       "      <td>Belgium</td>\n",
       "    </tr>\n",
       "    <tr>\n",
       "      <th>1</th>\n",
       "      <td>1729</td>\n",
       "      <td>England</td>\n",
       "    </tr>\n",
       "    <tr>\n",
       "      <th>2</th>\n",
       "      <td>4769</td>\n",
       "      <td>France</td>\n",
       "    </tr>\n",
       "    <tr>\n",
       "      <th>3</th>\n",
       "      <td>7809</td>\n",
       "      <td>Germany</td>\n",
       "    </tr>\n",
       "    <tr>\n",
       "      <th>4</th>\n",
       "      <td>10257</td>\n",
       "      <td>Italy</td>\n",
       "    </tr>\n",
       "    <tr>\n",
       "      <th>5</th>\n",
       "      <td>13274</td>\n",
       "      <td>Netherlands</td>\n",
       "    </tr>\n",
       "    <tr>\n",
       "      <th>6</th>\n",
       "      <td>15722</td>\n",
       "      <td>Poland</td>\n",
       "    </tr>\n",
       "    <tr>\n",
       "      <th>7</th>\n",
       "      <td>17642</td>\n",
       "      <td>Portugal</td>\n",
       "    </tr>\n",
       "    <tr>\n",
       "      <th>8</th>\n",
       "      <td>19694</td>\n",
       "      <td>Scotland</td>\n",
       "    </tr>\n",
       "    <tr>\n",
       "      <th>9</th>\n",
       "      <td>21518</td>\n",
       "      <td>Spain</td>\n",
       "    </tr>\n",
       "    <tr>\n",
       "      <th>10</th>\n",
       "      <td>24558</td>\n",
       "      <td>Switzerland</td>\n",
       "    </tr>\n",
       "  </tbody>\n",
       "</table>\n",
       "</div>"
      ],
      "text/plain": [
       "       id         name\n",
       "0       1      Belgium\n",
       "1    1729      England\n",
       "2    4769       France\n",
       "3    7809      Germany\n",
       "4   10257        Italy\n",
       "5   13274  Netherlands\n",
       "6   15722       Poland\n",
       "7   17642     Portugal\n",
       "8   19694     Scotland\n",
       "9   21518        Spain\n",
       "10  24558  Switzerland"
      ]
     },
     "execution_count": 28,
     "metadata": {},
     "output_type": "execute_result"
    }
   ],
   "source": [
    "#list of countries are found in Country table\n",
    "\n",
    "countries = pd.read_sql(\"\"\"SELECT *\n",
    "                        FROM Country;\"\"\", conn)\n",
    "countries"
   ]
  },
  {
   "cell_type": "code",
   "execution_count": 29,
   "metadata": {},
   "outputs": [
    {
     "data": {
      "text/html": [
       "<div>\n",
       "<style>\n",
       "    .dataframe thead tr:only-child th {\n",
       "        text-align: right;\n",
       "    }\n",
       "\n",
       "    .dataframe thead th {\n",
       "        text-align: left;\n",
       "    }\n",
       "\n",
       "    .dataframe tbody tr th {\n",
       "        vertical-align: top;\n",
       "    }\n",
       "</style>\n",
       "<table border=\"1\" class=\"dataframe\">\n",
       "  <thead>\n",
       "    <tr style=\"text-align: right;\">\n",
       "      <th></th>\n",
       "      <th>id</th>\n",
       "      <th>team_api_id</th>\n",
       "      <th>team_fifa_api_id</th>\n",
       "      <th>team_long_name</th>\n",
       "      <th>team_short_name</th>\n",
       "    </tr>\n",
       "  </thead>\n",
       "  <tbody>\n",
       "    <tr>\n",
       "      <th>0</th>\n",
       "      <td>1</td>\n",
       "      <td>9987</td>\n",
       "      <td>673</td>\n",
       "      <td>KRC Genk</td>\n",
       "      <td>GEN</td>\n",
       "    </tr>\n",
       "    <tr>\n",
       "      <th>1</th>\n",
       "      <td>2</td>\n",
       "      <td>9993</td>\n",
       "      <td>675</td>\n",
       "      <td>Beerschot AC</td>\n",
       "      <td>BAC</td>\n",
       "    </tr>\n",
       "    <tr>\n",
       "      <th>2</th>\n",
       "      <td>3</td>\n",
       "      <td>10000</td>\n",
       "      <td>15005</td>\n",
       "      <td>SV Zulte-Waregem</td>\n",
       "      <td>ZUL</td>\n",
       "    </tr>\n",
       "    <tr>\n",
       "      <th>3</th>\n",
       "      <td>4</td>\n",
       "      <td>9994</td>\n",
       "      <td>2007</td>\n",
       "      <td>Sporting Lokeren</td>\n",
       "      <td>LOK</td>\n",
       "    </tr>\n",
       "    <tr>\n",
       "      <th>4</th>\n",
       "      <td>5</td>\n",
       "      <td>9984</td>\n",
       "      <td>1750</td>\n",
       "      <td>KSV Cercle Brugge</td>\n",
       "      <td>CEB</td>\n",
       "    </tr>\n",
       "  </tbody>\n",
       "</table>\n",
       "</div>"
      ],
      "text/plain": [
       "   id  team_api_id  team_fifa_api_id     team_long_name team_short_name\n",
       "0   1         9987               673           KRC Genk             GEN\n",
       "1   2         9993               675       Beerschot AC             BAC\n",
       "2   3        10000             15005   SV Zulte-Waregem             ZUL\n",
       "3   4         9994              2007   Sporting Lokeren             LOK\n",
       "4   5         9984              1750  KSV Cercle Brugge             CEB"
      ]
     },
     "execution_count": 29,
     "metadata": {},
     "output_type": "execute_result"
    }
   ],
   "source": [
    "#list of teams are found in Team table\n",
    "teams = pd.read_sql(\"\"\"SELECT *\n",
    "                        FROM Team limit 5;\"\"\", conn)\n",
    "teams"
   ]
  },
  {
   "cell_type": "code",
   "execution_count": 30,
   "metadata": {},
   "outputs": [
    {
     "data": {
      "text/html": [
       "<div>\n",
       "<style>\n",
       "    .dataframe thead tr:only-child th {\n",
       "        text-align: right;\n",
       "    }\n",
       "\n",
       "    .dataframe thead th {\n",
       "        text-align: left;\n",
       "    }\n",
       "\n",
       "    .dataframe tbody tr th {\n",
       "        vertical-align: top;\n",
       "    }\n",
       "</style>\n",
       "<table border=\"1\" class=\"dataframe\">\n",
       "  <thead>\n",
       "    <tr style=\"text-align: right;\">\n",
       "      <th></th>\n",
       "      <th>id</th>\n",
       "      <th>country_id</th>\n",
       "      <th>league_id</th>\n",
       "      <th>season</th>\n",
       "      <th>stage</th>\n",
       "      <th>date</th>\n",
       "      <th>match_api_id</th>\n",
       "      <th>home_team_api_id</th>\n",
       "      <th>away_team_api_id</th>\n",
       "      <th>home_team_goal</th>\n",
       "      <th>...</th>\n",
       "      <th>SJA</th>\n",
       "      <th>VCH</th>\n",
       "      <th>VCD</th>\n",
       "      <th>VCA</th>\n",
       "      <th>GBH</th>\n",
       "      <th>GBD</th>\n",
       "      <th>GBA</th>\n",
       "      <th>BSH</th>\n",
       "      <th>BSD</th>\n",
       "      <th>BSA</th>\n",
       "    </tr>\n",
       "  </thead>\n",
       "  <tbody>\n",
       "    <tr>\n",
       "      <th>0</th>\n",
       "      <td>1</td>\n",
       "      <td>1</td>\n",
       "      <td>1</td>\n",
       "      <td>2008/2009</td>\n",
       "      <td>1</td>\n",
       "      <td>2008-08-17 00:00:00</td>\n",
       "      <td>492473</td>\n",
       "      <td>9987</td>\n",
       "      <td>9993</td>\n",
       "      <td>1</td>\n",
       "      <td>...</td>\n",
       "      <td>4.0</td>\n",
       "      <td>1.65</td>\n",
       "      <td>3.40</td>\n",
       "      <td>4.50</td>\n",
       "      <td>1.78</td>\n",
       "      <td>3.25</td>\n",
       "      <td>4.00</td>\n",
       "      <td>1.73</td>\n",
       "      <td>3.40</td>\n",
       "      <td>4.20</td>\n",
       "    </tr>\n",
       "    <tr>\n",
       "      <th>1</th>\n",
       "      <td>2</td>\n",
       "      <td>1</td>\n",
       "      <td>1</td>\n",
       "      <td>2008/2009</td>\n",
       "      <td>1</td>\n",
       "      <td>2008-08-16 00:00:00</td>\n",
       "      <td>492474</td>\n",
       "      <td>10000</td>\n",
       "      <td>9994</td>\n",
       "      <td>0</td>\n",
       "      <td>...</td>\n",
       "      <td>3.8</td>\n",
       "      <td>2.00</td>\n",
       "      <td>3.25</td>\n",
       "      <td>3.25</td>\n",
       "      <td>1.85</td>\n",
       "      <td>3.25</td>\n",
       "      <td>3.75</td>\n",
       "      <td>1.91</td>\n",
       "      <td>3.25</td>\n",
       "      <td>3.60</td>\n",
       "    </tr>\n",
       "    <tr>\n",
       "      <th>2</th>\n",
       "      <td>3</td>\n",
       "      <td>1</td>\n",
       "      <td>1</td>\n",
       "      <td>2008/2009</td>\n",
       "      <td>1</td>\n",
       "      <td>2008-08-16 00:00:00</td>\n",
       "      <td>492475</td>\n",
       "      <td>9984</td>\n",
       "      <td>8635</td>\n",
       "      <td>0</td>\n",
       "      <td>...</td>\n",
       "      <td>2.5</td>\n",
       "      <td>2.35</td>\n",
       "      <td>3.25</td>\n",
       "      <td>2.65</td>\n",
       "      <td>2.50</td>\n",
       "      <td>3.20</td>\n",
       "      <td>2.50</td>\n",
       "      <td>2.30</td>\n",
       "      <td>3.20</td>\n",
       "      <td>2.75</td>\n",
       "    </tr>\n",
       "  </tbody>\n",
       "</table>\n",
       "<p>3 rows × 115 columns</p>\n",
       "</div>"
      ],
      "text/plain": [
       "   id  country_id  league_id     season  stage                 date  \\\n",
       "0   1           1          1  2008/2009      1  2008-08-17 00:00:00   \n",
       "1   2           1          1  2008/2009      1  2008-08-16 00:00:00   \n",
       "2   3           1          1  2008/2009      1  2008-08-16 00:00:00   \n",
       "\n",
       "   match_api_id  home_team_api_id  away_team_api_id  home_team_goal  ...   \\\n",
       "0        492473              9987              9993               1  ...    \n",
       "1        492474             10000              9994               0  ...    \n",
       "2        492475              9984              8635               0  ...    \n",
       "\n",
       "   SJA   VCH   VCD   VCA   GBH   GBD   GBA   BSH   BSD   BSA  \n",
       "0  4.0  1.65  3.40  4.50  1.78  3.25  4.00  1.73  3.40  4.20  \n",
       "1  3.8  2.00  3.25  3.25  1.85  3.25  3.75  1.91  3.25  3.60  \n",
       "2  2.5  2.35  3.25  2.65  2.50  3.20  2.50  2.30  3.20  2.75  \n",
       "\n",
       "[3 rows x 115 columns]"
      ]
     },
     "execution_count": 30,
     "metadata": {},
     "output_type": "execute_result"
    }
   ],
   "source": [
    "#List of matches\n",
    "matches = pd.read_sql(\"\"\"SELECT *\n",
    "                        FROM Match limit 3;\"\"\", conn)\n",
    "matches"
   ]
  },
  {
   "cell_type": "markdown",
   "metadata": {},
   "source": [
    "> There is quite a lot of columns, but we are only interested in:<br>\n",
    "> country, date, home_team name, away_team name\n",
    "> home_team_api_id\n",
    "> away_team_api_id\n",
    "> home_team goal away_team goal\n",
    "> goal, shoton, possession"
   ]
  },
  {
   "cell_type": "code",
   "execution_count": 5,
   "metadata": {},
   "outputs": [
    {
     "name": "stdout",
     "output_type": "stream",
     "text": [
      "<class 'pandas.core.frame.DataFrame'>\n",
      "RangeIndex: 11545 entries, 0 to 11544\n",
      "Data columns (total 14 columns):\n",
      "match_id          11545 non-null int64\n",
      "country           11545 non-null object\n",
      "season            11545 non-null object\n",
      "stage             11545 non-null int64\n",
      "date              11545 non-null object\n",
      "home_team         11545 non-null object\n",
      "away_team         11545 non-null object\n",
      "home_team_id      11545 non-null int64\n",
      "away_team_id      11545 non-null int64\n",
      "home_team_goal    11545 non-null int64\n",
      "away_team_goal    11545 non-null int64\n",
      "goal              11541 non-null object\n",
      "shoton            11541 non-null object\n",
      "possession        11541 non-null object\n",
      "dtypes: int64(6), object(8)\n",
      "memory usage: 902.0+ KB\n"
     ]
    }
   ],
   "source": [
    "df_4leagues = pd.read_sql(\"\"\"SELECT Match.id AS match_id, \n",
    "                               Country.name AS country, \n",
    "                               season, stage, date, \n",
    "                               hteam.team_long_name AS home_team,\n",
    "                               ateam.team_long_name AS away_team, \n",
    "                               home_team_api_id AS home_team_id,\n",
    "                               away_team_api_id as away_team_id, \n",
    "                               home_team_goal, away_team_goal, \n",
    "                               goal, shoton, possession                                     \n",
    "                               FROM Match\n",
    "                               JOIN Country on Country.id = Match.country_id\n",
    "                               AND Country.name in ('England', 'Germany', 'Italy', 'Spain')\n",
    "                               JOIN Team AS hteam on hteam.team_api_id = Match.home_team_api_id\n",
    "                               JOIN Team AS ateam on ateam.team_api_id = Match.away_team_api_id\"\"\", conn)\n",
    "\n",
    "df_4leagues.info()"
   ]
  },
  {
   "cell_type": "markdown",
   "metadata": {},
   "source": [
    "> let's load the Team_Attributes table data.<br>\n",
    "> The Team_Attributes table contains the team_api_id but not the team name. <br>\n",
    "> We will Join Team_Attrbiutes table with Team table on team_api_id. <br>\n"
   ]
  },
  {
   "cell_type": "code",
   "execution_count": 6,
   "metadata": {
    "collapsed": true
   },
   "outputs": [],
   "source": [
    "df_team_attr = pd.read_sql(\"\"\"SELECT Team.team_long_name, Team_Attributes.* \n",
    "                                FROM Team\n",
    "                                JOIN Team_Attributes\n",
    "                                ON Team.team_api_id = Team_Attributes.team_api_id \"\"\", conn)\n",
    "\n",
    "                               "
   ]
  },
  {
   "cell_type": "code",
   "execution_count": 7,
   "metadata": {},
   "outputs": [
    {
     "data": {
      "text/plain": [
       "0"
      ]
     },
     "execution_count": 7,
     "metadata": {},
     "output_type": "execute_result"
    }
   ],
   "source": [
    "#check for duplicated values in df_4leagues\n",
    "sum(df_4leagues.duplicated())"
   ]
  },
  {
   "cell_type": "code",
   "execution_count": 8,
   "metadata": {},
   "outputs": [
    {
     "data": {
      "text/plain": [
       "3"
      ]
     },
     "execution_count": 8,
     "metadata": {},
     "output_type": "execute_result"
    }
   ],
   "source": [
    "# we have 3 columns with Null Values goal, shoton and possession\n",
    "sum(df_4leagues.isnull().any())"
   ]
  },
  {
   "cell_type": "code",
   "execution_count": 9,
   "metadata": {
    "collapsed": true
   },
   "outputs": [],
   "source": [
    "# modifying date to datetime datatype\n",
    "df_4leagues['date'] = pd.to_datetime(df_4leagues['date'], format='%Y-%m-%d')"
   ]
  },
  {
   "cell_type": "code",
   "execution_count": 10,
   "metadata": {
    "collapsed": true
   },
   "outputs": [],
   "source": [
    "# let's change the format to take the first year of the season\n",
    "# easier to work with instead of 2008/2009 --> 2008\n",
    "df_4leagues['season']=df_4leagues['season'].apply(lambda x: x.split('/')[0])"
   ]
  },
  {
   "cell_type": "markdown",
   "metadata": {},
   "source": [
    "> Since each row in the df_4leagues DataFrame represents a match <br>\n",
    "> we have home_team and away_team in each row. <br>\n",
    "> So each Team can be once a home_team and in the other the away_team depending <br>\n",
    "> on home leg games and away leg games. <br>\n",
    "> In order to get the technical attributes by team and above all the Winning percentage <br>\n",
    "> by team, we will split the data set between home teams and away teams DataFrames <br>\n",
    "<br>\n",
    "> In the original DataFrames: goal, shoton and possession columns contain data in XML format\n",
    "> We need to extract the intersting Data from XML trees"
   ]
  },
  {
   "cell_type": "code",
   "execution_count": 11,
   "metadata": {},
   "outputs": [
    {
     "name": "stdout",
     "output_type": "stream",
     "text": [
      "<class 'pandas.core.frame.DataFrame'>\n",
      "RangeIndex: 11545 entries, 0 to 11544\n",
      "Data columns (total 10 columns):\n",
      "match_id        11545 non-null int64\n",
      "country         11545 non-null object\n",
      "season          11545 non-null object\n",
      "stage           11545 non-null int64\n",
      "date            11545 non-null datetime64[ns]\n",
      "home_team       11545 non-null object\n",
      "away_team       11545 non-null object\n",
      "goal            11541 non-null object\n",
      "home_team_id    11545 non-null int64\n",
      "away_team_id    11545 non-null int64\n",
      "dtypes: datetime64[ns](1), int64(4), object(5)\n",
      "memory usage: 676.5+ KB\n"
     ]
    }
   ],
   "source": [
    "#let's start by goal column in order to extract the penalties scored data\n",
    "df_4leagues1 = df_4leagues.copy()\n",
    "# getting the intersting columns \n",
    "df_4l_pen = df_4leagues[['match_id', 'country', 'season',\n",
    "                         'stage', 'date', 'home_team',\n",
    "                         'away_team', 'goal', 'home_team_id',\n",
    "                         'away_team_id']]\n",
    "df_4l_pen.info()"
   ]
  },
  {
   "cell_type": "code",
   "execution_count": 37,
   "metadata": {},
   "outputs": [
    {
     "data": {
      "text/plain": [
       "0"
      ]
     },
     "execution_count": 37,
     "metadata": {},
     "output_type": "execute_result"
    }
   ],
   "source": [
    "sum(df_4l_pen.duplicated())"
   ]
  },
  {
   "cell_type": "code",
   "execution_count": 12,
   "metadata": {},
   "outputs": [
    {
     "data": {
      "text/plain": [
       "4"
      ]
     },
     "execution_count": 12,
     "metadata": {},
     "output_type": "execute_result"
    }
   ],
   "source": [
    "#we can ignore those values for the moment\n",
    "sum(df_4l_pen['goal'].isnull())"
   ]
  },
  {
   "cell_type": "markdown",
   "metadata": {},
   "source": [
    "> 'get_penalties' function will be used to get the number of penalties per game for each team <br>\n",
    "> the function will be supplied by a home_team DF and away_team DF at a time to count the penalties <br>\n",
    "> Once done we will merge the 2 DataFrames together based on match_id to get the data by match. <br>\n",
    "> The same logic will be used later to get shoton and possession by match for each team<br>\n",
    "**Note**:<br>\n",
    "> missing home team penalties and away team penalties will be replaced by zeros <br>\n",
    "\n"
   ]
  },
  {
   "cell_type": "code",
   "execution_count": 13,
   "metadata": {
    "collapsed": true
   },
   "outputs": [],
   "source": [
    "from collections import defaultdict\n",
    "def get_penalties(df, columnname, xml_elt, home_team=True):\n",
    "    '''Function takes an original DataFrame,\n",
    "       column name in this case \"goal\" and\n",
    "       \"xml_elt\" (goal_type), and boolean home_team\n",
    "       if True we are checking home_team goals\n",
    "       if false we are checking away_team goals\n",
    "       used for searching the XML tree \n",
    "       in each row of the 'goal' column.\n",
    "       Returns an new DFrame including the match_id,\n",
    "       the team_id and the number of penalties scored \n",
    "       if no penalties were found returns 0'''\n",
    "    # initalize list match_ids\n",
    "    matches = defaultdict(list)\n",
    "    team = defaultdict(list)\n",
    "    goal = defaultdict(list)\n",
    "    # iterate over df rows and output them as tuples\n",
    "    for row in df[df[columnname].notnull()].itertuples():\n",
    "        listpenalties = []\n",
    "        # get match_id position from original DataFrame\n",
    "        game_id = row[df.columns.get_loc('match_id') + 1]\n",
    "        if home_team: \n",
    "        # get match_id home_team_id from the original DataFrame\n",
    "            teamid = row[df.columns.get_loc('home_team_id') + 1]\n",
    "            pen = 'hteam_pen'\n",
    "        else:\n",
    "        #get match_id away_team_id from the original DataFrame\n",
    "            teamid = row[df.columns.get_loc('away_team_id') + 1]\n",
    "            pen='ateam_pen'\n",
    "\n",
    "        # get XML tree for each row for column goal \n",
    "        tree = ET.ElementTree(ET.fromstring(row[df.columns.get_loc(columnname) + 1]))\n",
    "        # element 'goal' <Element 'goal' at 0x00F9CCC0>\n",
    "        root= tree.getroot()\n",
    "        a = 0\n",
    "        b = 0\n",
    "        for event in root.findall('value'):\n",
    "       \n",
    "            if event.find('team') is None:\n",
    "                a=1\n",
    "            else:\n",
    "                b=1\n",
    "                #check that team_id in xml matching DataFrame team_id\n",
    "                if int(event.find('team').text) == teamid:\n",
    "                   \n",
    "                    if event.find(xml_elt).text is None:\n",
    "                        continue\n",
    "                    else:\n",
    "                 #if goal_type element equal to 'p'\n",
    "                 # means this a penalty goal\n",
    "                        if event.find(xml_elt).text == 'p':\n",
    "                            listpenalties.append(1)\n",
    "         \n",
    "        if a > 0 or b > 0:\n",
    "            #populate dicts with data\n",
    "            goal[pen].append(len(listpenalties))\n",
    "            matches['match_id'].append(game_id)\n",
    "            team['club_id'].append(teamid)\n",
    "        else:\n",
    "            #if the row contains wrong XML tree tags\n",
    "            #return none to be handled later\n",
    "            goal[pen].append(None)\n",
    "            matches['match_id'].append(game_id)\n",
    "            team['club_id'].append(teamid)                   \n",
    "                        \n",
    "    print(len(matches['match_id']))\n",
    "    print(len(team['club_id']))\n",
    "    print (len(goal[pen]))\n",
    "        \n",
    "    data = {**matches, **team, **goal}\n",
    "    return pd.DataFrame(data)"
   ]
  },
  {
   "cell_type": "code",
   "execution_count": 14,
   "metadata": {},
   "outputs": [
    {
     "name": "stdout",
     "output_type": "stream",
     "text": [
      "11541\n",
      "11541\n",
      "11541\n",
      "<class 'pandas.core.frame.DataFrame'>\n",
      "RangeIndex: 11541 entries, 0 to 11540\n",
      "Data columns (total 3 columns):\n",
      "club_id      11541 non-null int64\n",
      "hteam_pen    10752 non-null float64\n",
      "match_id     11541 non-null int64\n",
      "dtypes: float64(1), int64(2)\n",
      "memory usage: 270.5 KB\n"
     ]
    }
   ],
   "source": [
    "#let's get penalties scored  by home teams\n",
    "df_pen_hteam=get_penalties(df_4l_pen,'goal', 'goal_type')\n",
    "df_pen_hteam.info()"
   ]
  },
  {
   "cell_type": "code",
   "execution_count": 15,
   "metadata": {},
   "outputs": [
    {
     "name": "stdout",
     "output_type": "stream",
     "text": [
      "<class 'pandas.core.frame.DataFrame'>\n",
      "RangeIndex: 11541 entries, 0 to 11540\n",
      "Data columns (total 3 columns):\n",
      "hteam_id     11541 non-null int64\n",
      "hteam_pen    10752 non-null float64\n",
      "match_id     11541 non-null int64\n",
      "dtypes: float64(1), int64(2)\n",
      "memory usage: 270.5 KB\n"
     ]
    }
   ],
   "source": [
    "#rename club_id to hteam_id\n",
    "df_pen_hteam.rename(columns = {'club_id':'hteam_id'} , inplace =True)\n",
    "df_pen_hteam.info()"
   ]
  },
  {
   "cell_type": "code",
   "execution_count": 16,
   "metadata": {},
   "outputs": [
    {
     "name": "stdout",
     "output_type": "stream",
     "text": [
      "11541\n",
      "11541\n",
      "11541\n",
      "<class 'pandas.core.frame.DataFrame'>\n",
      "RangeIndex: 11541 entries, 0 to 11540\n",
      "Data columns (total 3 columns):\n",
      "ateam_pen    10752 non-null float64\n",
      "club_id      11541 non-null int64\n",
      "match_id     11541 non-null int64\n",
      "dtypes: float64(1), int64(2)\n",
      "memory usage: 270.5 KB\n"
     ]
    }
   ],
   "source": [
    "df_pen_ateam=get_penalties(df_4l_pen,'goal', 'goal_type', home_team =False)\n",
    "df_pen_ateam.info()"
   ]
  },
  {
   "cell_type": "code",
   "execution_count": 17,
   "metadata": {},
   "outputs": [
    {
     "name": "stdout",
     "output_type": "stream",
     "text": [
      "<class 'pandas.core.frame.DataFrame'>\n",
      "RangeIndex: 11541 entries, 0 to 11540\n",
      "Data columns (total 3 columns):\n",
      "ateam_pen    10752 non-null float64\n",
      "ateam_id     11541 non-null int64\n",
      "match_id     11541 non-null int64\n",
      "dtypes: float64(1), int64(2)\n",
      "memory usage: 270.5 KB\n"
     ]
    }
   ],
   "source": [
    "df_pen_ateam.rename(columns = {'club_id':'ateam_id'}, inplace =True)\n",
    "df_pen_ateam.info()"
   ]
  },
  {
   "cell_type": "code",
   "execution_count": 18,
   "metadata": {},
   "outputs": [
    {
     "name": "stdout",
     "output_type": "stream",
     "text": [
      "<class 'pandas.core.frame.DataFrame'>\n",
      "Int64Index: 11541 entries, 0 to 11540\n",
      "Data columns (total 5 columns):\n",
      "hteam_id     11541 non-null int64\n",
      "hteam_pen    10752 non-null float64\n",
      "match_id     11541 non-null int64\n",
      "ateam_pen    10752 non-null float64\n",
      "ateam_id     11541 non-null int64\n",
      "dtypes: float64(2), int64(3)\n",
      "memory usage: 541.0 KB\n"
     ]
    }
   ],
   "source": [
    "#let's merge away_team penalties with home_team penalties\n",
    "#based on match_id to have the data by match\n",
    "df_apen_hpen = pd.merge(df_pen_hteam, df_pen_ateam, on='match_id', how='outer')\n",
    "df_apen_hpen.info()"
   ]
  },
  {
   "cell_type": "code",
   "execution_count": 19,
   "metadata": {
    "collapsed": true
   },
   "outputs": [],
   "source": [
    "#dropping the below columns\n",
    "df_apen_hpen.drop(['hteam_id', 'ateam_id'], axis=1, inplace = True)\n"
   ]
  },
  {
   "cell_type": "code",
   "execution_count": 20,
   "metadata": {},
   "outputs": [
    {
     "name": "stdout",
     "output_type": "stream",
     "text": [
      "<class 'pandas.core.frame.DataFrame'>\n",
      "Int64Index: 11541 entries, 0 to 11540\n",
      "Data columns (total 3 columns):\n",
      "hteam_pen    10752 non-null float64\n",
      "match_id     11541 non-null int64\n",
      "ateam_pen    10752 non-null float64\n",
      "dtypes: float64(2), int64(1)\n",
      "memory usage: 360.7 KB\n"
     ]
    }
   ],
   "source": [
    "df_apen_hpen.info()"
   ]
  },
  {
   "cell_type": "code",
   "execution_count": 21,
   "metadata": {
    "collapsed": true
   },
   "outputs": [],
   "source": [
    "#let's merge df_apen_hpen with the orignal dataset\n",
    "df_4leaguespart = df_4leagues1.drop(['home_team_id', 'away_team_id',\n",
    "                                    'goal', 'shoton', 'possession'], axis =1)"
   ]
  },
  {
   "cell_type": "markdown",
   "metadata": {},
   "source": [
    ">Merging the hteam penalties and away team penalties extracted from XML with the original \n",
    "Data Set, in order to add these new info to the matches columns already available"
   ]
  },
  {
   "cell_type": "code",
   "execution_count": 22,
   "metadata": {},
   "outputs": [
    {
     "name": "stdout",
     "output_type": "stream",
     "text": [
      "<class 'pandas.core.frame.DataFrame'>\n",
      "Int64Index: 11545 entries, 0 to 11544\n",
      "Data columns (total 11 columns):\n",
      "match_id          11545 non-null int64\n",
      "country           11545 non-null object\n",
      "season            11545 non-null object\n",
      "stage             11545 non-null int64\n",
      "date              11545 non-null datetime64[ns]\n",
      "home_team         11545 non-null object\n",
      "away_team         11545 non-null object\n",
      "home_team_goal    11545 non-null int64\n",
      "away_team_goal    11545 non-null int64\n",
      "hteam_pen         10752 non-null float64\n",
      "ateam_pen         10752 non-null float64\n",
      "dtypes: datetime64[ns](1), float64(2), int64(4), object(4)\n",
      "memory usage: 902.0+ KB\n"
     ]
    }
   ],
   "source": [
    "dfnew = pd.merge(df_4leaguespart, df_apen_hpen, left_on='match_id', right_on='match_id', how='left')\n",
    "dfnew.info()"
   ]
  },
  {
   "cell_type": "markdown",
   "metadata": {},
   "source": [
    "> filling Null hteam_pen and ateam_pen with Zeros"
   ]
  },
  {
   "cell_type": "code",
   "execution_count": 23,
   "metadata": {},
   "outputs": [
    {
     "name": "stdout",
     "output_type": "stream",
     "text": [
      "<class 'pandas.core.frame.DataFrame'>\n",
      "Int64Index: 11545 entries, 0 to 11544\n",
      "Data columns (total 11 columns):\n",
      "match_id          11545 non-null int64\n",
      "country           11545 non-null object\n",
      "season            11545 non-null object\n",
      "stage             11545 non-null int64\n",
      "date              11545 non-null datetime64[ns]\n",
      "home_team         11545 non-null object\n",
      "away_team         11545 non-null object\n",
      "home_team_goal    11545 non-null int64\n",
      "away_team_goal    11545 non-null int64\n",
      "hteam_pen         11545 non-null float64\n",
      "ateam_pen         11545 non-null float64\n",
      "dtypes: datetime64[ns](1), float64(2), int64(4), object(4)\n",
      "memory usage: 902.0+ KB\n"
     ]
    }
   ],
   "source": [
    "#again let's replace the missing hteam_pen and at_eam\n",
    "#penalties with Zeros\n",
    "dfnew.fillna(0, inplace= True)\n",
    "dfnew.info()"
   ]
  },
  {
   "cell_type": "markdown",
   "metadata": {},
   "source": [
    "> For **shoton** and **possession**, we will focus on **England matches** ONLY\n",
    "> since most of the XML trees for the other leagues are not complete, so we might not\n",
    "get accurate data in this case. <br>\n",
    "> The last possession with the last_elapsed time found in the XML tree will be taken in order to have the possession recorded of the whole time of the game. <br>\n",
    "> e.g  for elapsed 45, and elapsed 90. <br>\n",
    "> we will get the possession for elapsed 90 which means possession recorded \n",
    "> after 90 minutes of play since the game kick-off <br>\n",
    "> let's start by possession column <br>\n",
    "> **Note**: <br>\n",
    "> NULL values for home team possession will be replaced with Average home possession. <br>\n",
    "> While away team possession will be replaced with Average away possession."
   ]
  },
  {
   "cell_type": "code",
   "execution_count": 27,
   "metadata": {},
   "outputs": [
    {
     "name": "stdout",
     "output_type": "stream",
     "text": [
      "<class 'pandas.core.frame.DataFrame'>\n",
      "Int64Index: 3040 entries, 0 to 3039\n",
      "Data columns (total 14 columns):\n",
      "match_id          3040 non-null int64\n",
      "country           3040 non-null object\n",
      "season            3040 non-null object\n",
      "stage             3040 non-null int64\n",
      "date              3040 non-null datetime64[ns]\n",
      "home_team         3040 non-null object\n",
      "away_team         3040 non-null object\n",
      "home_team_id      3040 non-null int64\n",
      "away_team_id      3040 non-null int64\n",
      "home_team_goal    3040 non-null int64\n",
      "away_team_goal    3040 non-null int64\n",
      "goal              3040 non-null object\n",
      "shoton            3040 non-null object\n",
      "possession        3040 non-null object\n",
      "dtypes: datetime64[ns](1), int64(6), object(7)\n",
      "memory usage: 273.1+ KB\n"
     ]
    }
   ],
   "source": [
    "# let's filter the original DataFrame with country 'England'\n",
    "# After checking the Data, possession and shoton\n",
    "# columns which both contain XML tags, \n",
    "# with the leasr NULL values between 2008 to 2015\n",
    "# for England Premier league\n",
    "# So we will extract the needed tags from England DataFrame\n",
    "\n",
    "# filter the data based on Country England\n",
    "england_epl = df_4leagues[df_4leagues.country == 'England']\n",
    "\n",
    "england_epl.info()"
   ]
  },
  {
   "cell_type": "code",
   "execution_count": 28,
   "metadata": {},
   "outputs": [
    {
     "data": {
      "text/plain": [
       "0"
      ]
     },
     "execution_count": 28,
     "metadata": {},
     "output_type": "execute_result"
    }
   ],
   "source": [
    "sum(england_epl.duplicated())"
   ]
  },
  {
   "cell_type": "code",
   "execution_count": 29,
   "metadata": {},
   "outputs": [
    {
     "name": "stdout",
     "output_type": "stream",
     "text": [
      "<class 'pandas.core.frame.DataFrame'>\n",
      "Int64Index: 3040 entries, 0 to 3039\n",
      "Data columns (total 9 columns):\n",
      "match_id          3040 non-null int64\n",
      "country           3040 non-null object\n",
      "season            3040 non-null object\n",
      "stage             3040 non-null int64\n",
      "date              3040 non-null datetime64[ns]\n",
      "home_team         3040 non-null object\n",
      "away_team         3040 non-null object\n",
      "home_team_goal    3040 non-null int64\n",
      "away_team_goal    3040 non-null int64\n",
      "dtypes: datetime64[ns](1), int64(4), object(4)\n",
      "memory usage: 190.0+ KB\n"
     ]
    }
   ],
   "source": [
    "#will be used later in the merge with possession DataFrame obtained\n",
    "eplcopy = england_epl.loc[:, ['match_id','country','season','stage','date',\n",
    "                            'home_team','away_team', 'home_team_goal', 'away_team_goal' ]]\n",
    "eplcopy.info()"
   ]
  },
  {
   "cell_type": "markdown",
   "metadata": {},
   "source": [
    ">Function takes an original DataFrame, columnname in this case 'possession' and\n",
    "'xml_elt' (awaypos or homepos) used for searching the XML tree in each row of the 'possession' column.<br>\n",
    "> Returns an new DFrame including the match_id, and the possession percentage. The last possession with the last_elapsed time found in the XML tree is taken in order to have the possession recorded of the whole time of the game."
   ]
  },
  {
   "cell_type": "code",
   "execution_count": 30,
   "metadata": {
    "collapsed": true
   },
   "outputs": [],
   "source": [
    "###get Possession ###\n",
    "##we will apply this only for EPL data\n",
    "from collections import defaultdict\n",
    "def get_possession(df, columnname, xml_elt):\n",
    "    '''Function takes an original DataFrame,\n",
    "       columnname in this case 'possession' and\n",
    "       'xml_elt' (awaypos or homepos) \n",
    "       used for searching the XML tree \n",
    "       in each row of the 'possession' column.\n",
    "       Returns an new DFrame including the match_id,\n",
    "       and the possession percentage.\n",
    "       The last possession with the last_elapsed time found \n",
    "       in the XML tree is taken in order to have the possession \n",
    "       recorded of the whole time of the game.\n",
    "       e.g  for <elapsed>45</elapsed>, <elapsed>90</elapsed>\n",
    "       we get the possession for elapsed 90 which means \n",
    "       possession recorded after 90 minutes of play'''\n",
    "    \n",
    "    # initalize defaut dict match_id\n",
    "    matches = defaultdict(list)\n",
    "    #initialize default dict possession\n",
    "    possession = defaultdict(list)\n",
    "    # iterate over df rows and output them as tuples\n",
    "    for row in df[df[columnname].notnull()].itertuples():\n",
    "        listposs = []\n",
    "        # get match_id position from original DataFrame\n",
    "        game_id = row[df.columns.get_loc('match_id') + 1]\n",
    "        if xml_elt == 'homepos': \n",
    "            # get home_team_id position from original DataFrame\n",
    "            teamid = row[df.columns.get_loc('home_team_id') + 1]\n",
    "            poss = 'hteam_poss'\n",
    "            \n",
    "        else:\n",
    "            # get home_team_id position from original DataFrame\n",
    "            teamid = row[df.columns.get_loc('away_team_id') + 1]\n",
    "            poss = 'ateam_poss'\n",
    "        # get tree for each xml row for column : possession\n",
    "        tree = ET.ElementTree(ET.fromstring(row[df.columns.get_loc(columnname) + 1]))\n",
    "        root= tree.getroot()\n",
    "        \n",
    "        # getting all 'value' elements in child \n",
    "        for event in root.findall('value'):\n",
    "            if event.find(xml_elt) is None:\n",
    "                pass\n",
    "            else:\n",
    "                #if elapsed time found\n",
    "                if (event.find('elapsed').text):\n",
    "                # check awaypos or homepos \n",
    "                    if event.find(xml_elt).text is None:\n",
    "                        pass\n",
    "                    else:\n",
    "                        listposs.append(event.find(xml_elt).text)\n",
    "        if len(listposs) > 0:\n",
    "            #get last possession appended to the list\n",
    "            possession[poss].append(int(listposs[-1]))\n",
    "            matches['match_id'].append(game_id)\n",
    "        else:\n",
    "            #if no possession was found append None\n",
    "            possession[poss].append(None)\n",
    "            matches['match_id'].append(game_id)\n",
    "            \n",
    "\n",
    "            \n",
    "      \n",
    "    print(len(possession[poss]))\n",
    "    print(len(matches['match_id']))\n",
    "    data = {**matches, **possession}\n",
    "    return pd.DataFrame(data)"
   ]
  },
  {
   "cell_type": "code",
   "execution_count": 31,
   "metadata": {},
   "outputs": [
    {
     "name": "stdout",
     "output_type": "stream",
     "text": [
      "3040\n",
      "3040\n",
      "3040\n",
      "3040\n"
     ]
    }
   ],
   "source": [
    "# extracting home team and away team possession\n",
    "# for EPL\n",
    "df_aposs = get_possession(england_epl,'possession', 'awaypos')\n",
    "df_hposs = get_possession(england_epl,'possession', 'homepos')"
   ]
  },
  {
   "cell_type": "code",
   "execution_count": 34,
   "metadata": {
    "collapsed": true
   },
   "outputs": [],
   "source": [
    "#merging df_aposs (output of get_possession) and df_hposs (output of get_possession) \n",
    "#since we need all data from both data frame we are using outer join\n",
    "df_aposs_hposs = pd.merge(df_aposs, df_hposs, on='match_id', how='outer') "
   ]
  },
  {
   "cell_type": "markdown",
   "metadata": {},
   "source": [
    "> merge orginial DataFrame with df containing home and away possession\n",
    "for each match_id"
   ]
  },
  {
   "cell_type": "code",
   "execution_count": 35,
   "metadata": {},
   "outputs": [
    {
     "name": "stdout",
     "output_type": "stream",
     "text": [
      "<class 'pandas.core.frame.DataFrame'>\n",
      "Int64Index: 3040 entries, 0 to 3039\n",
      "Data columns (total 11 columns):\n",
      "match_id          3040 non-null int64\n",
      "country           3040 non-null object\n",
      "season            3040 non-null object\n",
      "stage             3040 non-null int64\n",
      "date              3040 non-null datetime64[ns]\n",
      "home_team         3040 non-null object\n",
      "away_team         3040 non-null object\n",
      "home_team_goal    3040 non-null int64\n",
      "away_team_goal    3040 non-null int64\n",
      "ateam_poss        3035 non-null float64\n",
      "hteam_poss        3035 non-null float64\n",
      "dtypes: datetime64[ns](1), float64(2), int64(4), object(4)\n",
      "memory usage: 237.5+ KB\n"
     ]
    }
   ],
   "source": [
    "#merge orginial DataFrame with df containing home and away possession\n",
    "# for each match_id\n",
    "epl_poss = pd.merge(eplcopy, df_aposs_hposs, left_on='match_id', right_on='match_id', how='outer') \n",
    "epl_poss.info()"
   ]
  },
  {
   "cell_type": "markdown",
   "metadata": {},
   "source": [
    "> fill Null values with average of Home possession for hteam_pos\n",
    "> fill Null values with average of Away possession for ateam_pos"
   ]
  },
  {
   "cell_type": "code",
   "execution_count": 36,
   "metadata": {},
   "outputs": [],
   "source": [
    "#we will fill Null values with average of Home possession\n",
    "#this for missing home possession values\n",
    "epl_poss.hteam_poss.fillna(epl_poss.hteam_poss.mean(), inplace =True)"
   ]
  },
  {
   "cell_type": "code",
   "execution_count": 37,
   "metadata": {
    "collapsed": true
   },
   "outputs": [],
   "source": [
    "#we will fill Null values with average of away possession\n",
    "#this for missing away possession values\n",
    "epl_poss.ateam_poss.fillna(epl_poss.ateam_poss.mean(), inplace =True)"
   ]
  },
  {
   "cell_type": "code",
   "execution_count": 38,
   "metadata": {},
   "outputs": [
    {
     "name": "stdout",
     "output_type": "stream",
     "text": [
      "<class 'pandas.core.frame.DataFrame'>\n",
      "Int64Index: 3040 entries, 0 to 3039\n",
      "Data columns (total 11 columns):\n",
      "match_id          3040 non-null int64\n",
      "country           3040 non-null object\n",
      "season            3040 non-null object\n",
      "stage             3040 non-null int64\n",
      "date              3040 non-null datetime64[ns]\n",
      "home_team         3040 non-null object\n",
      "away_team         3040 non-null object\n",
      "home_team_goal    3040 non-null int64\n",
      "away_team_goal    3040 non-null int64\n",
      "ateam_poss        3040 non-null float64\n",
      "hteam_poss        3040 non-null float64\n",
      "dtypes: datetime64[ns](1), float64(2), int64(4), object(4)\n",
      "memory usage: 237.5+ KB\n"
     ]
    }
   ],
   "source": [
    "epl_poss.info()"
   ]
  },
  {
   "cell_type": "code",
   "execution_count": 39,
   "metadata": {},
   "outputs": [
    {
     "data": {
      "text/plain": [
       "0"
      ]
     },
     "execution_count": 39,
     "metadata": {},
     "output_type": "execute_result"
    }
   ],
   "source": [
    "sum(epl_poss.duplicated())"
   ]
  },
  {
   "cell_type": "markdown",
   "metadata": {},
   "source": [
    "> let's get shoton number for home team and away team"
   ]
  },
  {
   "cell_type": "code",
   "execution_count": 40,
   "metadata": {
    "collapsed": true
   },
   "outputs": [],
   "source": [
    "def shotsont(df,columnname,xml_elt, home_team=True):\n",
    "    '''Function takes an original DataFrame,\n",
    "       columnname in this case 'possession and\n",
    "       'xml_elt' (type), and boolean home_team\n",
    "       if True we are checking home_team shoton\n",
    "       if false we are checking away_team shoton\n",
    "       used for searching the XML tree \n",
    "       in each row of the 'shoton' column.\n",
    "       Returns an new DFrame including the match_id,\n",
    "       the team_id and number of  shotontarget per game\n",
    "       If no Shot on target found it returns 0 as\n",
    "       number of shot on target'''\n",
    "\n",
    "    # initalize defaultdicts\n",
    "    matches = defaultdict(list)\n",
    "    team = defaultdict(list)\n",
    "    goal = defaultdict(list)\n",
    "    shots = defaultdict(list)\n",
    "    # iterate over df rows and output them as tuples\n",
    "    for row in df[df[columnname].notnull()].itertuples():\n",
    "        listshots = []\n",
    "        # get match_id position from original DataFrame\n",
    "        game_id = row[df.columns.get_loc('match_id') + 1]\n",
    "        if home_team: \n",
    "            # get home_team_id position from original DataFrame\n",
    "            teamid = row[df.columns.get_loc('home_team_id') + 1]\n",
    "            shoton = 'hteam_shoton'\n",
    "\n",
    "        else:\n",
    "            # get away_team_id position from original DataFrame\n",
    "            teamid = row[df.columns.get_loc('away_team_id') + 1]\n",
    "            shoton ='ateam_shoton'\n",
    "\n",
    "        # get tree for each xml row for column shoton\n",
    "        tree = ET.ElementTree(ET.fromstring(row[df.columns.get_loc(columnname) + 1]))\n",
    "        root= tree.getroot()\n",
    "        a = 0\n",
    "        b = 0\n",
    "        for event in root.findall('value'):\n",
    "       \n",
    "            if event.find('team') is None:\n",
    "                a=1\n",
    "                \n",
    "            else:\n",
    "                b=1\n",
    "                if int(event.find('team').text) == teamid:\n",
    "                   \n",
    "                    if event.find(xml_elt).text is None:\n",
    "                        continue\n",
    "                    else:\n",
    "                     \n",
    "                        if event.find(xml_elt).text == 'shoton':\n",
    "                            listshots.append(1)\n",
    "         \n",
    "        if a > 0 or b > 0:\n",
    "            shots[shoton].append(len(listshots))\n",
    "            matches['match_id'].append(game_id)\n",
    "            team['club_id'].append(teamid)\n",
    "        else:\n",
    "            shots[shoton].append(None)\n",
    "            matches['match_id'].append(game_id)\n",
    "            team['club_id'].append(teamid)                   \n",
    "                        \n",
    "    print(len(matches['match_id']))\n",
    "    print(len(team['club_id']))\n",
    "    print (len(shots[shoton]))\n",
    "        \n",
    "    data = {**matches, **team, **shots}\n",
    "    return pd.DataFrame(data)"
   ]
  },
  {
   "cell_type": "code",
   "execution_count": 41,
   "metadata": {},
   "outputs": [
    {
     "name": "stdout",
     "output_type": "stream",
     "text": [
      "3040\n",
      "3040\n",
      "3040\n",
      "3040\n",
      "3040\n",
      "3040\n"
     ]
    }
   ],
   "source": [
    "df_hshoton = shotsont(england_epl,'shoton', 'type')\n",
    "df_ashoton = shotsont(england_epl,'shoton', 'type', home_team = False)"
   ]
  },
  {
   "cell_type": "code",
   "execution_count": 42,
   "metadata": {},
   "outputs": [
    {
     "name": "stdout",
     "output_type": "stream",
     "text": [
      "<class 'pandas.core.frame.DataFrame'>\n",
      "Int64Index: 3040 entries, 0 to 3039\n",
      "Data columns (total 5 columns):\n",
      "ateam_shoton    3040 non-null int64\n",
      "club_id_x       3040 non-null int64\n",
      "match_id        3040 non-null int64\n",
      "club_id_y       3040 non-null int64\n",
      "hteam_shoton    3040 non-null int64\n",
      "dtypes: int64(5)\n",
      "memory usage: 142.5 KB\n"
     ]
    }
   ],
   "source": [
    "#merging away shoton with home shoton based on match_id\n",
    "df_ashot_hshot = pd.merge(df_ashoton, df_hshoton, on='match_id', how='outer') \n",
    "df_ashot_hshot.info()"
   ]
  },
  {
   "cell_type": "code",
   "execution_count": 43,
   "metadata": {},
   "outputs": [
    {
     "name": "stdout",
     "output_type": "stream",
     "text": [
      "<class 'pandas.core.frame.DataFrame'>\n",
      "Int64Index: 3040 entries, 0 to 3039\n",
      "Data columns (total 13 columns):\n",
      "match_id          3040 non-null int64\n",
      "country           3040 non-null object\n",
      "season            3040 non-null object\n",
      "stage             3040 non-null int64\n",
      "date              3040 non-null datetime64[ns]\n",
      "home_team         3040 non-null object\n",
      "away_team         3040 non-null object\n",
      "home_team_goal    3040 non-null int64\n",
      "away_team_goal    3040 non-null int64\n",
      "ateam_shoton      3040 non-null int64\n",
      "club_id_x         3040 non-null int64\n",
      "club_id_y         3040 non-null int64\n",
      "hteam_shoton      3040 non-null int64\n",
      "dtypes: datetime64[ns](1), int64(8), object(4)\n",
      "memory usage: 285.0+ KB\n"
     ]
    }
   ],
   "source": [
    "# Now merge away_home_shoton with the original dataframe based on matchid\n",
    "epl_shoton = pd.merge(eplcopy, df_ashot_hshot, left_on='match_id', right_on='match_id', how='outer') \n",
    "epl_shoton.info()"
   ]
  },
  {
   "cell_type": "markdown",
   "metadata": {},
   "source": [
    "> We will merge the XML data extracted from the original shoton and possession columns <br>\n",
    "> in order to obtain a home team DF and away team DF with new shoton and possession columns\n",
    "> in the proper format to perform Data Exploration <br>\n"
   ]
  },
  {
   "cell_type": "code",
   "execution_count": 44,
   "metadata": {
    "collapsed": true
   },
   "outputs": [],
   "source": [
    "# Now let's merge Shoton and Possession DataFrames together\n",
    "epl_poss2 = epl_poss.copy()\n",
    "#merge shoton goal with the possession\n",
    "epl_poss_shots = pd.merge(epl_poss2 , df_ashot_hshot, on='match_id', how='outer')"
   ]
  },
  {
   "cell_type": "code",
   "execution_count": 45,
   "metadata": {},
   "outputs": [
    {
     "name": "stdout",
     "output_type": "stream",
     "text": [
      "<class 'pandas.core.frame.DataFrame'>\n",
      "Int64Index: 3040 entries, 0 to 3039\n",
      "Data columns (total 15 columns):\n",
      "match_id          3040 non-null int64\n",
      "country           3040 non-null object\n",
      "season            3040 non-null object\n",
      "stage             3040 non-null int64\n",
      "date              3040 non-null datetime64[ns]\n",
      "home_team         3040 non-null object\n",
      "away_team         3040 non-null object\n",
      "home_team_goal    3040 non-null int64\n",
      "away_team_goal    3040 non-null int64\n",
      "ateam_poss        3040 non-null float64\n",
      "hteam_poss        3040 non-null float64\n",
      "ateam_shoton      3040 non-null int64\n",
      "club_id_x         3040 non-null int64\n",
      "club_id_y         3040 non-null int64\n",
      "hteam_shoton      3040 non-null int64\n",
      "dtypes: datetime64[ns](1), float64(2), int64(8), object(4)\n",
      "memory usage: 332.5+ KB\n"
     ]
    }
   ],
   "source": [
    "epl_poss_shots.info()"
   ]
  },
  {
   "cell_type": "markdown",
   "metadata": {},
   "source": [
    ">get only important columns and rename home and away columns to more general e.g hteam_poss and ateam_poss to possession ateam_shoton and hteam_shoton to shoton england_hteam and england_ateam will be used later for exploration and visualization"
   ]
  },
  {
   "cell_type": "code",
   "execution_count": 46,
   "metadata": {
    "collapsed": true
   },
   "outputs": [],
   "source": [
    "#get only important columns and rename home and away columns\n",
    "# to more general e.g hteam_poss and ateam_poss to possession\n",
    "# ateam_shoton and hteam_shoton to shoton\n",
    "# england_hteam and england_ateam will be used later\n",
    "# for exploration and visualization\n",
    "england_hteam = epl_poss_shots.loc[ : , ['match_id', 'country', 'season', \n",
    "                          'date', 'home_team', 'home_team_goal', \n",
    "                      'away_team_goal', 'hteam_poss' ,'hteam_shoton']]\n",
    "\n",
    "england_hteam.rename(columns={'home_team' : 'team', 'home_team_goal' : 'goal_for', \n",
    "                            'away_team_goal': 'goal_against', 'hteam_poss' : 'possession', 'hteam_shoton': 'shoton' } \n",
    "                   , inplace = True)\n",
    "\n",
    "england_ateam = epl_poss_shots.loc[ : , ['match_id', 'country', 'season', \n",
    "                         'date', 'away_team', 'home_team_goal', \n",
    "                          'away_team_goal', 'ateam_poss', 'ateam_shoton']]\n",
    "\n",
    "england_ateam.rename(columns={'away_team' : 'team', 'away_team_goal': 'goal_for', \n",
    "                            'home_team_goal': 'goal_against', 'ateam_poss': 'possession', 'ateam_shoton': 'shoton' } \n",
    "                , inplace = True)\n"
   ]
  },
  {
   "cell_type": "code",
   "execution_count": 47,
   "metadata": {},
   "outputs": [
    {
     "name": "stdout",
     "output_type": "stream",
     "text": [
      "<class 'pandas.core.frame.DataFrame'>\n",
      "Int64Index: 3040 entries, 0 to 3039\n",
      "Data columns (total 9 columns):\n",
      "match_id        3040 non-null int64\n",
      "country         3040 non-null object\n",
      "season          3040 non-null object\n",
      "date            3040 non-null datetime64[ns]\n",
      "team            3040 non-null object\n",
      "goal_against    3040 non-null int64\n",
      "goal_for        3040 non-null int64\n",
      "possession      3040 non-null float64\n",
      "shoton          3040 non-null int64\n",
      "dtypes: datetime64[ns](1), float64(1), int64(4), object(3)\n",
      "memory usage: 201.9+ KB\n"
     ]
    }
   ],
   "source": [
    "england_ateam.info()"
   ]
  },
  {
   "cell_type": "code",
   "execution_count": 48,
   "metadata": {},
   "outputs": [
    {
     "data": {
      "text/html": [
       "<div>\n",
       "<style>\n",
       "    .dataframe thead tr:only-child th {\n",
       "        text-align: right;\n",
       "    }\n",
       "\n",
       "    .dataframe thead th {\n",
       "        text-align: left;\n",
       "    }\n",
       "\n",
       "    .dataframe tbody tr th {\n",
       "        vertical-align: top;\n",
       "    }\n",
       "</style>\n",
       "<table border=\"1\" class=\"dataframe\">\n",
       "  <thead>\n",
       "    <tr style=\"text-align: right;\">\n",
       "      <th></th>\n",
       "      <th>match_id</th>\n",
       "      <th>country</th>\n",
       "      <th>season</th>\n",
       "      <th>date</th>\n",
       "      <th>team</th>\n",
       "      <th>goal_against</th>\n",
       "      <th>goal_for</th>\n",
       "      <th>possession</th>\n",
       "      <th>shoton</th>\n",
       "    </tr>\n",
       "  </thead>\n",
       "  <tbody>\n",
       "    <tr>\n",
       "      <th>0</th>\n",
       "      <td>1729</td>\n",
       "      <td>England</td>\n",
       "      <td>2008</td>\n",
       "      <td>2008-08-17</td>\n",
       "      <td>Newcastle United</td>\n",
       "      <td>1</td>\n",
       "      <td>1</td>\n",
       "      <td>45.0</td>\n",
       "      <td>1</td>\n",
       "    </tr>\n",
       "    <tr>\n",
       "      <th>1</th>\n",
       "      <td>1730</td>\n",
       "      <td>England</td>\n",
       "      <td>2008</td>\n",
       "      <td>2008-08-16</td>\n",
       "      <td>West Bromwich Albion</td>\n",
       "      <td>1</td>\n",
       "      <td>0</td>\n",
       "      <td>34.0</td>\n",
       "      <td>2</td>\n",
       "    </tr>\n",
       "    <tr>\n",
       "      <th>2</th>\n",
       "      <td>1731</td>\n",
       "      <td>England</td>\n",
       "      <td>2008</td>\n",
       "      <td>2008-08-16</td>\n",
       "      <td>Liverpool</td>\n",
       "      <td>0</td>\n",
       "      <td>1</td>\n",
       "      <td>54.0</td>\n",
       "      <td>11</td>\n",
       "    </tr>\n",
       "    <tr>\n",
       "      <th>3</th>\n",
       "      <td>1732</td>\n",
       "      <td>England</td>\n",
       "      <td>2008</td>\n",
       "      <td>2008-08-16</td>\n",
       "      <td>Wigan Athletic</td>\n",
       "      <td>2</td>\n",
       "      <td>1</td>\n",
       "      <td>48.0</td>\n",
       "      <td>7</td>\n",
       "    </tr>\n",
       "    <tr>\n",
       "      <th>4</th>\n",
       "      <td>1733</td>\n",
       "      <td>England</td>\n",
       "      <td>2008</td>\n",
       "      <td>2008-08-17</td>\n",
       "      <td>Manchester City</td>\n",
       "      <td>4</td>\n",
       "      <td>2</td>\n",
       "      <td>48.0</td>\n",
       "      <td>9</td>\n",
       "    </tr>\n",
       "  </tbody>\n",
       "</table>\n",
       "</div>"
      ],
      "text/plain": [
       "   match_id  country season       date                  team  goal_against  \\\n",
       "0      1729  England   2008 2008-08-17      Newcastle United             1   \n",
       "1      1730  England   2008 2008-08-16  West Bromwich Albion             1   \n",
       "2      1731  England   2008 2008-08-16             Liverpool             0   \n",
       "3      1732  England   2008 2008-08-16        Wigan Athletic             2   \n",
       "4      1733  England   2008 2008-08-17       Manchester City             4   \n",
       "\n",
       "   goal_for  possession  shoton  \n",
       "0         1        45.0       1  \n",
       "1         0        34.0       2  \n",
       "2         1        54.0      11  \n",
       "3         1        48.0       7  \n",
       "4         2        48.0       9  "
      ]
     },
     "execution_count": 48,
     "metadata": {},
     "output_type": "execute_result"
    }
   ],
   "source": [
    "england_ateam.head()"
   ]
  },
  {
   "cell_type": "code",
   "execution_count": 49,
   "metadata": {},
   "outputs": [
    {
     "name": "stdout",
     "output_type": "stream",
     "text": [
      "<class 'pandas.core.frame.DataFrame'>\n",
      "Int64Index: 3040 entries, 0 to 3039\n",
      "Data columns (total 9 columns):\n",
      "match_id        3040 non-null int64\n",
      "country         3040 non-null object\n",
      "season          3040 non-null object\n",
      "date            3040 non-null datetime64[ns]\n",
      "team            3040 non-null object\n",
      "goal_for        3040 non-null int64\n",
      "goal_against    3040 non-null int64\n",
      "possession      3040 non-null float64\n",
      "shoton          3040 non-null int64\n",
      "dtypes: datetime64[ns](1), float64(1), int64(4), object(3)\n",
      "memory usage: 201.9+ KB\n"
     ]
    }
   ],
   "source": [
    "england_hteam.info()"
   ]
  },
  {
   "cell_type": "code",
   "execution_count": 50,
   "metadata": {},
   "outputs": [
    {
     "data": {
      "text/html": [
       "<div>\n",
       "<style>\n",
       "    .dataframe thead tr:only-child th {\n",
       "        text-align: right;\n",
       "    }\n",
       "\n",
       "    .dataframe thead th {\n",
       "        text-align: left;\n",
       "    }\n",
       "\n",
       "    .dataframe tbody tr th {\n",
       "        vertical-align: top;\n",
       "    }\n",
       "</style>\n",
       "<table border=\"1\" class=\"dataframe\">\n",
       "  <thead>\n",
       "    <tr style=\"text-align: right;\">\n",
       "      <th></th>\n",
       "      <th>match_id</th>\n",
       "      <th>country</th>\n",
       "      <th>season</th>\n",
       "      <th>date</th>\n",
       "      <th>team</th>\n",
       "      <th>goal_for</th>\n",
       "      <th>goal_against</th>\n",
       "      <th>possession</th>\n",
       "      <th>shoton</th>\n",
       "    </tr>\n",
       "  </thead>\n",
       "  <tbody>\n",
       "    <tr>\n",
       "      <th>0</th>\n",
       "      <td>1729</td>\n",
       "      <td>England</td>\n",
       "      <td>2008</td>\n",
       "      <td>2008-08-17</td>\n",
       "      <td>Manchester United</td>\n",
       "      <td>1</td>\n",
       "      <td>1</td>\n",
       "      <td>55.0</td>\n",
       "      <td>11</td>\n",
       "    </tr>\n",
       "    <tr>\n",
       "      <th>1</th>\n",
       "      <td>1730</td>\n",
       "      <td>England</td>\n",
       "      <td>2008</td>\n",
       "      <td>2008-08-16</td>\n",
       "      <td>Arsenal</td>\n",
       "      <td>1</td>\n",
       "      <td>0</td>\n",
       "      <td>66.0</td>\n",
       "      <td>12</td>\n",
       "    </tr>\n",
       "    <tr>\n",
       "      <th>2</th>\n",
       "      <td>1731</td>\n",
       "      <td>England</td>\n",
       "      <td>2008</td>\n",
       "      <td>2008-08-16</td>\n",
       "      <td>Sunderland</td>\n",
       "      <td>0</td>\n",
       "      <td>1</td>\n",
       "      <td>46.0</td>\n",
       "      <td>4</td>\n",
       "    </tr>\n",
       "    <tr>\n",
       "      <th>3</th>\n",
       "      <td>1732</td>\n",
       "      <td>England</td>\n",
       "      <td>2008</td>\n",
       "      <td>2008-08-16</td>\n",
       "      <td>West Ham United</td>\n",
       "      <td>2</td>\n",
       "      <td>1</td>\n",
       "      <td>52.0</td>\n",
       "      <td>5</td>\n",
       "    </tr>\n",
       "    <tr>\n",
       "      <th>4</th>\n",
       "      <td>1733</td>\n",
       "      <td>England</td>\n",
       "      <td>2008</td>\n",
       "      <td>2008-08-17</td>\n",
       "      <td>Aston Villa</td>\n",
       "      <td>4</td>\n",
       "      <td>2</td>\n",
       "      <td>52.0</td>\n",
       "      <td>5</td>\n",
       "    </tr>\n",
       "  </tbody>\n",
       "</table>\n",
       "</div>"
      ],
      "text/plain": [
       "   match_id  country season       date               team  goal_for  \\\n",
       "0      1729  England   2008 2008-08-17  Manchester United         1   \n",
       "1      1730  England   2008 2008-08-16            Arsenal         1   \n",
       "2      1731  England   2008 2008-08-16         Sunderland         0   \n",
       "3      1732  England   2008 2008-08-16    West Ham United         2   \n",
       "4      1733  England   2008 2008-08-17        Aston Villa         4   \n",
       "\n",
       "   goal_against  possession  shoton  \n",
       "0             1        55.0      11  \n",
       "1             0        66.0      12  \n",
       "2             1        46.0       4  \n",
       "3             1        52.0       5  \n",
       "4             2        52.0       5  "
      ]
     },
     "execution_count": 50,
     "metadata": {},
     "output_type": "execute_result"
    }
   ],
   "source": [
    "england_hteam.head()"
   ]
  },
  {
   "cell_type": "markdown",
   "metadata": {},
   "source": [
    "> get only important columns and rename home and away columns ateam_pen and hteam_scored to pen_scored\n",
    "> df_home_hteam and df_home_ateam will be used later for exploration and visualization"
   ]
  },
  {
   "cell_type": "code",
   "execution_count": 51,
   "metadata": {
    "collapsed": true
   },
   "outputs": [],
   "source": [
    "#get only important columns and rename home and away columns\n",
    "#  like ateam_pen and hteam_scored to pen_scored\n",
    "# home_hteam and home_ateam will be used later\n",
    "# for exploration and visualization\n",
    "\n",
    "dfnew[['ateam_pen', 'hteam_pen']] = dfnew[['ateam_pen', 'hteam_pen']].astype(int)\n",
    "\n",
    "\n",
    "df_hometeam = dfnew.loc[ : , ['match_id', 'country', 'season', \n",
    "                          'date', 'home_team', 'home_team_goal', \n",
    "                      'away_team_goal', 'hteam_pen']]\n",
    "\n",
    "df_hometeam.rename(columns={'home_team' : 'team', 'home_team_goal' : 'goal_for', \n",
    "                            'away_team_goal': 'goal_against', 'hteam_pen': 'pen_scored'} \n",
    "                   , inplace = True)\n",
    "\n",
    "df_awayteam = dfnew.loc[ : , ['match_id', 'country', 'season', \n",
    "                         'date', 'away_team', 'home_team_goal', \n",
    "                          'away_team_goal', 'ateam_pen' ]]\n",
    "\n",
    "df_awayteam.rename(columns={'away_team' : 'team', 'away_team_goal': 'goal_for', \n",
    "                            'home_team_goal': 'goal_against', 'ateam_pen' : 'pen_scored'} \n",
    "                , inplace = True)\n"
   ]
  },
  {
   "cell_type": "code",
   "execution_count": 52,
   "metadata": {},
   "outputs": [
    {
     "name": "stdout",
     "output_type": "stream",
     "text": [
      "<class 'pandas.core.frame.DataFrame'>\n",
      "Int64Index: 11545 entries, 0 to 11544\n",
      "Data columns (total 8 columns):\n",
      "match_id        11545 non-null int64\n",
      "country         11545 non-null object\n",
      "season          11545 non-null object\n",
      "date            11545 non-null datetime64[ns]\n",
      "team            11545 non-null object\n",
      "goal_for        11545 non-null int64\n",
      "goal_against    11545 non-null int64\n",
      "pen_scored      11545 non-null int32\n",
      "dtypes: datetime64[ns](1), int32(1), int64(3), object(3)\n",
      "memory usage: 631.4+ KB\n"
     ]
    }
   ],
   "source": [
    "df_hometeam.info()"
   ]
  },
  {
   "cell_type": "code",
   "execution_count": 53,
   "metadata": {},
   "outputs": [
    {
     "name": "stdout",
     "output_type": "stream",
     "text": [
      "<class 'pandas.core.frame.DataFrame'>\n",
      "Int64Index: 11545 entries, 0 to 11544\n",
      "Data columns (total 8 columns):\n",
      "match_id        11545 non-null int64\n",
      "country         11545 non-null object\n",
      "season          11545 non-null object\n",
      "date            11545 non-null datetime64[ns]\n",
      "team            11545 non-null object\n",
      "goal_against    11545 non-null int64\n",
      "goal_for        11545 non-null int64\n",
      "pen_scored      11545 non-null int32\n",
      "dtypes: datetime64[ns](1), int32(1), int64(3), object(3)\n",
      "memory usage: 631.4+ KB\n"
     ]
    }
   ],
   "source": [
    "df_awayteam.info()"
   ]
  },
  {
   "cell_type": "markdown",
   "metadata": {},
   "source": [
    "<a id='eda'></a>\n",
    "## Exploratory Data Analysis\n",
    "\n",
    "> Below are the Functions used to get a new DataFrame with each row representing\n",
    "> data for one team grouped by season, which is the combination of home_team and away_team\n",
    "  DataFrames. \n",
    "> the new DataFrame will include stats:\n",
    "> \n",
    "       1. win percentage\n",
    "       2. Percentage of home Wins from the total games played at home\n",
    "       3. Percentage of Away wins from the total games played away \n",
    "       4. Average goal scored by game\n",
    "       5. Average goal conceded by game\n",
    "       6. Average Penalties scored by game\n",
    "       \n",
    ">       if country England is provided:\n",
    "       1. Average possession\n",
    "       2. Average shoton\n",
    "       3. Ratio of goals to shots on target"
   ]
  },
  {
   "cell_type": "code",
   "execution_count": 168,
   "metadata": {
    "collapsed": true
   },
   "outputs": [],
   "source": [
    "\n",
    "def get_match_result(teamA_goals, teamB_goals):\n",
    "    '''Function that gets both home_team goal \n",
    "     and away_team goal as input\n",
    "     depending on the DataFrame \n",
    "     Home_team DF or Away_team DF\n",
    "     compare them to get the match results\n",
    "     Called to create a new column called result\n",
    "     in the DataFrame'''\n",
    "    \n",
    "    if teamA_goals == teamB_goals:\n",
    "        return 'D'\n",
    "    elif teamA_goals > teamB_goals:\n",
    "        return 'W'\n",
    "    else:\n",
    "        return 'L'\n",
    "\n",
    "def dataset_by_country_season(dframe,country=None,season=None):\n",
    "    ''' function To automatically filter dataframe\n",
    "      by season or country or both combined'''\n",
    "    if (season and country):\n",
    "        df_new = dframe.loc[(dframe.country== country) & (dframe.season == season)]\n",
    "    elif (country):\n",
    "        df_new = dframe.loc[dframe.country == country]\n",
    "    elif (season):\n",
    "        df_new = dframe.loc[dframe.season == season]\n",
    "    else:\n",
    "        df_new = dframe\n",
    "    return df_new\n",
    "   \n",
    "        \n",
    "\n",
    "def won_or_not(result):\n",
    "    ''' function called to add a new dataFrame column\n",
    "      which indicates if the current_team whether\n",
    "      Home_team or Away_team have Won or No'''\n",
    "    \n",
    "    if result == 'W':\n",
    "        return 'yes'\n",
    "    else:\n",
    "        return 'no'\n",
    "    \n",
    "\n",
    "def match_results(df):\n",
    "    \n",
    "    #\n",
    "    \n",
    "    df['result'] = np.vectorize(get_match_result)(df['goal_for'], df['goal_against'])\n",
    "        \n",
    "    df['won'] = df['result'].apply(won_or_not)\n",
    "    return df \n"
   ]
  },
  {
   "cell_type": "code",
   "execution_count": 62,
   "metadata": {
    "collapsed": true
   },
   "outputs": [],
   "source": [
    "def compute_stats(dframe, country=None):\n",
    "    '''takes a DataFrame as input wheter it is\n",
    "      for Home or Away teams and takes an optional\n",
    "      country argument, used to compute different\n",
    "      stats for England (for possession and shoton)\n",
    "      Generally will return a dframe including stats\n",
    "      grouped by (team,season)\n",
    "      stats are:\n",
    "      1. total goals scored\n",
    "      2. total goals conceded \n",
    "      3. total penalties scored sum\n",
    "      4. total game played\n",
    "      For England stats additional stats:\n",
    "      1. total shoton\n",
    "      2. total possession percentage\n",
    "                                                \n",
    "       '''\n",
    "    dframe_n = match_results(dframe)\n",
    "    # England stats\n",
    "    if country == 'England':\n",
    "        \n",
    "         df_sum = dframe_n.groupby(['team', 'season'],\n",
    "                         as_index= True).apply(lambda r: pd.Series(dict(win=(r.won == 'yes').sum(),\n",
    "                                                        goal_for = r.goal_for.sum(),\n",
    "                                                        goal_against = r.goal_against.sum(),\n",
    "                                                        possession = r.possession.sum(),\n",
    "                                                        shoton = r.shoton.sum(),\n",
    "                                                        played = (r.won == 'yes').sum() + (r.won == 'no').sum())))\n",
    "    else:  \n",
    "        df_sum = dframe_n.groupby(['team', 'season', 'country'],\n",
    "                         as_index= True).apply(lambda r: pd.Series(dict(win=(r.won == 'yes').sum(),\n",
    "                                                        goal_for = r.goal_for.sum(),\n",
    "                                                        goal_against = r.goal_against.sum(),\n",
    "                                                        pen_scored = r.pen_scored.sum(),\n",
    "                                                        played = (r.won == 'yes').sum() + (r.won == 'no').sum())))\n",
    "    \n",
    "    return df_sum\n",
    "\n",
    "\n"
   ]
  },
  {
   "cell_type": "code",
   "execution_count": 58,
   "metadata": {
    "collapsed": true
   },
   "outputs": [],
   "source": [
    "def total_by_season(df1, df2, country=None):\n",
    "    '''function takes as argument 2 DFs\n",
    "       home_team and away_team respectively\n",
    "       an optional argument country\n",
    "       if no country provided it will compute the \n",
    "       below by team and season:\n",
    "       1. win percentage \n",
    "       2. Average goal scored by game\n",
    "       3. Average goal conceded by game\n",
    "       if country England is provided:\n",
    "       1. Average possession\n",
    "       2. Average shoton\n",
    "       3. Ratio of goals to shots on target\n",
    "       \n",
    "    '''\n",
    "    df1['home_perc_win'] = (df1['win'] / df1['played']) * 100\n",
    "    df2['away_perc_win'] =(df2['win'] / df2['played']) * 100 \n",
    "    df_total = df1.add(df2, fill_value=0)\n",
    "    df_total['perc_win'] = (df_total['win'] / df_total['played']) * 100\n",
    "    df_total['goal_for_game']= (df_total['goal_for'] / df_total['played']) \n",
    "    df_total['goal_against_game'] = (df_total['goal_against'] / df_total['played'])\n",
    "    \n",
    "    if country == 'England':\n",
    "        df_total['Avg_possession'] = (df_total['possession'] / df_total['played'])\n",
    "        df_total['Avg_shoton'] = (df_total['shoton'] / df_total['played'])\n",
    "        df_total['goals_to_shots'] = (df_total['goal_for'] / df_total['shoton']) * 100\n",
    "    else:\n",
    "        df_total['pen_per_game'] = (df_total['pen_scored'] / df_total['played'])\n",
    "    return df_total"
   ]
  },
  {
   "cell_type": "code",
   "execution_count": 63,
   "metadata": {
    "collapsed": true
   },
   "outputs": [],
   "source": [
    "def team_stats_combined(df_hometeam, df_awayteam, country=None):\n",
    "    '''calls compute_stats and total_by_season functions\n",
    "        and get the results and returns an DataFrame\n",
    "        containing stats grouped by team\n",
    "        the DataFrame represents a result for each team\n",
    "        in each row\n",
    "     '''\n",
    "    if country is not None:\n",
    "        df_h = compute_stats(dataset_by_country_season(df_hometeam\n",
    "                                                       , country), country)\n",
    "        df_a = compute_stats(dataset_by_country_season(df_awayteam\n",
    "                                                       , country), country)\n",
    "       \n",
    "    else:\n",
    "        df_h = compute_stats(dataset_by_country_season(df_hometeam))\n",
    "        df_a = compute_stats(dataset_by_country_season(df_awayteam))\n",
    "    \n",
    "    df_total = total_by_season(df_h, df_a, country)\n",
    "    df_total = df_total.reset_index()\n",
    "    return df_total\n"
   ]
  },
  {
   "cell_type": "markdown",
   "metadata": {},
   "source": [
    "### which teams are the most successful in top 4 leagues in Europe?\n",
    ">In order to answer this question we will explore the percentage of win\n",
    ">recorded for each team.\n",
    "> let's get the 4 leagues different team stats first by season from 2008 to 2015"
   ]
  },
  {
   "cell_type": "code",
   "execution_count": 64,
   "metadata": {},
   "outputs": [
    {
     "data": {
      "text/html": [
       "<div>\n",
       "<style>\n",
       "    .dataframe thead tr:only-child th {\n",
       "        text-align: right;\n",
       "    }\n",
       "\n",
       "    .dataframe thead th {\n",
       "        text-align: left;\n",
       "    }\n",
       "\n",
       "    .dataframe tbody tr th {\n",
       "        vertical-align: top;\n",
       "    }\n",
       "</style>\n",
       "<table border=\"1\" class=\"dataframe\">\n",
       "  <thead>\n",
       "    <tr style=\"text-align: right;\">\n",
       "      <th></th>\n",
       "      <th>team</th>\n",
       "      <th>season</th>\n",
       "      <th>country</th>\n",
       "      <th>away_perc_win</th>\n",
       "      <th>goal_against</th>\n",
       "      <th>goal_for</th>\n",
       "      <th>home_perc_win</th>\n",
       "      <th>pen_scored</th>\n",
       "      <th>played</th>\n",
       "      <th>win</th>\n",
       "      <th>perc_win</th>\n",
       "      <th>goal_for_game</th>\n",
       "      <th>goal_against_game</th>\n",
       "      <th>pen_per_game</th>\n",
       "    </tr>\n",
       "  </thead>\n",
       "  <tbody>\n",
       "    <tr>\n",
       "      <th>0</th>\n",
       "      <td>1. FC Kaiserslautern</td>\n",
       "      <td>2010</td>\n",
       "      <td>Germany</td>\n",
       "      <td>41.176471</td>\n",
       "      <td>51</td>\n",
       "      <td>48</td>\n",
       "      <td>35.294118</td>\n",
       "      <td>1</td>\n",
       "      <td>34</td>\n",
       "      <td>13</td>\n",
       "      <td>38.235294</td>\n",
       "      <td>1.411765</td>\n",
       "      <td>1.500000</td>\n",
       "      <td>0.029412</td>\n",
       "    </tr>\n",
       "    <tr>\n",
       "      <th>1</th>\n",
       "      <td>1. FC Kaiserslautern</td>\n",
       "      <td>2011</td>\n",
       "      <td>Germany</td>\n",
       "      <td>11.764706</td>\n",
       "      <td>54</td>\n",
       "      <td>24</td>\n",
       "      <td>11.764706</td>\n",
       "      <td>1</td>\n",
       "      <td>34</td>\n",
       "      <td>4</td>\n",
       "      <td>11.764706</td>\n",
       "      <td>0.705882</td>\n",
       "      <td>1.588235</td>\n",
       "      <td>0.029412</td>\n",
       "    </tr>\n",
       "    <tr>\n",
       "      <th>2</th>\n",
       "      <td>1. FC Köln</td>\n",
       "      <td>2008</td>\n",
       "      <td>Germany</td>\n",
       "      <td>41.176471</td>\n",
       "      <td>50</td>\n",
       "      <td>35</td>\n",
       "      <td>23.529412</td>\n",
       "      <td>2</td>\n",
       "      <td>34</td>\n",
       "      <td>11</td>\n",
       "      <td>32.352941</td>\n",
       "      <td>1.029412</td>\n",
       "      <td>1.470588</td>\n",
       "      <td>0.058824</td>\n",
       "    </tr>\n",
       "    <tr>\n",
       "      <th>3</th>\n",
       "      <td>1. FC Köln</td>\n",
       "      <td>2009</td>\n",
       "      <td>Germany</td>\n",
       "      <td>35.294118</td>\n",
       "      <td>42</td>\n",
       "      <td>33</td>\n",
       "      <td>17.647059</td>\n",
       "      <td>1</td>\n",
       "      <td>34</td>\n",
       "      <td>9</td>\n",
       "      <td>26.470588</td>\n",
       "      <td>0.970588</td>\n",
       "      <td>1.235294</td>\n",
       "      <td>0.029412</td>\n",
       "    </tr>\n",
       "    <tr>\n",
       "      <th>4</th>\n",
       "      <td>1. FC Köln</td>\n",
       "      <td>2010</td>\n",
       "      <td>Germany</td>\n",
       "      <td>11.764706</td>\n",
       "      <td>62</td>\n",
       "      <td>47</td>\n",
       "      <td>64.705882</td>\n",
       "      <td>2</td>\n",
       "      <td>34</td>\n",
       "      <td>13</td>\n",
       "      <td>38.235294</td>\n",
       "      <td>1.382353</td>\n",
       "      <td>1.823529</td>\n",
       "      <td>0.058824</td>\n",
       "    </tr>\n",
       "  </tbody>\n",
       "</table>\n",
       "</div>"
      ],
      "text/plain": [
       "                   team season  country  away_perc_win  goal_against  \\\n",
       "0  1. FC Kaiserslautern   2010  Germany      41.176471            51   \n",
       "1  1. FC Kaiserslautern   2011  Germany      11.764706            54   \n",
       "2            1. FC Köln   2008  Germany      41.176471            50   \n",
       "3            1. FC Köln   2009  Germany      35.294118            42   \n",
       "4            1. FC Köln   2010  Germany      11.764706            62   \n",
       "\n",
       "   goal_for  home_perc_win  pen_scored  played  win   perc_win  goal_for_game  \\\n",
       "0        48      35.294118           1      34   13  38.235294       1.411765   \n",
       "1        24      11.764706           1      34    4  11.764706       0.705882   \n",
       "2        35      23.529412           2      34   11  32.352941       1.029412   \n",
       "3        33      17.647059           1      34    9  26.470588       0.970588   \n",
       "4        47      64.705882           2      34   13  38.235294       1.382353   \n",
       "\n",
       "   goal_against_game  pen_per_game  \n",
       "0           1.500000      0.029412  \n",
       "1           1.588235      0.029412  \n",
       "2           1.470588      0.058824  \n",
       "3           1.235294      0.029412  \n",
       "4           1.823529      0.058824  "
      ]
     },
     "execution_count": 64,
     "metadata": {},
     "output_type": "execute_result"
    }
   ],
   "source": [
    "df_4l_all = team_stats_combined(df_hometeam, df_awayteam)\n",
    "df_4l_all.head() \n"
   ]
  },
  {
   "cell_type": "markdown",
   "metadata": {},
   "source": [
    "> checking the Average percentage of Win distribution by team <br>\n",
    "> We are intersted in studying the top or Elite teams (outliers in the distribution)"
   ]
  },
  {
   "cell_type": "code",
   "execution_count": 65,
   "metadata": {},
   "outputs": [
    {
     "data": {
      "image/png": "[encoded data removed]",
      "text/plain": [
       "<matplotlib.figure.Figure at 0x1739b50>"
      ]
     },
     "metadata": {},
     "output_type": "display_data"
    }
   ],
   "source": [
    "#http://mlwhiz.com/blog/2015/09/13/seaborn_visualizations/\n",
    "sns.set_style(\"whitegrid\")\n",
    "g=sns.distplot(df_4l_all.groupby(['team'])['perc_win'].mean(), bins=10)\n",
    "#Set the Title of the graph from here\n",
    "g.axes.set_title(' distribution perc of Win in top 4 leagues (2008-2015) ', fontsize=12,alpha=0.5);"
   ]
  },
  {
   "cell_type": "code",
   "execution_count": 66,
   "metadata": {},
   "outputs": [
    {
     "data": {
      "image/png": "[encoded data removed]",
      "text/plain": [
       "<matplotlib.figure.Figure at 0x605e990>"
      ]
     },
     "metadata": {},
     "output_type": "display_data"
    }
   ],
   "source": [
    "ax = sns.boxplot(x=df_4l_all.groupby(['team'])['perc_win'].mean())\n"
   ]
  },
  {
   "cell_type": "markdown",
   "metadata": {},
   "source": [
    "> let's plot from each of the 4 leagues the top 10 teams sorted by Average winning percentage over 8 seasons "
   ]
  },
  {
   "cell_type": "code",
   "execution_count": 68,
   "metadata": {},
   "outputs": [
    {
     "data": {
      "image/png": "[encoded data removed]",
      "text/plain": [
       "<matplotlib.figure.Figure at 0x60a08d0>"
      ]
     },
     "metadata": {},
     "output_type": "display_data"
    }
   ],
   "source": [
    "#let's plot the top 10 teams by Average winning percentage over 8 seasons from 4 leagues\n",
    "\n",
    "#https://stackoverflow.com/questions/43085427/using-dataframe-plot-to-make-a-chart-with-subplots-how-to-use-ax-parameter\n",
    "\n",
    "countries = ['Italy', 'Germany', 'England', 'Spain']\n",
    "\n",
    "fig, axes = plt.subplots(2,2, figsize=(10, 6))\n",
    "fig.suptitle(\" top 10 Average Win percentage by Team (2008-2015)\", fontsize=12)\n",
    "\n",
    "for ax, country in zip(axes.flatten(), countries):\n",
    "        df = df_4l_all[df_4l_all.country == country].groupby(['team']).mean().sort_values('perc_win', \n",
    "                                                                                        ascending = False).head(10)\n",
    "        sns.barplot(x=df.perc_win, y=df.index, data=df, ax=ax, palette = 'viridis')\n",
    "                                                                      \n",
    "        ax.set_title('{0}'.format(country))       \n",
    "\n",
    "sns.despine()\n",
    "plt.tight_layout()\n",
    "plt.subplots_adjust(left=0.2, wspace=0.8, top=0.9)\n"
   ]
  },
  {
   "cell_type": "markdown",
   "metadata": {},
   "source": [
    "> Based on the above in order to specify the successful teams (Elite teams) and then\n",
    "study their technical and tactical characteristics:<br>\n",
    "> let's classify the teams between Elites and the remaining teams labeled as other <br>\n",
    "> We can consider Europe's top 4 leagues Elites.The teams that have dominated their domestic leagues from 2008 to 2015 setting and have set the winning standard: <br>\n",
    "> teams that have an Average of winning percentage > 90th percentile.\n"
   ]
  },
  {
   "cell_type": "code",
   "execution_count": 164,
   "metadata": {},
   "outputs": [],
   "source": [
    "#Based Above in order to study the successfull teams (Elite teams) characteristics\n",
    "#let's divide the teams between Elite and others\n",
    "#We can consider Europe's top 4 leagues Elites \n",
    "#teams that have a  average of winning percentage > 90th percentile  \n",
    "\n",
    "elite_level = df_4l_all.groupby(['team'])['perc_win'].mean().quantile(0.90)\n",
    " \n",
    "\n",
    "avgwin_teams = df_4l_all.groupby(['team'])[['perc_win']].mean()\n",
    "europe_elites = avgwin_teams [avgwin_teams.perc_win > elite_level]  \n",
    "\n",
    "\n",
    "\n",
    "# let's divide teams based on their percentage of Winning and check some important\n",
    "# characteristics goal scored, goal conceded and percentage of away winning\n",
    "\n",
    "df_4l_all['level'] = np.where(df_4l_all.team.isin(europe_elites.index),\n",
    "                             'elite', 'other')\n",
    "\n"
   ]
  },
  {
   "cell_type": "code",
   "execution_count": 71,
   "metadata": {},
   "outputs": [
    {
     "data": {
      "image/png": "[encoded data removed]",
      "text/plain": [
       "<matplotlib.figure.Figure at 0x16088ad0>"
      ]
     },
     "metadata": {},
     "output_type": "display_data"
    }
   ],
   "source": [
    "#getting sorted elites teams by percentage of win from 2008 to 2015\n",
    "elites_in_order = europe_elites.sort_values(by='perc_win' ,ascending =False)\n",
    "sns.barplot(x='perc_win', y=elites_in_order.index, data=elites_in_order, palette = 'viridis')\n",
    "plt.title('perc of win for Elite teams in Europe (2008-2015)')\n",
    "plt.xlabel ('percentage of win');\n"
   ]
  },
  {
   "cell_type": "code",
   "execution_count": 73,
   "metadata": {
    "collapsed": true
   },
   "outputs": [],
   "source": [
    "#let's Team details by Country\n",
    "#Italy\n",
    "df_italy = df_4l_all[df_4l_all.country == 'Italy']\n",
    "#England\n",
    "df_england = df_4l_all[ df_4l_all.country == 'England']\n",
    "#Germany\n",
    "df_germany = df_4l_all[ df_4l_all.country == 'Germany']\n",
    "#Spain\n",
    "df_spain = df_4l_all[ df_4l_all.country == 'Spain']"
   ]
  },
  {
   "cell_type": "markdown",
   "metadata": {},
   "source": [
    "### Penalties scored\n",
    "> Generally in Football there is a link between the number of Goals scored and the number of\n",
    " Goals conceded and success. But is there a relationship between success and the number of penalties scored? <br>\n",
    "\n",
    ">Based on the below scatter plot and the correlation calculation, there is no obvious/strong relationship (correlation) between penalties scored and the percentage of win recorded by teams "
   ]
  },
  {
   "cell_type": "code",
   "execution_count": 74,
   "metadata": {},
   "outputs": [
    {
     "data": {
      "image/png": "[encoded data removed]",
      "text/plain": [
       "<matplotlib.figure.Figure at 0x6110750>"
      ]
     },
     "metadata": {},
     "output_type": "display_data"
    }
   ],
   "source": [
    "# generate scatter plots showing the relation between different parameters and the winning percentage.\n",
    "#though for penalty scored average the correlation is not obvious\n",
    "sns.set()\n",
    "data = df_4l_all\n",
    "p = sns.pairplot(data=data,\n",
    "                  y_vars=['perc_win'],\n",
    "                  x_vars=['goal_against', 'goal_for', \n",
    "                          'pen_scored', 'home_perc_win','away_perc_win'])\n",
    "\n",
    "\n",
    "\n"
   ]
  },
  {
   "cell_type": "code",
   "execution_count": 75,
   "metadata": {},
   "outputs": [
    {
     "data": {
      "text/plain": [
       "0.36716908916484953"
      ]
     },
     "execution_count": 75,
     "metadata": {},
     "output_type": "execute_result"
    }
   ],
   "source": [
    "df_4l_all['perc_win'].corr(df_4l_all['pen_scored'])"
   ]
  },
  {
   "cell_type": "code",
   "execution_count": 79,
   "metadata": {},
   "outputs": [
    {
     "data": {
      "text/html": [
       "<div>\n",
       "<style>\n",
       "    .dataframe thead tr:only-child th {\n",
       "        text-align: right;\n",
       "    }\n",
       "\n",
       "    .dataframe thead th {\n",
       "        text-align: left;\n",
       "    }\n",
       "\n",
       "    .dataframe tbody tr th {\n",
       "        vertical-align: top;\n",
       "    }\n",
       "</style>\n",
       "<table border=\"1\" class=\"dataframe\">\n",
       "  <thead>\n",
       "    <tr style=\"text-align: right;\">\n",
       "      <th></th>\n",
       "      <th></th>\n",
       "      <th>goal_for_game</th>\n",
       "      <th>goal_against_game</th>\n",
       "    </tr>\n",
       "    <tr>\n",
       "      <th>season</th>\n",
       "      <th>level</th>\n",
       "      <th></th>\n",
       "      <th></th>\n",
       "    </tr>\n",
       "  </thead>\n",
       "  <tbody>\n",
       "    <tr>\n",
       "      <th rowspan=\"2\" valign=\"top\">2008</th>\n",
       "      <th>elite</th>\n",
       "      <td>1.921886</td>\n",
       "      <td>1.077518</td>\n",
       "    </tr>\n",
       "    <tr>\n",
       "      <th>other</th>\n",
       "      <td>1.247273</td>\n",
       "      <td>1.416147</td>\n",
       "    </tr>\n",
       "    <tr>\n",
       "      <th rowspan=\"2\" valign=\"top\">2009</th>\n",
       "      <th>elite</th>\n",
       "      <td>2.025959</td>\n",
       "      <td>1.047749</td>\n",
       "    </tr>\n",
       "    <tr>\n",
       "      <th>other</th>\n",
       "      <td>1.232008</td>\n",
       "      <td>1.427649</td>\n",
       "    </tr>\n",
       "    <tr>\n",
       "      <th rowspan=\"2\" valign=\"top\">2010</th>\n",
       "      <th>elite</th>\n",
       "      <td>1.929983</td>\n",
       "      <td>0.986425</td>\n",
       "    </tr>\n",
       "    <tr>\n",
       "      <th>other</th>\n",
       "      <td>1.257395</td>\n",
       "      <td>1.446106</td>\n",
       "    </tr>\n",
       "    <tr>\n",
       "      <th rowspan=\"2\" valign=\"top\">2011</th>\n",
       "      <th>elite</th>\n",
       "      <td>2.117430</td>\n",
       "      <td>0.969408</td>\n",
       "    </tr>\n",
       "    <tr>\n",
       "      <th>other</th>\n",
       "      <td>1.225347</td>\n",
       "      <td>1.455954</td>\n",
       "    </tr>\n",
       "    <tr>\n",
       "      <th rowspan=\"2\" valign=\"top\">2012</th>\n",
       "      <th>elite</th>\n",
       "      <td>2.117528</td>\n",
       "      <td>1.030483</td>\n",
       "    </tr>\n",
       "    <tr>\n",
       "      <th>other</th>\n",
       "      <td>1.260967</td>\n",
       "      <td>1.478376</td>\n",
       "    </tr>\n",
       "    <tr>\n",
       "      <th rowspan=\"2\" valign=\"top\">2013</th>\n",
       "      <th>elite</th>\n",
       "      <td>2.128483</td>\n",
       "      <td>0.909264</td>\n",
       "    </tr>\n",
       "    <tr>\n",
       "      <th>other</th>\n",
       "      <td>1.279876</td>\n",
       "      <td>1.523720</td>\n",
       "    </tr>\n",
       "    <tr>\n",
       "      <th rowspan=\"2\" valign=\"top\">2014</th>\n",
       "      <th>elite</th>\n",
       "      <td>1.957371</td>\n",
       "      <td>0.913075</td>\n",
       "    </tr>\n",
       "    <tr>\n",
       "      <th>other</th>\n",
       "      <td>1.206836</td>\n",
       "      <td>1.415159</td>\n",
       "    </tr>\n",
       "    <tr>\n",
       "      <th rowspan=\"2\" valign=\"top\">2015</th>\n",
       "      <th>elite</th>\n",
       "      <td>1.957609</td>\n",
       "      <td>0.900810</td>\n",
       "    </tr>\n",
       "    <tr>\n",
       "      <th>other</th>\n",
       "      <td>1.234342</td>\n",
       "      <td>1.445701</td>\n",
       "    </tr>\n",
       "  </tbody>\n",
       "</table>\n",
       "</div>"
      ],
      "text/plain": [
       "              goal_for_game  goal_against_game\n",
       "season level                                  \n",
       "2008   elite       1.921886           1.077518\n",
       "       other       1.247273           1.416147\n",
       "2009   elite       2.025959           1.047749\n",
       "       other       1.232008           1.427649\n",
       "2010   elite       1.929983           0.986425\n",
       "       other       1.257395           1.446106\n",
       "2011   elite       2.117430           0.969408\n",
       "       other       1.225347           1.455954\n",
       "2012   elite       2.117528           1.030483\n",
       "       other       1.260967           1.478376\n",
       "2013   elite       2.128483           0.909264\n",
       "       other       1.279876           1.523720\n",
       "2014   elite       1.957371           0.913075\n",
       "       other       1.206836           1.415159\n",
       "2015   elite       1.957609           0.900810\n",
       "       other       1.234342           1.445701"
      ]
     },
     "execution_count": 79,
     "metadata": {},
     "output_type": "execute_result"
    }
   ],
   "source": [
    "# grouping based on season and level\n",
    "elite_other_goals = df_4l_all.groupby(['season', 'level'])['goal_for_game', \n",
    "                                                           'goal_against_game' ].mean()\n",
    "\n",
    "\n",
    "elite_other_goals"
   ]
  },
  {
   "cell_type": "code",
   "execution_count": 80,
   "metadata": {
    "collapsed": true
   },
   "outputs": [],
   "source": [
    "# getting goal scored difference Elites vs rest of the teams\n",
    "# getting goal conceded difference Elites vs rest of the teams\n",
    "\n",
    "goal_diff = elite_other_goals.unstack()\n",
    "goal_diff['goal_scored_diff'] = goal_diff['goal_for_game'].elite - goal_diff['goal_for_game'].other\n",
    "goal_diff['goal_conceded_diff'] = abs(goal_diff['goal_against_game'].elite - goal_diff['goal_against_game'].other)\n",
    "\n"
   ]
  },
  {
   "cell_type": "code",
   "execution_count": 81,
   "metadata": {
    "collapsed": true
   },
   "outputs": [],
   "source": [
    "#grooping based on season and level\n",
    "elite_other_win = df_4l_all.groupby(['season', 'level'])['home_perc_win', \n",
    "                                                           'away_perc_win' ].mean()\n",
    "\n"
   ]
  },
  {
   "cell_type": "code",
   "execution_count": 82,
   "metadata": {},
   "outputs": [
    {
     "data": {
      "text/html": [
       "<div>\n",
       "<style>\n",
       "    .dataframe thead tr:only-child th {\n",
       "        text-align: right;\n",
       "    }\n",
       "\n",
       "    .dataframe thead th {\n",
       "        text-align: left;\n",
       "    }\n",
       "\n",
       "    .dataframe tbody tr th {\n",
       "        vertical-align: top;\n",
       "    }\n",
       "</style>\n",
       "<table border=\"1\" class=\"dataframe\">\n",
       "  <thead>\n",
       "    <tr>\n",
       "      <th></th>\n",
       "      <th colspan=\"2\" halign=\"left\">home_perc_win</th>\n",
       "      <th colspan=\"2\" halign=\"left\">away_perc_win</th>\n",
       "      <th>home_win_diff</th>\n",
       "      <th>away_win_diff</th>\n",
       "    </tr>\n",
       "    <tr>\n",
       "      <th>level</th>\n",
       "      <th>elite</th>\n",
       "      <th>other</th>\n",
       "      <th>elite</th>\n",
       "      <th>other</th>\n",
       "      <th></th>\n",
       "      <th></th>\n",
       "    </tr>\n",
       "    <tr>\n",
       "      <th>season</th>\n",
       "      <th></th>\n",
       "      <th></th>\n",
       "      <th></th>\n",
       "      <th></th>\n",
       "      <th></th>\n",
       "      <th></th>\n",
       "    </tr>\n",
       "  </thead>\n",
       "  <tbody>\n",
       "    <tr>\n",
       "      <th>2008</th>\n",
       "      <td>67.349369</td>\n",
       "      <td>44.286735</td>\n",
       "      <td>48.082877</td>\n",
       "      <td>23.662777</td>\n",
       "      <td>23.062634</td>\n",
       "      <td>24.420100</td>\n",
       "    </tr>\n",
       "    <tr>\n",
       "      <th>2009</th>\n",
       "      <td>73.922362</td>\n",
       "      <td>42.924506</td>\n",
       "      <td>45.201238</td>\n",
       "      <td>21.743272</td>\n",
       "      <td>30.997857</td>\n",
       "      <td>23.457966</td>\n",
       "    </tr>\n",
       "    <tr>\n",
       "      <th>2010</th>\n",
       "      <td>70.016671</td>\n",
       "      <td>43.696118</td>\n",
       "      <td>46.153846</td>\n",
       "      <td>24.129555</td>\n",
       "      <td>26.320553</td>\n",
       "      <td>22.024291</td>\n",
       "    </tr>\n",
       "    <tr>\n",
       "      <th>2011</th>\n",
       "      <td>71.936440</td>\n",
       "      <td>41.372814</td>\n",
       "      <td>51.631341</td>\n",
       "      <td>22.833677</td>\n",
       "      <td>30.563626</td>\n",
       "      <td>28.797663</td>\n",
       "    </tr>\n",
       "    <tr>\n",
       "      <th>2012</th>\n",
       "      <td>70.373899</td>\n",
       "      <td>40.766849</td>\n",
       "      <td>55.394141</td>\n",
       "      <td>23.700881</td>\n",
       "      <td>29.607049</td>\n",
       "      <td>31.693260</td>\n",
       "    </tr>\n",
       "    <tr>\n",
       "      <th>2013</th>\n",
       "      <td>74.112884</td>\n",
       "      <td>41.943320</td>\n",
       "      <td>57.061205</td>\n",
       "      <td>25.463206</td>\n",
       "      <td>32.169564</td>\n",
       "      <td>31.598000</td>\n",
       "    </tr>\n",
       "    <tr>\n",
       "      <th>2014</th>\n",
       "      <td>68.301977</td>\n",
       "      <td>39.592231</td>\n",
       "      <td>48.892593</td>\n",
       "      <td>24.937154</td>\n",
       "      <td>28.709746</td>\n",
       "      <td>23.955439</td>\n",
       "    </tr>\n",
       "    <tr>\n",
       "      <th>2015</th>\n",
       "      <td>69.397476</td>\n",
       "      <td>40.038104</td>\n",
       "      <td>52.107645</td>\n",
       "      <td>25.429864</td>\n",
       "      <td>29.359371</td>\n",
       "      <td>26.677780</td>\n",
       "    </tr>\n",
       "  </tbody>\n",
       "</table>\n",
       "</div>"
      ],
      "text/plain": [
       "       home_perc_win            away_perc_win            home_win_diff  \\\n",
       "level          elite      other         elite      other                 \n",
       "season                                                                   \n",
       "2008       67.349369  44.286735     48.082877  23.662777     23.062634   \n",
       "2009       73.922362  42.924506     45.201238  21.743272     30.997857   \n",
       "2010       70.016671  43.696118     46.153846  24.129555     26.320553   \n",
       "2011       71.936440  41.372814     51.631341  22.833677     30.563626   \n",
       "2012       70.373899  40.766849     55.394141  23.700881     29.607049   \n",
       "2013       74.112884  41.943320     57.061205  25.463206     32.169564   \n",
       "2014       68.301977  39.592231     48.892593  24.937154     28.709746   \n",
       "2015       69.397476  40.038104     52.107645  25.429864     29.359371   \n",
       "\n",
       "       away_win_diff  \n",
       "level                 \n",
       "season                \n",
       "2008       24.420100  \n",
       "2009       23.457966  \n",
       "2010       22.024291  \n",
       "2011       28.797663  \n",
       "2012       31.693260  \n",
       "2013       31.598000  \n",
       "2014       23.955439  \n",
       "2015       26.677780  "
      ]
     },
     "execution_count": 82,
     "metadata": {},
     "output_type": "execute_result"
    }
   ],
   "source": [
    "# getting Home win difference Elites vs rest of the teams\n",
    "# getting Away win difference Elites vs rest of the teams\n",
    "win_diff=elite_other_win.unstack()\n",
    "win_diff['home_win_diff'] = win_diff['home_perc_win'].elite - win_diff['home_perc_win'].other\n",
    "win_diff['away_win_diff'] = win_diff['away_perc_win'].elite - win_diff['away_perc_win'].other\n",
    "\n",
    "win_diff"
   ]
  },
  {
   "cell_type": "markdown",
   "metadata": {},
   "source": [
    "> We known that Elite teams on Average score more goals than away teams and concede less.\n",
    "> And that Elite teams have more Home Wins and Away Wins than the rest of the teams.\n",
    "> But let's compare both metrics to see in which Elite teams Excel more compared to \n",
    "> the rest of the teams:\n",
    "1. is it Goal scoring or Goal conceding?\n",
    "2. is it Away Wins or Home Wins?<br>\n",
    ">From the line chart below, it looks like Elite teams tend to have an Average of Goal scored  which is **HIGHER** than the Average Goal conceded difference when compared to the rest of the teams.<br>\n",
    "> Overall Elite teams tend to have an Average of percentage of Home Win difference compared to the rest of teams __slightly higher__ than the Average of percentage of Away Win difference.\n",
    "\n"
   ]
  },
  {
   "cell_type": "markdown",
   "metadata": {},
   "source": [
    "> line plots showing the trend of difference between the Average of Goal scored  and the difference in the Average of Goal conceded extended from 2008 to 2015  (Elite vs Rest of teams)\n"
   ]
  },
  {
   "cell_type": "code",
   "execution_count": 83,
   "metadata": {},
   "outputs": [
    {
     "data": {
      "image/png": "[encoded data removed]",
      "text/plain": [
       "<matplotlib.figure.Figure at 0x172e4110>"
      ]
     },
     "metadata": {},
     "output_type": "display_data"
    }
   ],
   "source": [
    "goal_diff.plot(x=goal_diff.index, y=['goal_scored_diff', 'goal_conceded_diff'], \n",
    "               figsize=(11, 4), linewidth=3, legend = False)\n",
    "\n",
    "plt.title(' Average goals scored/conceded difference per game between Elite and Other teams', fontsize=15)\n",
    "plt.ylabel('Average Goal difference per game');\n",
    "plt.legend(['Avg Goal Scored difference', 'Average Goal conceded difference']);\n",
    "\n",
    "\n"
   ]
  },
  {
   "cell_type": "markdown",
   "metadata": {},
   "source": [
    "> Average of difference Goals scored (Elite vs Other teams)"
   ]
  },
  {
   "cell_type": "code",
   "execution_count": 84,
   "metadata": {},
   "outputs": [
    {
     "data": {
      "text/plain": [
       "0.7765257242153526"
      ]
     },
     "execution_count": 84,
     "metadata": {},
     "output_type": "execute_result"
    }
   ],
   "source": [
    "goal_diff['goal_scored_diff'].mean()"
   ]
  },
  {
   "cell_type": "markdown",
   "metadata": {},
   "source": [
    "> Average of difference of Goals conceded (Elite vs Other teams)"
   ]
  },
  {
   "cell_type": "code",
   "execution_count": 85,
   "metadata": {},
   "outputs": [
    {
     "data": {
      "text/plain": [
       "0.47175986583494334"
      ]
     },
     "execution_count": 85,
     "metadata": {},
     "output_type": "execute_result"
    }
   ],
   "source": [
    "goal_diff['goal_conceded_diff'].mean()"
   ]
  },
  {
   "cell_type": "markdown",
   "metadata": {},
   "source": [
    "> line plots showing the trend of difference between the Average of Home Win and the difference in the Average of Away Win extended from 2008 to 2015  (Elite vs Rest of teams)"
   ]
  },
  {
   "cell_type": "code",
   "execution_count": 320,
   "metadata": {},
   "outputs": [
    {
     "data": {
      "image/png": "[encoded data removed]",
      "text/plain": [
       "<matplotlib.figure.Figure at 0x1ad0fb70>"
      ]
     },
     "metadata": {},
     "output_type": "display_data"
    }
   ],
   "source": [
    "\n",
    "win_diff.plot(x=win_diff.index, y=['home_win_diff', 'away_win_diff'], \n",
    "               figsize=(11, 4), linewidth=3, legend = False)\n",
    "\n",
    "plt.title(' Average Win Home/Away by season  Elite vs Other teams', fontsize=15)\n",
    "plt.ylabel('Difference in percent');\n",
    "plt.legend(['Avg percentage of Home Win', 'Average percentage of Away Win']);"
   ]
  },
  {
   "cell_type": "markdown",
   "metadata": {},
   "source": [
    "Average Home win difference over 8 seasons"
   ]
  },
  {
   "cell_type": "code",
   "execution_count": 346,
   "metadata": {},
   "outputs": [
    {
     "data": {
      "text/plain": [
       "28.848799978830932"
      ]
     },
     "execution_count": 346,
     "metadata": {},
     "output_type": "execute_result"
    }
   ],
   "source": [
    "win_diff['home_win_diff'].mean()"
   ]
  },
  {
   "cell_type": "markdown",
   "metadata": {},
   "source": [
    "Average Away win difference over 8 seasons"
   ]
  },
  {
   "cell_type": "code",
   "execution_count": 347,
   "metadata": {},
   "outputs": [
    {
     "data": {
      "text/plain": [
       "26.578062567807148"
      ]
     },
     "execution_count": 347,
     "metadata": {},
     "output_type": "execute_result"
    }
   ],
   "source": [
    "win_diff['away_win_diff'].mean()"
   ]
  },
  {
   "cell_type": "code",
   "execution_count": 88,
   "metadata": {
    "collapsed": true
   },
   "outputs": [],
   "source": [
    "#https://stackoverflow#questions/32484453/how-to-use-viridis-in-matplotlib-1-4\n",
    "\n",
    "def show_goals_awin(dframe, country):\n",
    "    '''Function that takes a DataFrame of matches Data\n",
    "       and the country name and generated  barplots\n",
    "       showing the average by level of:\n",
    "       goal_for_game\n",
    "       goal_against_game\n",
    "       away_perc_win\n",
    "       home_perc_win\n",
    "       '''\n",
    "    #https://seaborn.pydata.org/examples/color_palettes.html\n",
    "    fig, (ax1, ax2, ax3 , ax4) = plt.subplots(4,1, figsize=(8, 8),sharex = True)\n",
    "    fig.suptitle(\"league Elite teams vs Others ({0})\".format(country), fontsize=14)\n",
    "    sns.barplot(x='season', y='goal_for_game', hue='level' ,  data=dframe, ax=ax1, palette='viridis')\n",
    "    ax1.legend(bbox_to_anchor=(1.05,1), loc=0, borderaxespad=0.)\n",
    "    sns.barplot(x='season', y='goal_against_game', hue='level' , data=dframe, ax=ax2, palette='viridis' )\n",
    "    ax2.legend(bbox_to_anchor=(1.05,1), loc=0, borderaxespad=0.)\n",
    "    sns.barplot(x='season', y='away_perc_win', hue='level', data=dframe ,ax=ax3, palette= 'viridis')\n",
    "    ax3.legend(bbox_to_anchor=(1.05,1), loc=0, borderaxespad=0.)\n",
    "    sns.barplot(x='season', y='home_perc_win', hue='level', data=dframe ,ax=ax4, palette= 'viridis')\n",
    "    ax4.legend(bbox_to_anchor=(1.05,1), loc=0, borderaxespad=0.)"
   ]
  },
  {
   "cell_type": "markdown",
   "metadata": {},
   "source": [
    "> barplots by country League (league Elite vs rest of the teams)"
   ]
  },
  {
   "cell_type": "code",
   "execution_count": 89,
   "metadata": {},
   "outputs": [
    {
     "data": {
      "image/png": "[encoded data removed]",
      "text/plain": [
       "<matplotlib.figure.Figure at 0x614c910>"
      ]
     },
     "metadata": {},
     "output_type": "display_data"
    }
   ],
   "source": [
    "show_goals_awin(df_italy,'Italy')"
   ]
  },
  {
   "cell_type": "code",
   "execution_count": 91,
   "metadata": {},
   "outputs": [
    {
     "data": {
      "image/png": "[encoded data removed]",
      "text/plain": [
       "<matplotlib.figure.Figure at 0x173549d0>"
      ]
     },
     "metadata": {},
     "output_type": "display_data"
    }
   ],
   "source": [
    "show_goals_awin(df_italy,'Spain')"
   ]
  },
  {
   "cell_type": "code",
   "execution_count": 90,
   "metadata": {},
   "outputs": [
    {
     "data": {
      "image/png": "[encoded data removed]",
      "text/plain": [
       "<matplotlib.figure.Figure at 0x1759c330>"
      ]
     },
     "metadata": {},
     "output_type": "display_data"
    }
   ],
   "source": [
    "show_goals_awin(df_italy,'Germany')"
   ]
  },
  {
   "cell_type": "code",
   "execution_count": 92,
   "metadata": {},
   "outputs": [
    {
     "data": {
      "image/png": "[encoded data removed]",
      "text/plain": [
       "<matplotlib.figure.Figure at 0x17354f50>"
      ]
     },
     "metadata": {},
     "output_type": "display_data"
    }
   ],
   "source": [
    "show_goals_awin(df_spain,'England')"
   ]
  },
  {
   "cell_type": "markdown",
   "metadata": {},
   "source": [
    ">#### Questions:\n",
    ">### In general do successful teams have more Ball possession? \n",
    ">### Do they have more shot on targets? \n",
    "\n",
    "> Since the Data Avaible for Possession and Shot on Target are more consistent\n",
    "> for England Premier league, we will now focus on England for deeper exploration\n",
    "> the techincal and tactical parameters that charcterise a winning team"
   ]
  },
  {
   "cell_type": "code",
   "execution_count": 95,
   "metadata": {
    "collapsed": true
   },
   "outputs": [],
   "source": [
    "#since the Data Avaible for Possession and Shot on Target are more complete\n",
    "#for England Premier league, we will now focus on England for deeper exploration\n",
    "#on the attributes that charcterise a winning team\n",
    "df_england = team_stats_combined(england_hteam, england_ateam,'England')\n",
    "\n",
    "df_england_f = df_england.copy()\n",
    "df_england_f.drop('possession', axis=1, inplace=True)\n"
   ]
  },
  {
   "cell_type": "code",
   "execution_count": 96,
   "metadata": {
    "collapsed": true
   },
   "outputs": [],
   "source": [
    "#create level column for df_england_f dataframe\n",
    "df_england_f['level'] = np.where(df_england_f.team.isin(europe_elites.index),\n",
    "                                 'elite', 'other')\n"
   ]
  },
  {
   "cell_type": "markdown",
   "metadata": {},
   "source": [
    "> Scatter plot showing postive correlation between: <br>\n",
    "> Average possession percentage of Win <br>\n",
    "> Average Shoton goals and percentage of Win <br> \n",
    "> ratio Goals to shots and percentage of Win"
   ]
  },
  {
   "cell_type": "code",
   "execution_count": 97,
   "metadata": {},
   "outputs": [
    {
     "data": {
      "image/png": "[encoded data removed]",
      "text/plain": [
       "<matplotlib.figure.Figure at 0x176eedd0>"
      ]
     },
     "metadata": {},
     "output_type": "display_data"
    }
   ],
   "source": [
    "sns.lmplot(x=\"Avg_possession\", y=\"perc_win\", data=df_england_f);"
   ]
  },
  {
   "cell_type": "code",
   "execution_count": 99,
   "metadata": {},
   "outputs": [
    {
     "data": {
      "image/png": "[encoded data removed]",
      "text/plain": [
       "<matplotlib.figure.Figure at 0x1782cab0>"
      ]
     },
     "metadata": {},
     "output_type": "display_data"
    }
   ],
   "source": [
    "sns.lmplot(x=\"Avg_shoton\", y=\"perc_win\", data=df_england_f);"
   ]
  },
  {
   "cell_type": "code",
   "execution_count": 167,
   "metadata": {},
   "outputs": [
    {
     "data": {
      "image/png": "[encoded data removed]",
      "text/plain": [
       "<matplotlib.figure.Figure at 0x17590e10>"
      ]
     },
     "metadata": {},
     "output_type": "display_data"
    }
   ],
   "source": [
    "sns.lmplot(x=\"goals_to_shots\", y=\"perc_win\", data=df_england_f);"
   ]
  },
  {
   "cell_type": "markdown",
   "metadata": {},
   "source": [
    "> Let's try to check in English Premier League the percentage of games teams that had more possession during the game did eventually win it. We will exclude the Matches that ended up with a Draw and Matches that ended with Equal possession percentage.\n",
    "Counting games that ended with Win/loss"
   ]
  },
  {
   "cell_type": "code",
   "execution_count": 108,
   "metadata": {
    "collapsed": true
   },
   "outputs": [],
   "source": [
    "def poss_shoton_win(hgoal, agoal, homefeat, awayfeat):\n",
    "    '''Function that takes 4 arguments\n",
    "       home goal and away goal and other home or away\n",
    "       technical/tactical characteristics (shoton/possession)\n",
    "       of a team and returns:\n",
    "       *1 in case the characteritc in question\n",
    "       is dominant and the team won the game\n",
    "       *0 in case the characteritc in question\n",
    "       is dominant but the team lost the game\n",
    "       *None in case of Draw (D is ignored)'''\n",
    "    \n",
    "    if (hgoal > agoal) and (homefeat > awayfeat):\n",
    "        return 1\n",
    "    elif (hgoal < agoal) and (homefeat < awayfeat):\n",
    "        return 1\n",
    "    elif hgoal == agoal:\n",
    "        return None\n",
    "    else:\n",
    "        return 0\n",
    "\n",
    "def avgwin_poss_shoton(grouped, poss_shoton):\n",
    "    '''e.g returns average percentage of Games \n",
    "      won by team having more possession/shoton\n",
    "      during the game.\n",
    "      Sum of games won/(total games won + total games lost)\n",
    "     '''\n",
    "    \n",
    "    wp = grouped[poss_shoton]\n",
    "    return (wp.sum() / wp.count()) * 100 "
   ]
  },
  {
   "cell_type": "code",
   "execution_count": 169,
   "metadata": {},
   "outputs": [
    {
     "data": {
      "text/html": [
       "<div>\n",
       "<style>\n",
       "    .dataframe thead tr:only-child th {\n",
       "        text-align: right;\n",
       "    }\n",
       "\n",
       "    .dataframe thead th {\n",
       "        text-align: left;\n",
       "    }\n",
       "\n",
       "    .dataframe tbody tr th {\n",
       "        vertical-align: top;\n",
       "    }\n",
       "</style>\n",
       "<table border=\"1\" class=\"dataframe\">\n",
       "  <thead>\n",
       "    <tr style=\"text-align: right;\">\n",
       "      <th></th>\n",
       "      <th>match_id</th>\n",
       "      <th>country</th>\n",
       "      <th>season</th>\n",
       "      <th>stage</th>\n",
       "      <th>date</th>\n",
       "      <th>home_team</th>\n",
       "      <th>away_team</th>\n",
       "      <th>home_team_goal</th>\n",
       "      <th>away_team_goal</th>\n",
       "      <th>ateam_poss</th>\n",
       "      <th>hteam_poss</th>\n",
       "      <th>poss_win</th>\n",
       "    </tr>\n",
       "  </thead>\n",
       "  <tbody>\n",
       "    <tr>\n",
       "      <th>0</th>\n",
       "      <td>1729</td>\n",
       "      <td>England</td>\n",
       "      <td>2008</td>\n",
       "      <td>1</td>\n",
       "      <td>2008-08-17</td>\n",
       "      <td>Manchester United</td>\n",
       "      <td>Newcastle United</td>\n",
       "      <td>1</td>\n",
       "      <td>1</td>\n",
       "      <td>45.0</td>\n",
       "      <td>55.0</td>\n",
       "      <td>None</td>\n",
       "    </tr>\n",
       "    <tr>\n",
       "      <th>1</th>\n",
       "      <td>1730</td>\n",
       "      <td>England</td>\n",
       "      <td>2008</td>\n",
       "      <td>1</td>\n",
       "      <td>2008-08-16</td>\n",
       "      <td>Arsenal</td>\n",
       "      <td>West Bromwich Albion</td>\n",
       "      <td>1</td>\n",
       "      <td>0</td>\n",
       "      <td>34.0</td>\n",
       "      <td>66.0</td>\n",
       "      <td>1</td>\n",
       "    </tr>\n",
       "    <tr>\n",
       "      <th>2</th>\n",
       "      <td>1731</td>\n",
       "      <td>England</td>\n",
       "      <td>2008</td>\n",
       "      <td>1</td>\n",
       "      <td>2008-08-16</td>\n",
       "      <td>Sunderland</td>\n",
       "      <td>Liverpool</td>\n",
       "      <td>0</td>\n",
       "      <td>1</td>\n",
       "      <td>54.0</td>\n",
       "      <td>46.0</td>\n",
       "      <td>1</td>\n",
       "    </tr>\n",
       "    <tr>\n",
       "      <th>3</th>\n",
       "      <td>1732</td>\n",
       "      <td>England</td>\n",
       "      <td>2008</td>\n",
       "      <td>1</td>\n",
       "      <td>2008-08-16</td>\n",
       "      <td>West Ham United</td>\n",
       "      <td>Wigan Athletic</td>\n",
       "      <td>2</td>\n",
       "      <td>1</td>\n",
       "      <td>48.0</td>\n",
       "      <td>52.0</td>\n",
       "      <td>1</td>\n",
       "    </tr>\n",
       "    <tr>\n",
       "      <th>4</th>\n",
       "      <td>1733</td>\n",
       "      <td>England</td>\n",
       "      <td>2008</td>\n",
       "      <td>1</td>\n",
       "      <td>2008-08-17</td>\n",
       "      <td>Aston Villa</td>\n",
       "      <td>Manchester City</td>\n",
       "      <td>4</td>\n",
       "      <td>2</td>\n",
       "      <td>48.0</td>\n",
       "      <td>52.0</td>\n",
       "      <td>1</td>\n",
       "    </tr>\n",
       "  </tbody>\n",
       "</table>\n",
       "</div>"
      ],
      "text/plain": [
       "   match_id  country season  stage       date          home_team  \\\n",
       "0      1729  England   2008      1 2008-08-17  Manchester United   \n",
       "1      1730  England   2008      1 2008-08-16            Arsenal   \n",
       "2      1731  England   2008      1 2008-08-16         Sunderland   \n",
       "3      1732  England   2008      1 2008-08-16    West Ham United   \n",
       "4      1733  England   2008      1 2008-08-17        Aston Villa   \n",
       "\n",
       "              away_team  home_team_goal  away_team_goal  ateam_poss  \\\n",
       "0      Newcastle United               1               1        45.0   \n",
       "1  West Bromwich Albion               1               0        34.0   \n",
       "2             Liverpool               0               1        54.0   \n",
       "3        Wigan Athletic               2               1        48.0   \n",
       "4       Manchester City               4               2        48.0   \n",
       "\n",
       "   hteam_poss poss_win  \n",
       "0        55.0     None  \n",
       "1        66.0        1  \n",
       "2        46.0        1  \n",
       "3        52.0        1  \n",
       "4        52.0        1  "
      ]
     },
     "execution_count": 169,
     "metadata": {},
     "output_type": "execute_result"
    }
   ],
   "source": [
    "epl_poss_win = epl_poss.copy()\n",
    "\n",
    "#create a new column called 'poss_win' which is the average percentage of games won by teams\n",
    "#in which they had more possession.\n",
    "#use np.vectorize() to suply the poss_shoton_win with more than one argument\n",
    "epl_poss_win['poss_win'] = np.vectorize(poss_shoton_win) (epl_poss_win['home_team_goal']\n",
    "                                                          , epl_poss_win['away_team_goal'],\n",
    "                                                            epl_poss_win['hteam_poss'], \n",
    "                                                          epl_poss_win['ateam_poss'])\n",
    "\n",
    "epl_poss_win.head()"
   ]
  },
  {
   "cell_type": "markdown",
   "metadata": {},
   "source": [
    ">In the premier league teams with more possessions win in Average 60% of the Games."
   ]
  },
  {
   "cell_type": "code",
   "execution_count": 116,
   "metadata": {},
   "outputs": [
    {
     "data": {
      "text/plain": [
       "60.623014530133545"
      ]
     },
     "execution_count": 116,
     "metadata": {},
     "output_type": "execute_result"
    }
   ],
   "source": [
    "##calling avgwin_poss_shoton function\n",
    "moreposs_win = epl_poss_win.groupby(['season']).apply(avgwin_poss_shoton, 'poss_win')\n",
    "\n",
    "moreposs_win.mean()"
   ]
  },
  {
   "cell_type": "markdown",
   "metadata": {},
   "source": [
    "> Now let's try a similar approach to check Average percentage of Games Won by teams who\n",
    "had more shots on Goal"
   ]
  },
  {
   "cell_type": "code",
   "execution_count": 126,
   "metadata": {},
   "outputs": [
    {
     "data": {
      "text/html": [
       "<div>\n",
       "<style>\n",
       "    .dataframe thead tr:only-child th {\n",
       "        text-align: right;\n",
       "    }\n",
       "\n",
       "    .dataframe thead th {\n",
       "        text-align: left;\n",
       "    }\n",
       "\n",
       "    .dataframe tbody tr th {\n",
       "        vertical-align: top;\n",
       "    }\n",
       "</style>\n",
       "<table border=\"1\" class=\"dataframe\">\n",
       "  <thead>\n",
       "    <tr style=\"text-align: right;\">\n",
       "      <th></th>\n",
       "      <th>match_id</th>\n",
       "      <th>country</th>\n",
       "      <th>season</th>\n",
       "      <th>stage</th>\n",
       "      <th>date</th>\n",
       "      <th>home_team</th>\n",
       "      <th>away_team</th>\n",
       "      <th>home_team_goal</th>\n",
       "      <th>away_team_goal</th>\n",
       "      <th>ateam_shoton</th>\n",
       "      <th>club_id_x</th>\n",
       "      <th>club_id_y</th>\n",
       "      <th>hteam_shoton</th>\n",
       "      <th>shoton_win</th>\n",
       "    </tr>\n",
       "  </thead>\n",
       "  <tbody>\n",
       "    <tr>\n",
       "      <th>0</th>\n",
       "      <td>1729</td>\n",
       "      <td>England</td>\n",
       "      <td>2008</td>\n",
       "      <td>1</td>\n",
       "      <td>2008-08-17</td>\n",
       "      <td>Manchester United</td>\n",
       "      <td>Newcastle United</td>\n",
       "      <td>1</td>\n",
       "      <td>1</td>\n",
       "      <td>1</td>\n",
       "      <td>10261</td>\n",
       "      <td>10260</td>\n",
       "      <td>11</td>\n",
       "      <td>None</td>\n",
       "    </tr>\n",
       "    <tr>\n",
       "      <th>1</th>\n",
       "      <td>1730</td>\n",
       "      <td>England</td>\n",
       "      <td>2008</td>\n",
       "      <td>1</td>\n",
       "      <td>2008-08-16</td>\n",
       "      <td>Arsenal</td>\n",
       "      <td>West Bromwich Albion</td>\n",
       "      <td>1</td>\n",
       "      <td>0</td>\n",
       "      <td>2</td>\n",
       "      <td>8659</td>\n",
       "      <td>9825</td>\n",
       "      <td>12</td>\n",
       "      <td>1</td>\n",
       "    </tr>\n",
       "    <tr>\n",
       "      <th>2</th>\n",
       "      <td>1731</td>\n",
       "      <td>England</td>\n",
       "      <td>2008</td>\n",
       "      <td>1</td>\n",
       "      <td>2008-08-16</td>\n",
       "      <td>Sunderland</td>\n",
       "      <td>Liverpool</td>\n",
       "      <td>0</td>\n",
       "      <td>1</td>\n",
       "      <td>11</td>\n",
       "      <td>8650</td>\n",
       "      <td>8472</td>\n",
       "      <td>4</td>\n",
       "      <td>1</td>\n",
       "    </tr>\n",
       "    <tr>\n",
       "      <th>3</th>\n",
       "      <td>1732</td>\n",
       "      <td>England</td>\n",
       "      <td>2008</td>\n",
       "      <td>1</td>\n",
       "      <td>2008-08-16</td>\n",
       "      <td>West Ham United</td>\n",
       "      <td>Wigan Athletic</td>\n",
       "      <td>2</td>\n",
       "      <td>1</td>\n",
       "      <td>7</td>\n",
       "      <td>8528</td>\n",
       "      <td>8654</td>\n",
       "      <td>5</td>\n",
       "      <td>0</td>\n",
       "    </tr>\n",
       "    <tr>\n",
       "      <th>4</th>\n",
       "      <td>1733</td>\n",
       "      <td>England</td>\n",
       "      <td>2008</td>\n",
       "      <td>1</td>\n",
       "      <td>2008-08-17</td>\n",
       "      <td>Aston Villa</td>\n",
       "      <td>Manchester City</td>\n",
       "      <td>4</td>\n",
       "      <td>2</td>\n",
       "      <td>9</td>\n",
       "      <td>8456</td>\n",
       "      <td>10252</td>\n",
       "      <td>5</td>\n",
       "      <td>0</td>\n",
       "    </tr>\n",
       "  </tbody>\n",
       "</table>\n",
       "</div>"
      ],
      "text/plain": [
       "   match_id  country season  stage       date          home_team  \\\n",
       "0      1729  England   2008      1 2008-08-17  Manchester United   \n",
       "1      1730  England   2008      1 2008-08-16            Arsenal   \n",
       "2      1731  England   2008      1 2008-08-16         Sunderland   \n",
       "3      1732  England   2008      1 2008-08-16    West Ham United   \n",
       "4      1733  England   2008      1 2008-08-17        Aston Villa   \n",
       "\n",
       "              away_team  home_team_goal  away_team_goal  ateam_shoton  \\\n",
       "0      Newcastle United               1               1             1   \n",
       "1  West Bromwich Albion               1               0             2   \n",
       "2             Liverpool               0               1            11   \n",
       "3        Wigan Athletic               2               1             7   \n",
       "4       Manchester City               4               2             9   \n",
       "\n",
       "   club_id_x  club_id_y  hteam_shoton shoton_win  \n",
       "0      10261      10260            11       None  \n",
       "1       8659       9825            12          1  \n",
       "2       8650       8472             4          1  \n",
       "3       8528       8654             5          0  \n",
       "4       8456      10252             5          0  "
      ]
     },
     "execution_count": 126,
     "metadata": {},
     "output_type": "execute_result"
    }
   ],
   "source": [
    "epl_shoton_win = epl_shoton.copy()\n",
    "\n",
    "#create a new column called 'shoton_win' which is the average percentage of games won by teams\n",
    "#in which they had more Shoton target.\n",
    "#use np.vectorize() to suply the poss_shoton_win with more than one argument\n",
    "\n",
    "epl_shoton_win['shoton_win'] = np.vectorize(poss_shoton_win) (epl_shoton_win['home_team_goal'], epl_shoton_win['away_team_goal'],\n",
    "                                                    epl_shoton_win['hteam_shoton'], epl_shoton_win['ateam_shoton'])\n",
    "epl_shoton_win.head()"
   ]
  },
  {
   "cell_type": "markdown",
   "metadata": {},
   "source": [
    "> In the English Premier league Team with more Shoton Target (including blocked/deflected shots) win 52% of the Game"
   ]
  },
  {
   "cell_type": "code",
   "execution_count": 127,
   "metadata": {},
   "outputs": [
    {
     "data": {
      "text/plain": [
       "52.207402766062096"
      ]
     },
     "execution_count": 127,
     "metadata": {},
     "output_type": "execute_result"
    }
   ],
   "source": [
    "#calling avgwin_poss_shoton function\n",
    "moreshoton_win= epl_shoton_win.groupby(['season']).apply(avgwin_poss_shoton, 'shoton_win')\n",
    "moreshoton_win.mean()"
   ]
  },
  {
   "cell_type": "markdown",
   "metadata": {},
   "source": [
    "> Bar plot Percentage of Games won by Teams with more possession\n",
    "> Bar plot Percentage of Games won by Teams with more shoton target"
   ]
  },
  {
   "cell_type": "code",
   "execution_count": 132,
   "metadata": {},
   "outputs": [],
   "source": [
    "#preparing DataFrame for plotting\n",
    "df_moreposs_win = pd.DataFrame({'season':moreposs_win.index, 'poss_winperc':moreposs_win.values})\n",
    "df_moreshoton_win = pd.DataFrame({'season':moreshoton_win.index, 'shoton_winperc':moreshoton_win.values})\n"
   ]
  },
  {
   "cell_type": "code",
   "execution_count": 134,
   "metadata": {},
   "outputs": [
    {
     "data": {
      "text/html": [
       "<div>\n",
       "<style>\n",
       "    .dataframe thead tr:only-child th {\n",
       "        text-align: right;\n",
       "    }\n",
       "\n",
       "    .dataframe thead th {\n",
       "        text-align: left;\n",
       "    }\n",
       "\n",
       "    .dataframe tbody tr th {\n",
       "        vertical-align: top;\n",
       "    }\n",
       "</style>\n",
       "<table border=\"1\" class=\"dataframe\">\n",
       "  <thead>\n",
       "    <tr style=\"text-align: right;\">\n",
       "      <th></th>\n",
       "      <th>season</th>\n",
       "      <th>shoton_winperc</th>\n",
       "    </tr>\n",
       "  </thead>\n",
       "  <tbody>\n",
       "    <tr>\n",
       "      <th>0</th>\n",
       "      <td>2008</td>\n",
       "      <td>54.063604</td>\n",
       "    </tr>\n",
       "    <tr>\n",
       "      <th>1</th>\n",
       "      <td>2009</td>\n",
       "      <td>52.464789</td>\n",
       "    </tr>\n",
       "    <tr>\n",
       "      <th>2</th>\n",
       "      <td>2010</td>\n",
       "      <td>49.814126</td>\n",
       "    </tr>\n",
       "    <tr>\n",
       "      <th>3</th>\n",
       "      <td>2011</td>\n",
       "      <td>51.567944</td>\n",
       "    </tr>\n",
       "    <tr>\n",
       "      <th>4</th>\n",
       "      <td>2012</td>\n",
       "      <td>56.985294</td>\n",
       "    </tr>\n",
       "    <tr>\n",
       "      <th>5</th>\n",
       "      <td>2013</td>\n",
       "      <td>51.655629</td>\n",
       "    </tr>\n",
       "    <tr>\n",
       "      <th>6</th>\n",
       "      <td>2014</td>\n",
       "      <td>49.825784</td>\n",
       "    </tr>\n",
       "    <tr>\n",
       "      <th>7</th>\n",
       "      <td>2015</td>\n",
       "      <td>51.282051</td>\n",
       "    </tr>\n",
       "  </tbody>\n",
       "</table>\n",
       "</div>"
      ],
      "text/plain": [
       "  season  shoton_winperc\n",
       "0   2008       54.063604\n",
       "1   2009       52.464789\n",
       "2   2010       49.814126\n",
       "3   2011       51.567944\n",
       "4   2012       56.985294\n",
       "5   2013       51.655629\n",
       "6   2014       49.825784\n",
       "7   2015       51.282051"
      ]
     },
     "execution_count": 134,
     "metadata": {},
     "output_type": "execute_result"
    }
   ],
   "source": [
    "df_moreshoton_win"
   ]
  },
  {
   "cell_type": "code",
   "execution_count": 133,
   "metadata": {},
   "outputs": [
    {
     "data": {
      "text/html": [
       "<div>\n",
       "<style>\n",
       "    .dataframe thead tr:only-child th {\n",
       "        text-align: right;\n",
       "    }\n",
       "\n",
       "    .dataframe thead th {\n",
       "        text-align: left;\n",
       "    }\n",
       "\n",
       "    .dataframe tbody tr th {\n",
       "        vertical-align: top;\n",
       "    }\n",
       "</style>\n",
       "<table border=\"1\" class=\"dataframe\">\n",
       "  <thead>\n",
       "    <tr style=\"text-align: right;\">\n",
       "      <th></th>\n",
       "      <th>poss_winperc</th>\n",
       "      <th>season</th>\n",
       "    </tr>\n",
       "  </thead>\n",
       "  <tbody>\n",
       "    <tr>\n",
       "      <th>0</th>\n",
       "      <td>67.844523</td>\n",
       "      <td>2008</td>\n",
       "    </tr>\n",
       "    <tr>\n",
       "      <th>1</th>\n",
       "      <td>67.605634</td>\n",
       "      <td>2009</td>\n",
       "    </tr>\n",
       "    <tr>\n",
       "      <th>2</th>\n",
       "      <td>61.710037</td>\n",
       "      <td>2010</td>\n",
       "    </tr>\n",
       "    <tr>\n",
       "      <th>3</th>\n",
       "      <td>65.853659</td>\n",
       "      <td>2011</td>\n",
       "    </tr>\n",
       "    <tr>\n",
       "      <th>4</th>\n",
       "      <td>62.500000</td>\n",
       "      <td>2012</td>\n",
       "    </tr>\n",
       "    <tr>\n",
       "      <th>5</th>\n",
       "      <td>55.298013</td>\n",
       "      <td>2013</td>\n",
       "    </tr>\n",
       "    <tr>\n",
       "      <th>6</th>\n",
       "      <td>54.355401</td>\n",
       "      <td>2014</td>\n",
       "    </tr>\n",
       "    <tr>\n",
       "      <th>7</th>\n",
       "      <td>49.816850</td>\n",
       "      <td>2015</td>\n",
       "    </tr>\n",
       "  </tbody>\n",
       "</table>\n",
       "</div>"
      ],
      "text/plain": [
       "   poss_winperc season\n",
       "0     67.844523   2008\n",
       "1     67.605634   2009\n",
       "2     61.710037   2010\n",
       "3     65.853659   2011\n",
       "4     62.500000   2012\n",
       "5     55.298013   2013\n",
       "6     54.355401   2014\n",
       "7     49.816850   2015"
      ]
     },
     "execution_count": 133,
     "metadata": {},
     "output_type": "execute_result"
    }
   ],
   "source": [
    "df_moreposs_win"
   ]
  },
  {
   "cell_type": "code",
   "execution_count": 135,
   "metadata": {},
   "outputs": [
    {
     "data": {
      "image/png": "[encoded data removed]",
      "text/plain": [
       "<matplotlib.figure.Figure at 0x17798150>"
      ]
     },
     "metadata": {},
     "output_type": "display_data"
    }
   ],
   "source": [
    "# percentage of game won by team having more possession in the game\n",
    "#not counting matches that ended with a Draw\n",
    "\n",
    "fig, axes = plt.subplots(1,2, figsize=(12, 4))\n",
    "sns.barplot(y=\"season\", x=\"poss_winperc\",  data=df_moreposs_win, orient ='h', palette = 'viridis', ax=axes[0])\n",
    "axes[0].set_title('perc. of games won by teams who had more possession')\n",
    "sns.barplot(y=\"season\", x=\"shoton_winperc\",  data=df_moreshoton_win, orient ='h', palette = 'viridis', ax=axes[1])\n",
    "axes[1].set_title('perc. of games won by teams who had more shots on goal')\n",
    "plt.tight_layout()\n",
    "plt.subplots_adjust(left=0.2, wspace=0.3, top=1)"
   ]
  },
  {
   "cell_type": "markdown",
   "metadata": {},
   "source": [
    "> Finally Bar charts showing (England Elites vs other teams):<br>\n",
    "> Avg possession <br>\n",
    "> Avg Shoton <br>\n",
    "> The ratio of Goals to shots <br> "
   ]
  },
  {
   "cell_type": "code",
   "execution_count": 137,
   "metadata": {},
   "outputs": [
    {
     "data": {
      "image/png": "[encoded data removed]",
      "text/plain": [
       "<matplotlib.figure.Figure at 0x1737e630>"
      ]
     },
     "metadata": {},
     "output_type": "display_data"
    }
   ],
   "source": [
    "fig, (ax1, ax2, ax3) = plt.subplots(3,1, figsize=(8, 8),sharex = True)\n",
    "fig.suptitle(\"league Elite teams vs Others ({0})\".format('England'), fontsize=14)\n",
    "sns.barplot(x='season', y='Avg_possession', hue='level' , data=df_england_f, ax=ax1, palette='viridis')\n",
    "ax1.legend(bbox_to_anchor=(1.05,1), loc=0, borderaxespad=0.)\n",
    "sns.barplot(x='season', y='Avg_shoton', hue='level' , data=df_england_f, ax=ax2, palette='viridis' )\n",
    "ax2.legend(bbox_to_anchor=(1.05,1), loc=0, borderaxespad=0.)\n",
    "sns.barplot(x='season', y='goals_to_shots', hue='level' , data=df_england_f, ax=ax3, palette='viridis' )\n",
    "ax3.legend(bbox_to_anchor=(1.05,1), loc=0, borderaxespad=0.);"
   ]
  },
  {
   "cell_type": "markdown",
   "metadata": {},
   "source": [
    ">Average of Ratio goals to shots (Elite vs Others)"
   ]
  },
  {
   "cell_type": "code",
   "execution_count": 166,
   "metadata": {},
   "outputs": [
    {
     "data": {
      "text/plain": [
       "level\n",
       "elite    26.567327\n",
       "other    21.670881\n",
       "Name: goals_to_shots, dtype: float64"
      ]
     },
     "execution_count": 166,
     "metadata": {},
     "output_type": "execute_result"
    }
   ],
   "source": [
    "df_england_f.groupby('level').mean()['goals_to_shots']"
   ]
  },
  {
   "cell_type": "markdown",
   "metadata": {},
   "source": [
    "> let's explore which EPL Team has improved the most between 2012 and 2014"
   ]
  },
  {
   "cell_type": "code",
   "execution_count": 139,
   "metadata": {
    "collapsed": true
   },
   "outputs": [],
   "source": [
    "#create 2 DFs one for season 2012 and other for season 2014\n",
    "#from the original England Data Set.\n",
    "\n",
    "df_england_f_12 = df_england_f[df_england_f.season == '2012']\n",
    "df_england_f_14 = df_england_f[df_england_f.season == '2014']"
   ]
  },
  {
   "cell_type": "code",
   "execution_count": 143,
   "metadata": {},
   "outputs": [
    {
     "data": {
      "text/html": [
       "<div>\n",
       "<style>\n",
       "    .dataframe thead tr:only-child th {\n",
       "        text-align: right;\n",
       "    }\n",
       "\n",
       "    .dataframe thead th {\n",
       "        text-align: left;\n",
       "    }\n",
       "\n",
       "    .dataframe tbody tr th {\n",
       "        vertical-align: top;\n",
       "    }\n",
       "</style>\n",
       "<table border=\"1\" class=\"dataframe\">\n",
       "  <thead>\n",
       "    <tr style=\"text-align: right;\">\n",
       "      <th></th>\n",
       "      <th>perc_win12</th>\n",
       "    </tr>\n",
       "    <tr>\n",
       "      <th>team</th>\n",
       "      <th></th>\n",
       "    </tr>\n",
       "  </thead>\n",
       "  <tbody>\n",
       "    <tr>\n",
       "      <th>Arsenal</th>\n",
       "      <td>55.263158</td>\n",
       "    </tr>\n",
       "    <tr>\n",
       "      <th>Aston Villa</th>\n",
       "      <td>26.315789</td>\n",
       "    </tr>\n",
       "    <tr>\n",
       "      <th>Chelsea</th>\n",
       "      <td>57.894737</td>\n",
       "    </tr>\n",
       "    <tr>\n",
       "      <th>Everton</th>\n",
       "      <td>42.105263</td>\n",
       "    </tr>\n",
       "    <tr>\n",
       "      <th>Fulham</th>\n",
       "      <td>28.947368</td>\n",
       "    </tr>\n",
       "  </tbody>\n",
       "</table>\n",
       "</div>"
      ],
      "text/plain": [
       "             perc_win12\n",
       "team                   \n",
       "Arsenal       55.263158\n",
       "Aston Villa   26.315789\n",
       "Chelsea       57.894737\n",
       "Everton       42.105263\n",
       "Fulham        28.947368"
      ]
     },
     "execution_count": 143,
     "metadata": {},
     "output_type": "execute_result"
    }
   ],
   "source": [
    "#setting team as index\n",
    "win_perc_12 = df_england_f_12[['team','perc_win']].set_index('team')\n",
    "#Renaming perc_win to perc_win12 to differentiate later with perc_win of 2015\n",
    "win_perc_12.rename(columns={'perc_win': 'perc_win12'}, inplace = True)\n",
    "\n",
    "win_perc_12.head()"
   ]
  },
  {
   "cell_type": "code",
   "execution_count": 144,
   "metadata": {},
   "outputs": [
    {
     "data": {
      "text/html": [
       "<div>\n",
       "<style>\n",
       "    .dataframe thead tr:only-child th {\n",
       "        text-align: right;\n",
       "    }\n",
       "\n",
       "    .dataframe thead th {\n",
       "        text-align: left;\n",
       "    }\n",
       "\n",
       "    .dataframe tbody tr th {\n",
       "        vertical-align: top;\n",
       "    }\n",
       "</style>\n",
       "<table border=\"1\" class=\"dataframe\">\n",
       "  <thead>\n",
       "    <tr style=\"text-align: right;\">\n",
       "      <th></th>\n",
       "      <th>perc_win12</th>\n",
       "    </tr>\n",
       "    <tr>\n",
       "      <th>team</th>\n",
       "      <th></th>\n",
       "    </tr>\n",
       "  </thead>\n",
       "  <tbody>\n",
       "    <tr>\n",
       "      <th>Arsenal</th>\n",
       "      <td>55.263158</td>\n",
       "    </tr>\n",
       "    <tr>\n",
       "      <th>Aston Villa</th>\n",
       "      <td>26.315789</td>\n",
       "    </tr>\n",
       "    <tr>\n",
       "      <th>Chelsea</th>\n",
       "      <td>57.894737</td>\n",
       "    </tr>\n",
       "    <tr>\n",
       "      <th>Everton</th>\n",
       "      <td>42.105263</td>\n",
       "    </tr>\n",
       "    <tr>\n",
       "      <th>Fulham</th>\n",
       "      <td>28.947368</td>\n",
       "    </tr>\n",
       "  </tbody>\n",
       "</table>\n",
       "</div>"
      ],
      "text/plain": [
       "             perc_win12\n",
       "team                   \n",
       "Arsenal       55.263158\n",
       "Aston Villa   26.315789\n",
       "Chelsea       57.894737\n",
       "Everton       42.105263\n",
       "Fulham        28.947368"
      ]
     },
     "execution_count": 144,
     "metadata": {},
     "output_type": "execute_result"
    }
   ],
   "source": [
    "#setting team as index\n",
    "win_perc_14 = df_england_f_14[['team','perc_win']].set_index('team')\n",
    "win_perc_12.head()"
   ]
  },
  {
   "cell_type": "code",
   "execution_count": 145,
   "metadata": {
    "collapsed": true
   },
   "outputs": [],
   "source": [
    "#win diff is concatenation of win_perc_12 and win_perc_14\n",
    "win_diff = pd.concat([win_perc_12,win_perc_14 ], axis=1)\n",
    "win_diff.dropna(inplace = True)"
   ]
  },
  {
   "cell_type": "code",
   "execution_count": 146,
   "metadata": {
    "collapsed": true
   },
   "outputs": [],
   "source": [
    "#create a new column to store the difference in win percentage\n",
    "win_diff['improv'] = win_diff.perc_win - win_diff.perc_win12"
   ]
  },
  {
   "cell_type": "code",
   "execution_count": 147,
   "metadata": {
    "collapsed": true
   },
   "outputs": [],
   "source": [
    "# store in only_improved teams who have improved based on average win percentage\n",
    "only_improved = win_diff[win_diff.improv > 0].sort_values('improv', ascending = False)"
   ]
  },
  {
   "cell_type": "markdown",
   "metadata": {},
   "source": [
    "> The team who improved the most is 'Southampton'"
   ]
  },
  {
   "cell_type": "code",
   "execution_count": 148,
   "metadata": {},
   "outputs": [
    {
     "data": {
      "text/plain": [
       "'Southampton'"
      ]
     },
     "execution_count": 148,
     "metadata": {},
     "output_type": "execute_result"
    }
   ],
   "source": [
    " only_improved['improv'].argmax()"
   ]
  },
  {
   "cell_type": "markdown",
   "metadata": {},
   "source": [
    ">let's plot teams with increase of Win percentage from 2012 to 2014"
   ]
  },
  {
   "cell_type": "code",
   "execution_count": 150,
   "metadata": {},
   "outputs": [
    {
     "data": {
      "image/png": "[encoded data removed]",
      "text/plain": [
       "<matplotlib.figure.Figure at 0x1730ead0>"
      ]
     },
     "metadata": {},
     "output_type": "display_data"
    }
   ],
   "source": [
    "plt.subplots(figsize=(5, 4))\n",
    "plt.barh(only_improved.index, only_improved['improv'])\n",
    "plt.title('Improvements in Winning percentage from 2012 to 2015 by team')\n",
    "plt.xlabel('Increase in Winning Percentage')\n",
    "plt.ylabel('team');"
   ]
  },
  {
   "cell_type": "markdown",
   "metadata": {},
   "source": [
    "> Looking at different parameters between 2012 and 2014 we notice that Avg possession increased from 48.7% to 53/%, goal_to_shots also increased from 22% to 26%.\n",
    "> But the most important parametr to look for is the decrease in the number of goal conceded \n",
    "it dropped from 60 goals in 2012 to 33 in 2014."
   ]
  },
  {
   "cell_type": "code",
   "execution_count": 151,
   "metadata": {},
   "outputs": [
    {
     "data": {
      "text/html": [
       "<div>\n",
       "<style>\n",
       "    .dataframe thead tr:only-child th {\n",
       "        text-align: right;\n",
       "    }\n",
       "\n",
       "    .dataframe thead th {\n",
       "        text-align: left;\n",
       "    }\n",
       "\n",
       "    .dataframe tbody tr th {\n",
       "        vertical-align: top;\n",
       "    }\n",
       "</style>\n",
       "<table border=\"1\" class=\"dataframe\">\n",
       "  <thead>\n",
       "    <tr style=\"text-align: right;\">\n",
       "      <th></th>\n",
       "      <th>team</th>\n",
       "      <th>season</th>\n",
       "      <th>away_perc_win</th>\n",
       "      <th>goal_against</th>\n",
       "      <th>goal_for</th>\n",
       "      <th>home_perc_win</th>\n",
       "      <th>played</th>\n",
       "      <th>shoton</th>\n",
       "      <th>win</th>\n",
       "      <th>perc_win</th>\n",
       "      <th>goal_for_game</th>\n",
       "      <th>goal_against_game</th>\n",
       "      <th>Avg_possession</th>\n",
       "      <th>Avg_shoton</th>\n",
       "      <th>goals_to_shots</th>\n",
       "      <th>level</th>\n",
       "    </tr>\n",
       "  </thead>\n",
       "  <tbody>\n",
       "    <tr>\n",
       "      <th>104</th>\n",
       "      <td>Southampton</td>\n",
       "      <td>2012</td>\n",
       "      <td>15.789474</td>\n",
       "      <td>60.0</td>\n",
       "      <td>49.0</td>\n",
       "      <td>31.578947</td>\n",
       "      <td>38.0</td>\n",
       "      <td>223.0</td>\n",
       "      <td>9.0</td>\n",
       "      <td>23.684211</td>\n",
       "      <td>1.289474</td>\n",
       "      <td>1.578947</td>\n",
       "      <td>48.763158</td>\n",
       "      <td>5.868421</td>\n",
       "      <td>21.973094</td>\n",
       "      <td>other</td>\n",
       "    </tr>\n",
       "    <tr>\n",
       "      <th>106</th>\n",
       "      <td>Southampton</td>\n",
       "      <td>2014</td>\n",
       "      <td>36.842105</td>\n",
       "      <td>33.0</td>\n",
       "      <td>54.0</td>\n",
       "      <td>57.894737</td>\n",
       "      <td>38.0</td>\n",
       "      <td>209.0</td>\n",
       "      <td>18.0</td>\n",
       "      <td>47.368421</td>\n",
       "      <td>1.421053</td>\n",
       "      <td>0.868421</td>\n",
       "      <td>53.210526</td>\n",
       "      <td>5.500000</td>\n",
       "      <td>25.837321</td>\n",
       "      <td>other</td>\n",
       "    </tr>\n",
       "  </tbody>\n",
       "</table>\n",
       "</div>"
      ],
      "text/plain": [
       "            team season  away_perc_win  goal_against  goal_for  home_perc_win  \\\n",
       "104  Southampton   2012      15.789474          60.0      49.0      31.578947   \n",
       "106  Southampton   2014      36.842105          33.0      54.0      57.894737   \n",
       "\n",
       "     played  shoton   win   perc_win  goal_for_game  goal_against_game  \\\n",
       "104    38.0   223.0   9.0  23.684211       1.289474           1.578947   \n",
       "106    38.0   209.0  18.0  47.368421       1.421053           0.868421   \n",
       "\n",
       "     Avg_possession  Avg_shoton  goals_to_shots  level  \n",
       "104       48.763158    5.868421       21.973094  other  \n",
       "106       53.210526    5.500000       25.837321  other  "
      ]
     },
     "execution_count": 151,
     "metadata": {},
     "output_type": "execute_result"
    }
   ],
   "source": [
    "#store Southampton parameters on 2012 and 2014\n",
    "Southampton_12_14 = df_england_f[(df_england_f.season.isin(['2012', '2014'])) & (df_england_f.team == 'Southampton')]\n",
    "Southampton_12_14"
   ]
  },
  {
   "cell_type": "markdown",
   "metadata": {},
   "source": [
    "<a id='conclusions'></a>\n",
    "## Conclusions\n",
    "\n",
    "> First of based on the average Win percentage, we tried to classify teams from the top 4 leagues \n",
    "in Europe (England, Spain, Germany and Italy) between Elites and the rest of the teams. <br>\n",
    "> Elite teams (with Average Win percentage above 50% from 2009 to 2015) are considered the successful teams that dominate their domestic leagues.<br>\n",
    "> Following that we found that Elite teams tend to Score in Average more goals with a difference of 0.77 goal per game compared to the rest of the teams, while this difference decreases to 0.47 in case of Goal conceded.<br> \n",
    "__Though this difference depends on more than one variable and more exploration and statistical analysis is needed__ to confirm it, but maybe we can attribute that to the offensive weapons that Elite teams possess.<br> \n",
    ">While defensively smaller teams with less resources can still be tactically well organized to reduce the chances of conceding more goals and thus reducing the margin of difference in Goals conceded compared to Goals scored.\n",
    "\n",
    ">Now looking at percentage of possession, we found in the English Premier League that 62% of games are won by teams with more possession, also Elite teams tend to have more possession in Average compared to the rest of the teams. __But we cannot rely on possession solely as a indicator for Winning games as other factors comes into place to influence the possession itself__. <br>\n",
    ">Also we tried to explore the shoton target, and found in the EPL teams with more Shoton target wins\n",
    "in Average around 52% of the games. And Elite teams had more Average shoton Targets when compared to the rest of the teams, but again this is one of the key performance measures to look when studying sucessful vs unsuccessful teams.<br> \n",
    "> We tried to check the ratio of goals per shots and found that Elite teams in Average tend to have higher ratio of Goals per shots 26.5 % vs 21.6% for the rest of the teams.\n",
    "\n",
    "> Finally the info that we obtained here might vary and be invalid in other leagues or competitions.\n"
   ]
  },
  {
   "cell_type": "markdown",
   "metadata": {},
   "source": [
    "### References:\n",
    "\n",
    "https://stackoverflow.com/questions/19914937/applying-function-with-multiple-arguments-to-create-a-new-pandas-column\n",
    "\n",
    "https://alysivji.github.io/pl-analysis-part1-finding-longest-consecutive-position-streak.html\n",
    "\n",
    "https://chrisalbon.com/python/pandas_create_column_using_conditional.html\n",
    "\n",
    "https://pandas.pydata.org/pandas-docs/stable/generated/pandas.Series.map.html\n",
    "\n",
    "https://stackoverflow.com/questions/38082602/plotting-multiple-different-plots-in-one-figure-using-seaborn\n",
    "\n",
    "https://seaborn.pydata.org/\n",
    "\n",
    "https://matplotlib.org/\n",
    "\n",
    "https://tomaugspurger.github.io/modern-5-tidy.html\n",
    "\n",
    "https://exceptionshub.com/applying-function-with-multiple-arguments-to-create-a-new-pandas-column.html\n",
    "\n",
    "https://www.kaggle.com/dimarudov/data-analysis-using-sql\n",
    "\n",
    "https://www.kaggle.com/hugomathien/soccer/discussion/44871\n",
    "\n",
    "https://www.kaggle.com/timon88/extracting-goal-times/comments\n",
    "\n",
    "https://www.kaggle.com/jiezi2004/the-beautiful-game-1-data-preparation\n",
    "\n",
    "https://www.kaggle.com/jiezi2004/soccer"
   ]
  }
 ],
 "metadata": {
  "kernelspec": {
   "display_name": "Python 3",
   "language": "python",
   "name": "python3"
  },
  "language_info": {
   "codemirror_mode": {
    "name": "ipython",
    "version": 3
   },
   "file_extension": ".py",
   "mimetype": "text/x-python",
   "name": "python",
   "nbconvert_exporter": "python",
   "pygments_lexer": "ipython3",
   "version": "3.6.1"
  }
 },
 "nbformat": 4,
 "nbformat_minor": 2
}
